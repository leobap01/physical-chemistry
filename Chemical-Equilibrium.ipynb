{
 "cells": [
  {
   "cell_type": "markdown",
   "metadata": {
    "id": "80BEuNUtngjJ"
   },
   "source": [
    "# **Exercises about chemical equilibrium** \n",
    "\n"
   ]
  },
  {
   "cell_type": "code",
   "execution_count": 1,
   "metadata": {
    "executionInfo": {
     "elapsed": 1889,
     "status": "ok",
     "timestamp": 1608149052575,
     "user": {
      "displayName": "Leonardo Baptista",
      "photoUrl": "https://lh3.googleusercontent.com/a-/AOh14GjRLOphTSKAaa1hk9s-yG76WfgeyIS9u1K4s3iv8A=s64",
      "userId": "16746628627498894795"
     },
     "user_tz": 180
    },
    "id": "jgcPQCpAe8FA"
   },
   "outputs": [],
   "source": [
    "# Loading of the necessary packages to solve the exercises\n",
    "import numpy as np\n",
    "from scipy.optimize import fsolve"
   ]
  },
  {
   "cell_type": "markdown",
   "metadata": {
    "id": "7R_dbPnIe8FK"
   },
   "source": [
    "# Exercise 1)"
   ]
  },
  {
   "cell_type": "markdown",
   "metadata": {
    "id": "CrgrB9B7e8FM"
   },
   "source": [
    "a) Use thermodynamic data tables to calculate the equilibrium constant of the reaction  $ N_2(g) + O_2(g) <=> 2NO(g) $ at T = 298.15 K, and 1 bar (0.987 atm). Estimate the NO concentration in the atmospheric air at equilibrium at the following conditions : b)  T = 298.15 K, and 1 atm, and c) T = 2000 K, and 1 atm. "
   ]
  },
  {
   "cell_type": "markdown",
   "metadata": {
    "id": "B1Cjw58ve8FQ"
   },
   "source": [
    "##  Solution:\n",
    "The first thing is to calculate the free energy of the reaction. Next, the equation $ K = -RTln(\\Delta_r G^0)$ is used to calculate the equilibrium constant. In this case, the partial pressure constant is equal to the constant in terms of the mole fraction.  We can assume the following approximate composition of the atmospheric air:  $N_2$ = 0.78 e $O_2$ = 0.21, and due to due the magnitude order of the equilibrium constant, this composition is unchanged. "
   ]
  },
  {
   "cell_type": "code",
   "execution_count": 2,
   "metadata": {
    "colab": {
     "base_uri": "https://localhost:8080/"
    },
    "executionInfo": {
     "elapsed": 2876,
     "status": "ok",
     "timestamp": 1608149053580,
     "user": {
      "displayName": "Leonardo Baptista",
      "photoUrl": "https://lh3.googleusercontent.com/a-/AOh14GjRLOphTSKAaa1hk9s-yG76WfgeyIS9u1K4s3iv8A=s64",
      "userId": "16746628627498894795"
     },
     "user_tz": 180
    },
    "id": "t1i-SB3Ve8FR",
    "outputId": "5a1b4483-0901-4d42-cb18-e392299c24b0"
   },
   "outputs": [
    {
     "name": "stdout",
     "output_type": "stream",
     "text": [
      " The equilibrium constant at  298.15 K is \t\t\t 4.5e-31\n",
      " The NO concentration in the equilibrium at 298K is \t\t 2.7e-16\n"
     ]
    }
   ],
   "source": [
    "T = 298.15             #[K] temperature\n",
    "P = 0.987               #[atm] pressure\n",
    "g_0_NO = 86.6           #[kJ/mol] standard G of formation of NO\n",
    "R = 8.314               #[J/(mol*K)]\n",
    "\n",
    "g_0_O2 = 0.00           #[kJ/mol] standard G of formation of O2    \n",
    "g_0_N2 = 0.00           #[kJ/mol] standard G of formation of N2    \n",
    "\n",
    "\n",
    "# DeltaG calculus\n",
    "delta_g_0 = 2*g_0_NO - g_0_O2 - g_0_N2          #[kJ/mol]\n",
    "delta_g_01 = delta_g_0*1000                     #[J/mol]\n",
    "\n",
    "# Equilibrium constant calculus\n",
    "K_298 = np.exp((-delta_g_01)/(R*T))\n",
    "\n",
    "#atmospheric air composition \n",
    "\n",
    "y_N2 = 0.78\n",
    "y_O2 = 0.21\n",
    "\n",
    "y_NO_298 = np.sqrt(K_298*y_N2*y_O2)\n",
    "\n",
    "\n",
    "print( \" The equilibrium constant at  298.15 K is \\t\\t\\t %.1e\"%(K_298))\n",
    "print(\" The NO concentration in the equilibrium at 298K is \\t\\t %.1e\"%(y_NO_298))\n"
   ]
  },
  {
   "cell_type": "code",
   "execution_count": 3,
   "metadata": {
    "colab": {
     "base_uri": "https://localhost:8080/"
    },
    "executionInfo": {
     "elapsed": 2873,
     "status": "ok",
     "timestamp": 1608149053581,
     "user": {
      "displayName": "Leonardo Baptista",
      "photoUrl": "https://lh3.googleusercontent.com/a-/AOh14GjRLOphTSKAaa1hk9s-yG76WfgeyIS9u1K4s3iv8A=s64",
      "userId": "16746628627498894795"
     },
     "user_tz": 180
    },
    "id": "WI2sCr7He8FZ",
    "outputId": "8b940562-7912-4510-f5f5-383d2bbfcd8a"
   },
   "outputs": [
    {
     "name": "stdout",
     "output_type": "stream",
     "text": [
      " The equilibrium constant at  2000 K is \t\t\t 3.7e-04\n",
      " The NO concentration in the equilibrium at 2000 K is \t\t 7.8e-03 \n"
     ]
    }
   ],
   "source": [
    "#item (c)\n",
    "\n",
    "T_1 = 2000                  #[K]\n",
    "\n",
    "h_0_NO = 90.25  # kJ/mol standard H of formation of NO\n",
    "\n",
    "delta_h_0 = 2*h_0_NO - 0 - 0          #[kJ/mol]\n",
    "delta_h_01 = delta_h_0*1000           #[J/mol]\n",
    "\n",
    "\n",
    "#Equilibrium constant calculus\n",
    "K_2000 = np.exp(np.log(K_298) -delta_h_01/R *(1/T_1 -1/T))\n",
    "\n",
    "y_NO_2000 = np.sqrt(K_2000*y_N2*y_O2)       \n",
    "print( \" The equilibrium constant at  2000 K is \\t\\t\\t %.1e\"%(K_2000))\n",
    "print( \" The NO concentration in the equilibrium at 2000 K is \\t\\t %.1e \"%(y_NO_2000))\n"
   ]
  },
  {
   "cell_type": "markdown",
   "metadata": {
    "id": "zFE7lD-Se8Fe"
   },
   "source": [
    "## Exercise 2)\n",
    "\n",
    "Redo the calculation of the NO concentration at equilibrium, at  2000 K and 1 atm, considering the changes in  $O_2$ e $N_2$ concentration."
   ]
  },
  {
   "cell_type": "markdown",
   "metadata": {
    "id": "khPi86tre8Ff"
   },
   "source": [
    "## Solution\n",
    "\n",
    "Build a table that describes the chemical equilibrium and solve the second-degree equation resulted. The equilibrium composition will be calculated by the minimization of the Gibbs free energy considering the equations that describe the process. \n",
    "\n",
    "|   |   |   |   |\n",
    "|---|---|---|---|\n",
    "|  |O2 |N2 |2NO|\n",
    "|ini |0.21| 0.78 | 0\n",
    "|eq | 0.21-x | 0.78-x | 2x"
   ]
  },
  {
   "cell_type": "code",
   "execution_count": 4,
   "metadata": {
    "colab": {
     "base_uri": "https://localhost:8080/"
    },
    "executionInfo": {
     "elapsed": 2868,
     "status": "ok",
     "timestamp": 1608149053582,
     "user": {
      "displayName": "Leonardo Baptista",
      "photoUrl": "https://lh3.googleusercontent.com/a-/AOh14GjRLOphTSKAaa1hk9s-yG76WfgeyIS9u1K4s3iv8A=s64",
      "userId": "16746628627498894795"
     },
     "user_tz": 180
    },
    "id": "O5li0ZKRe8Fi",
    "outputId": "54dfd54a-8ee9-48e7-d231-afaf62fdcf73"
   },
   "outputs": [
    {
     "name": "stdout",
     "output_type": "stream",
     "text": [
      " NO mole fraction calculated in this exercise 7.7e-03\n"
     ]
    }
   ],
   "source": [
    "Temp = 2000.                #[K]\n",
    "\n",
    "\n",
    "\n",
    "K_2000 = 3.7e-4             # Evaluated in the last problem. This value does not change.  \n",
    "\n",
    "#writing a function in the format of python language to calculate the free energy minimum\n",
    "#the fsolv function find the roots of a function defined as f(x) = 0. Can be used to solve a system of equations  \n",
    "\n",
    "def f(x): \n",
    "\t return  (2*x)**2 - K_2000*(0.78-x)*(0.21-x)\n",
    "\n",
    "x = fsolve(f,0.01) # find the root of the function. A guess should be informed\n",
    "\n",
    "\n",
    "c_NO = 2*x\n",
    "\n",
    "\n",
    "print(\" NO mole fraction calculated in this exercise %.1e\"%(c_NO))\n"
   ]
  },
  {
   "cell_type": "markdown",
   "metadata": {
    "id": "m4geXdyhe8Fm"
   },
   "source": [
    "## Exercise 3)\n",
    "\n",
    "Determine the equilibrium composition for the butane-isobutane isomerization:\n",
    "\n",
    "butane <=> isobutane  K = 4.52"
   ]
  },
  {
   "cell_type": "markdown",
   "metadata": {
    "id": "YjeEeBOje8Fo"
   },
   "source": [
    "## Solution\n",
    "\n",
    "This problem is easily solved using the equilibrium constant written in terms of isobutane mole fractions\n",
    "\n",
    "$$ K = \\frac{x_{iso}}{1-x_{iso}}$$\n",
    "\n",
    "Next, the fsolve is used to minimize the Gibbs free energy."
   ]
  },
  {
   "cell_type": "code",
   "execution_count": 5,
   "metadata": {
    "colab": {
     "base_uri": "https://localhost:8080/"
    },
    "executionInfo": {
     "elapsed": 2867,
     "status": "ok",
     "timestamp": 1608149053583,
     "user": {
      "displayName": "Leonardo Baptista",
      "photoUrl": "https://lh3.googleusercontent.com/a-/AOh14GjRLOphTSKAaa1hk9s-yG76WfgeyIS9u1K4s3iv8A=s64",
      "userId": "16746628627498894795"
     },
     "user_tz": 180
    },
    "id": "8GGY3nM9e8Fp",
    "outputId": "51891d79-f698-47c9-9612-33d9eff75675"
   },
   "outputs": [
    {
     "name": "stdout",
     "output_type": "stream",
     "text": [
      " mole fraction of isobutane 0.82\n"
     ]
    }
   ],
   "source": [
    "K = 4.52\n",
    "\n",
    "# defining the function\n",
    "def f(x_iso): \n",
    "\t return  x_iso/(1-x_iso)-K\n",
    "\n",
    "x_iso = fsolve(f,0) # find the root of the function. A guess should be informed\n",
    "\n",
    "\n",
    "print(\" mole fraction of isobutane %0.2f\"%(x_iso))\n",
    "\n"
   ]
  },
  {
   "cell_type": "markdown",
   "metadata": {
    "id": "fPWIfWM6e8Fu"
   },
   "source": [
    "## Exercise 4\n",
    "\n",
    "Modern ammonia plants work at nearly 400ºC and 150 atm. Considering these conditions, calculate the ammonia production in the equilibrium. Assume gas ideal behavior. K(400ºC, 1 bar) = 0.0137\n"
   ]
  },
  {
   "cell_type": "markdown",
   "metadata": {
    "id": "m8uI7Ljxe8Fw"
   },
   "source": [
    "## Solution\n",
    "\n",
    "The chemical reaction is $ 0.5N_2(g) + 1.5H_2(g) <=> NH_3(g) $.\n",
    "Initially, the table describing the equilibrium should be written and the equilibrium mole fractions substituted in the equilibrium constant equation\n",
    "\n",
    "|          |          |          |          |          |\n",
    "|----------|----------|----------|----------|----------|\n",
    "|          |0.5$N_2$     |1.5$H_2$ |$NH_3$| |\n",
    "|ini       |0.5       | 1.5 | 0 |\n",
    "|eq        | 0.5-0.5x | 1.5-1.5x | x |\n",
    "|x         | $ \\frac{0.5-0.5x}{2.0-x}$ | $ \\frac{1.5-1.5x}{2.0-x}$ | $ \\frac{x}{2.0-x } $ |\n",
    "\n",
    "$ K_x = \\frac{\\frac{x}{2.0-x}}{(\\frac{0.5-0.5x}{2.0-x})^{0.5} \\times (\\frac{1.5-1.5x}{2.0-x})^{1.5}}  $\n",
    "\n",
    "Since it was informed the constant at 1 bar, the value at 150 atm should be calculated. Remember that $K_p$ is independent of the pressure.\n",
    "\n",
    "$K_{400°C,1bar} = K_{x} \\times P^{\\Delta \\nu_i}  = K_{x} \\times P[bar]^{(1-0.5-1.5)}$"
   ]
  },
  {
   "cell_type": "code",
   "execution_count": 6,
   "metadata": {
    "colab": {
     "base_uri": "https://localhost:8080/"
    },
    "executionInfo": {
     "elapsed": 2862,
     "status": "ok",
     "timestamp": 1608149053584,
     "user": {
      "displayName": "Leonardo Baptista",
      "photoUrl": "https://lh3.googleusercontent.com/a-/AOh14GjRLOphTSKAaa1hk9s-yG76WfgeyIS9u1K4s3iv8A=s64",
      "userId": "16746628627498894795"
     },
     "user_tz": 180
    },
    "id": "PQZE3I9Pe8Fw",
    "outputId": "3d1aae04-52d5-4ce4-981f-d1368239c125"
   },
   "outputs": [
    {
     "name": "stdout",
     "output_type": "stream",
     "text": [
      "Mole fraction of ammonia is 0.31\n"
     ]
    }
   ],
   "source": [
    "Temp = 273.15+400           #[K]\n",
    "P = 150*1.01325             #[bar]\n",
    "\n",
    "K_673 = 0.013\n",
    "\n",
    "#Evaluating the constant at 150 atm\n",
    "K = K_673*P**(1.5+0.5-1)\n",
    "\n",
    "#writing the equation that describe the equilibrium problem\n",
    "\n",
    "def f(x): \n",
    "\t return  (x/(2-x))/(((0.5-0.5*x)/(2-x))**(0.5)*((1.5-1.5*x)/(2-x))**(1.5))-K\n",
    "\n",
    "x=fsolve(f,0.1) # find the root of the function. A guess should be informed\n",
    "\n",
    "y_NH3 = x/(2-x)\n",
    "\n",
    "print(\"Mole fraction of ammonia is %0.2f\"%(y_NH3))"
   ]
  },
  {
   "cell_type": "markdown",
   "metadata": {
    "id": "OrltZ0Dle8F0"
   },
   "source": [
    "## Exercise 5)\n",
    "Gillespie and Beattie (Phys. Rev. 36:743–753 (1930)) computed the value of $K_{\\phi}$ for the ammonia synthesis using the equation of state of  Bettie-Bridgeman. The obtained equation is:\n",
    "\n",
    "$$ log(\\frac{1}{K_{\\phi}}) = (\\frac{0.119184}{T}+\\frac{91.87212}{T^2}+\\frac{25122730}{T^4}) \\times P $$ \n",
    "\n",
    "\n",
    "Where T and P are informed in  K and atm, respectively. Taking into account the deviations of ideal behavior, repeat the last equilibrium calculation for the ammonia synthesis."
   ]
  },
  {
   "cell_type": "markdown",
   "metadata": {
    "id": "sq0amk-Ve8F1"
   },
   "source": [
    "## Solution\n",
    "\n",
    "At high pressure, the ideal gas model fails. So, the equilibrium constant should be written in terms of fugacities\n",
    "\n",
    "$$ K = \\frac{f_{NH_3}}{f_{N_2} ^{0.5} f_{H_2} ^{1.5}} =  \\frac{\\phi_{NH_3}}{\\phi_{N_2} ^{0.5} \\phi_{H_2} ^{1.5}} \\times \\frac{p_{NH_3}}{p_{N_2} ^{0.5} p_{H_2} ^{1.5}} = K_{\\phi} K_p$$\n",
    "\n",
    "Having the new equilibrium constant, we can calculate the conversion in the equilibrium using the same table of the previous exercise.\n",
    "\n",
    "|       |       |       |       |       |\n",
    "|:-----:|:-----:|:-----:|:-----:|:-----:|\n",
    "|  |0.5N2 |1.5H2 |NH3| |\n",
    "|ini |0.5| 1.5 | 0 |\n",
    "|eq | 0.5-0.5x | 1.5-1.5x | x |\n",
    "|x | $ \\frac{0.5-0.5x}{2.0-x}$ | $ \\frac{1.5-1.5x}{2.0-x}$ | $ \\frac{x}{2.0-x}  $  |\n",
    "\n",
    "$ K_x = \\frac{\\frac{x}{2.0-x}}{(\\frac{0.5-0.5x}{2.0-x})^{0.5} \\times (\\frac{1.5-1.5x}{2.0-x})^{1.5}}  $"
   ]
  },
  {
   "cell_type": "code",
   "execution_count": 7,
   "metadata": {
    "colab": {
     "base_uri": "https://localhost:8080/"
    },
    "executionInfo": {
     "elapsed": 2860,
     "status": "ok",
     "timestamp": 1608149053585,
     "user": {
      "displayName": "Leonardo Baptista",
      "photoUrl": "https://lh3.googleusercontent.com/a-/AOh14GjRLOphTSKAaa1hk9s-yG76WfgeyIS9u1K4s3iv8A=s64",
      "userId": "16746628627498894795"
     },
     "user_tz": 180
    },
    "id": "QSa54A7Ke8F2",
    "outputId": "c2167362-8e45-4003-8058-0e3bd2178256"
   },
   "outputs": [
    {
     "name": "stdout",
     "output_type": "stream",
     "text": [
      "Mole fraction of ammonia is  0.33\n"
     ]
    }
   ],
   "source": [
    "#Variables\n",
    "T = 273.15+400              #[K] \n",
    "P = 150                     #[atm]\n",
    "P_bar = 150*1.01325 \n",
    "\n",
    "# writing the new equilibrium constant\n",
    "K_673 = 0.013              \n",
    "\n",
    "K_fi = (10**((0.1191849/T + 91.87212/T**2 + 25122730/T**4)*P))**(-1)\n",
    "\n",
    "K = (K_673/K_fi)*P**(1.5+0.5-1)\n",
    "\n",
    "#writing the equation that describe the equilibrium problem\n",
    "def f(x): \n",
    "\t return  (x/(2-x))/(((0.5-0.5*x)/(2-x))**(0.5)*((1.5-1.5*x)/(2-x))**(1.5))- K\n",
    "        \n",
    "x = fsolve(f,0.5) #finding the root\n",
    "\n",
    "x_NH3 = x/(2-x)\n",
    "\n",
    "print(\"Mole fraction of ammonia is  %0.2f\"%(x_NH3))"
   ]
  },
  {
   "cell_type": "code",
   "execution_count": 7,
   "metadata": {
    "executionInfo": {
     "elapsed": 2858,
     "status": "ok",
     "timestamp": 1608149053585,
     "user": {
      "displayName": "Leonardo Baptista",
      "photoUrl": "https://lh3.googleusercontent.com/a-/AOh14GjRLOphTSKAaa1hk9s-yG76WfgeyIS9u1K4s3iv8A=s64",
      "userId": "16746628627498894795"
     },
     "user_tz": 180
    },
    "id": "M0Z8rkfQe8F6"
   },
   "outputs": [],
   "source": []
  }
 ],
 "metadata": {
  "colab": {
   "collapsed_sections": [],
   "name": "Equilíbrio Químico_paper.ipynb",
   "provenance": []
  },
  "kernelspec": {
   "display_name": "Python 3",
   "language": "python",
   "name": "python3"
  },
  "language_info": {
   "codemirror_mode": {
    "name": "ipython",
    "version": 3
   },
   "file_extension": ".py",
   "mimetype": "text/x-python",
   "name": "python",
   "nbconvert_exporter": "python",
   "pygments_lexer": "ipython3",
   "version": "3.8.5"
  }
 },
 "nbformat": 4,
 "nbformat_minor": 1
}
