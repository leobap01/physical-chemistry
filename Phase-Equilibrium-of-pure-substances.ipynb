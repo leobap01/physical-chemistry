{
 "cells": [
  {
   "cell_type": "markdown",
   "metadata": {
    "id": "JoMUEsh83hls"
   },
   "source": [
    "# **Exercises about phase equilibrium of pure substances**"
   ]
  },
  {
   "cell_type": "code",
   "execution_count": 1,
   "metadata": {
    "id": "t43skNl0Vcyw"
   },
   "outputs": [],
   "source": [
    "# Loading of the necessary packages to solve the exercises\n",
    "\n",
    "import numpy as np\n",
    "import matplotlib.pyplot as plt"
   ]
  },
  {
   "cell_type": "markdown",
   "metadata": {
    "id": "bwrS2o8qWK4k"
   },
   "source": [
    "# Exercise 1) \n",
    "Use the temperature-vapor pressure data, given below, to calculate  $\\Delta_{sub} Hº$, $\\Delta_{vap} Hº$ e $\\Delta_{fus} Hº$ of water at 0ºC:\n",
    "\n",
    "Ice:\n",
    "\n",
    "|   |   |   |   |   |   |   |\n",
    "|---|---|---|---|---|---|---|\n",
    "|p/torr | 3.880 | 4.045 | 4.217 | 4.395 | 4.579\n",
    "|T/ºC | -2.0 | -1.5 | -1.0 | -0.5 | 0.0\n",
    "\n",
    "Water:\n",
    "\n",
    "|   |   |   |   |   |   |   |\n",
    "|---|---|---|---|---|---|---|\n",
    "|p/torr | 4.579 | 4.750 | 4.926 | 5.107 | 5.294\n",
    "|T/ºC | 0.0 | 0.5 | 1.0 | 1.5 | 2.0"
   ]
  },
  {
   "cell_type": "markdown",
   "metadata": {
    "id": "a7IXD1xzYDyM"
   },
   "source": [
    "### Solution:\n",
    "According to the  Clausius-Clayperon equation, ($ \\ln(\\frac{p_2}{p_1}) = - \\frac{\\Delta_{vap} Hº}{R} \\times (\\frac{1}{T_2}-\\frac{1}{T_2})$, a plot of  ln(P) versus 1/T should be linear and have slope equal - $\\frac{\\Delta Hº}{R}$.\n",
    "\n",
    "Solving initially for the ice:"
   ]
  },
  {
   "cell_type": "code",
   "execution_count": 2,
   "metadata": {
    "colab": {
     "base_uri": "https://localhost:8080/"
    },
    "executionInfo": {
     "elapsed": 788,
     "status": "ok",
     "timestamp": 1607792508714,
     "user": {
      "displayName": "Leonardo Baptista",
      "photoUrl": "https://lh3.googleusercontent.com/a-/AOh14GjRLOphTSKAaa1hk9s-yG76WfgeyIS9u1K4s3iv8A=s64",
      "userId": "16746628627498894795"
     },
     "user_tz": 180
    },
    "id": "OPna3sQ4Yqsj",
    "outputId": "7eb54ed8-c1e5-4809-a93e-c52dcfbffc5b"
   },
   "outputs": [
    {
     "name": "stdout",
     "output_type": "stream",
     "text": [
      "slope = -6129.91617\n",
      "linear coefficient=  23.97549\n",
      "enthalpy of sublimation (J/mol)=  50964.12304\n"
     ]
    }
   ],
   "source": [
    "# Arrays that will be plotted\n",
    "\n",
    "p = np.array([  3.880 , 4.045 , 4.217 , 4.395 , 4.579]) # torr\n",
    "t_celsius = np.array([ -2.0 , -1.5 , -1.0 , -0.5 , 0.0]) # ºC\n",
    "T = 273 + t_celsius\n",
    "\n",
    "lnP = np.log(p)\n",
    "iT = 1/T\n",
    "\n",
    "# linear fit\n",
    "deg = 1\n",
    "z = np.polyfit(iT, lnP, deg)\n",
    "y = np.poly1d(z)\n",
    "\n",
    "DH_sub = -8.314*z[0] # calcualtion of the sublimation deltaH\n",
    "\n",
    "print('slope = ' + format(z[0] , ' 6.5f'))  \n",
    "print('linear coefficient= ' + format(z[1] , ' 6.5f'))  \n",
    "print('enthalpy of sublimation (J/mol)= ' + format(DH_sub , ' 6.5f'))  "
   ]
  },
  {
   "cell_type": "code",
   "execution_count": 3,
   "metadata": {
    "colab": {
     "base_uri": "https://localhost:8080/",
     "height": 296
    },
    "executionInfo": {
     "elapsed": 736,
     "status": "ok",
     "timestamp": 1607792524341,
     "user": {
      "displayName": "Leonardo Baptista",
      "photoUrl": "https://lh3.googleusercontent.com/a-/AOh14GjRLOphTSKAaa1hk9s-yG76WfgeyIS9u1K4s3iv8A=s64",
      "userId": "16746628627498894795"
     },
     "user_tz": 180
    },
    "id": "gVu_UB-vb4P3",
    "outputId": "c05c48b2-b58b-46f2-aafe-f389390ee57d"
   },
   "outputs": [
    {
     "data": {
      "text/plain": [
       "<function matplotlib.pyplot.show(*args, **kw)>"
      ]
     },
     "execution_count": 3,
     "metadata": {},
     "output_type": "execute_result"
    },
    {
     "data": {
      "image/png": "[encoded data removed]",
      "text/plain": [
       "<Figure size 432x288 with 1 Axes>"
      ]
     },
     "metadata": {
      "needs_background": "light"
     },
     "output_type": "display_data"
    }
   ],
   "source": [
    "# ln(p) versus 1/T plot:\n",
    "\n",
    "plt.plot(iT,lnP,'*')\n",
    "plt.plot(iT,y(iT), color='blue', linewidth=1)\n",
    "plt.xlabel('1/Temperature (1/K)')\n",
    "plt.ylabel('ln(P)(torr)')\n",
    "plt.show"
   ]
  },
  {
   "cell_type": "code",
   "execution_count": 4,
   "metadata": {
    "colab": {
     "base_uri": "https://localhost:8080/"
    },
    "executionInfo": {
     "elapsed": 658,
     "status": "ok",
     "timestamp": 1607792692316,
     "user": {
      "displayName": "Leonardo Baptista",
      "photoUrl": "https://lh3.googleusercontent.com/a-/AOh14GjRLOphTSKAaa1hk9s-yG76WfgeyIS9u1K4s3iv8A=s64",
      "userId": "16746628627498894795"
     },
     "user_tz": 180
    },
    "id": "NGN5e9U1aaiP",
    "outputId": "a4eed81e-a0ff-49a1-9471-9527e906509e"
   },
   "outputs": [
    {
     "name": "stdout",
     "output_type": "stream",
     "text": [
      "slope = -5445.28900\n",
      "linear coefficient=  21.46772\n",
      "enthalpy of vaporization (J/mol)=  45272.13274\n"
     ]
    }
   ],
   "source": [
    "# Solving for the water\n",
    "# Arrays that will be plotted\n",
    "\n",
    "p = np.array([  4.579 , 4.750 , 4.926 , 5.107 , 5.294]) # torr\n",
    "t_celsius = np.array([ 0.0 , 0.5 , 1.0 , 1.5 , 2.0])  # ºC\n",
    "T = 273 + t_celsius\n",
    "\n",
    "lnP = np.log(p)\n",
    "iT = 1/T\n",
    "\n",
    "# linear fit\n",
    "deg = 1\n",
    "z2 = np.polyfit(iT, lnP, deg)\n",
    "y1 = np.poly1d(z2)\n",
    "DH_vap = -8.314*z2[0] # calculation of the deltaH of vaporization\n",
    "\n",
    "print('slope = ' + format(z2[0] , ' 6.5f'))  \n",
    "print('linear coefficient= ' + format(z2[1] , ' 6.5f'))  \n",
    "print('enthalpy of vaporization (J/mol)= ' + format(DH_vap , ' 6.5f'))  "
   ]
  },
  {
   "cell_type": "code",
   "execution_count": 5,
   "metadata": {
    "colab": {
     "base_uri": "https://localhost:8080/",
     "height": 296
    },
    "executionInfo": {
     "elapsed": 723,
     "status": "ok",
     "timestamp": 1607792756862,
     "user": {
      "displayName": "Leonardo Baptista",
      "photoUrl": "https://lh3.googleusercontent.com/a-/AOh14GjRLOphTSKAaa1hk9s-yG76WfgeyIS9u1K4s3iv8A=s64",
      "userId": "16746628627498894795"
     },
     "user_tz": 180
    },
    "id": "h9ucZ5Qgbqep",
    "outputId": "b0e584e7-ef57-465b-837a-d5de67b159d7"
   },
   "outputs": [
    {
     "data": {
      "text/plain": [
       "<function matplotlib.pyplot.show(*args, **kw)>"
      ]
     },
     "execution_count": 5,
     "metadata": {},
     "output_type": "execute_result"
    },
    {
     "data": {
      "image/png": "[encoded data removed]",
      "text/plain": [
       "<Figure size 432x288 with 1 Axes>"
      ]
     },
     "metadata": {
      "needs_background": "light"
     },
     "output_type": "display_data"
    }
   ],
   "source": [
    "# ln(p) versus 1/T plot:\n",
    "\n",
    "plt.plot(iT,lnP,'*')\n",
    "plt.plot(iT,y1(iT), color='green', linewidth=1)\n",
    "plt.xlabel('1/Temperature (1/K)')\n",
    "plt.ylabel('ln(P)(torr)')\n",
    "plt.show"
   ]
  },
  {
   "cell_type": "markdown",
   "metadata": {
    "id": "JIWAoHfyjKqy"
   },
   "source": [
    "We know that: $ \\Delta_{sub} Hº = \\Delta_{vap} Hº + \\Delta_{fus} Hº$ "
   ]
  },
  {
   "cell_type": "code",
   "execution_count": 6,
   "metadata": {
    "colab": {
     "base_uri": "https://localhost:8080/"
    },
    "executionInfo": {
     "elapsed": 646,
     "status": "ok",
     "timestamp": 1607792745824,
     "user": {
      "displayName": "Leonardo Baptista",
      "photoUrl": "https://lh3.googleusercontent.com/a-/AOh14GjRLOphTSKAaa1hk9s-yG76WfgeyIS9u1K4s3iv8A=s64",
      "userId": "16746628627498894795"
     },
     "user_tz": 180
    },
    "id": "q5G4kcDsjeyg",
    "outputId": "91a4ea43-5e75-4692-82ac-8331c6c7f20a"
   },
   "outputs": [
    {
     "name": "stdout",
     "output_type": "stream",
     "text": [
      "enthalpy of fusion (J/mol)=  5691.99029\n"
     ]
    }
   ],
   "source": [
    "DH_fus = DH_sub - DH_vap\n",
    "print('enthalpy of fusion (J/mol)= ' + format(DH_fus , ' 6.5f'))  "
   ]
  },
  {
   "cell_type": "markdown",
   "metadata": {
    "id": "6AU9_WGr67tB"
   },
   "source": [
    "Since the chemical potential depends on the vapor pressure of a pure substance, it is illustrative to plot the equations obtained for solid and liquid water in the same graph. The phase stability is related to the lower values of the vapor pressure. The most stable phase should present a lower vapor pressure. The point where the curves intersect each other is the temperature where both phases are in equilibrium."
   ]
  },
  {
   "cell_type": "code",
   "execution_count": 7,
   "metadata": {
    "colab": {
     "base_uri": "https://localhost:8080/",
     "height": 296
    },
    "executionInfo": {
     "elapsed": 677,
     "status": "ok",
     "timestamp": 1607793182056,
     "user": {
      "displayName": "Leonardo Baptista",
      "photoUrl": "https://lh3.googleusercontent.com/a-/AOh14GjRLOphTSKAaa1hk9s-yG76WfgeyIS9u1K4s3iv8A=s64",
      "userId": "16746628627498894795"
     },
     "user_tz": 180
    },
    "id": "PSJB23fZmWj7",
    "outputId": "f27ec2ef-c66d-4120-b81e-f5eb5d2d6ff5"
   },
   "outputs": [
    {
     "data": {
      "text/plain": [
       "<function matplotlib.pyplot.show(*args, **kw)>"
      ]
     },
     "execution_count": 7,
     "metadata": {},
     "output_type": "execute_result"
    },
    {
     "data": {
      "image/png": "[encoded data removed]",
      "text/plain": [
       "<Figure size 432x288 with 1 Axes>"
      ]
     },
     "metadata": {
      "needs_background": "light"
     },
     "output_type": "display_data"
    }
   ],
   "source": [
    "T = np.arange(270,276,0.5) #defining a range of temperatures\n",
    "iT = 1/T\n",
    "plt.plot(T,y(iT), color='red', linewidth=1,label='solid')\n",
    "plt.plot(T,y1(iT), color='green', linewidth=1,label='liquid')\n",
    "plt.xlabel('Temperature (1/K)')\n",
    "plt.ylabel('ln(P)(torr)')\n",
    "plt.legend(handlelength=4,loc='best')\n",
    "plt.show"
   ]
  },
  {
   "cell_type": "code",
   "execution_count": null,
   "metadata": {
    "id": "uPOTO4h10Nay"
   },
   "outputs": [],
   "source": []
  }
 ],
 "metadata": {
  "colab": {
   "name": "Exercícios-Fis-Qui2-Eq-Fases_paper.ipynb",
   "provenance": []
  },
  "kernelspec": {
   "display_name": "Python 3",
   "language": "python",
   "name": "python3"
  },
  "language_info": {
   "codemirror_mode": {
    "name": "ipython",
    "version": 3
   },
   "file_extension": ".py",
   "mimetype": "text/x-python",
   "name": "python",
   "nbconvert_exporter": "python",
   "pygments_lexer": "ipython3",
   "version": "3.8.5"
  }
 },
 "nbformat": 4,
 "nbformat_minor": 1
}
