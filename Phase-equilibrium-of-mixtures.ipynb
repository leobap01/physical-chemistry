{
 "cells": [
  {
   "cell_type": "markdown",
   "metadata": {
    "id": "uVdzhDxquQJ5"
   },
   "source": [
    "# Exercises about phase equilibrium of mixtures"
   ]
  },
  {
   "cell_type": "code",
   "execution_count": 1,
   "metadata": {
    "executionInfo": {
     "elapsed": 1387,
     "status": "ok",
     "timestamp": 1608209382359,
     "user": {
      "displayName": "Leonardo Baptista",
      "photoUrl": "https://lh3.googleusercontent.com/a-/AOh14GjRLOphTSKAaa1hk9s-yG76WfgeyIS9u1K4s3iv8A=s64",
      "userId": "16746628627498894795"
     },
     "user_tz": 180
    },
    "id": "b-hVr2kAuQJ7"
   },
   "outputs": [],
   "source": [
    "# Loading of the necessary packages to solve the exercises\n",
    "import numpy as np"
   ]
  },
  {
   "cell_type": "markdown",
   "metadata": {
    "id": "I-_X2RzsuQKD"
   },
   "source": [
    "## Exercise 1) \n",
    "Estimate the mole fraction of water vapor, on the atmosphere, in equilibrium with liquid water at 20 ºC and 1 atm."
   ]
  },
  {
   "cell_type": "markdown",
   "metadata": {
    "id": "PVOETl8UuQKI"
   },
   "source": [
    "## Solution\n",
    "\n",
    "We should use Raoult's law to solve this problem:\n",
    "\n",
    "$$ p_{H_2 O} = x_{H_2 O}p_{vap} ^*$$\n",
    "$$ y_{H_2 O}p_{total} = x_{H_2 O}p_{vap} ^*$$\n",
    "\n",
    "In these conditions: $p_{vap} ^* = 0.023 atm$\n",
    "We can assume that the air is composed only of oxygen and nitrogen, which are barely soluble in water: $x_{H_2 O} = 1$"
   ]
  },
  {
   "cell_type": "code",
   "execution_count": 2,
   "metadata": {
    "colab": {
     "base_uri": "https://localhost:8080/"
    },
    "executionInfo": {
     "elapsed": 867,
     "status": "ok",
     "timestamp": 1608209837402,
     "user": {
      "displayName": "Leonardo Baptista",
      "photoUrl": "https://lh3.googleusercontent.com/a-/AOh14GjRLOphTSKAaa1hk9s-yG76WfgeyIS9u1K4s3iv8A=s64",
      "userId": "16746628627498894795"
     },
     "user_tz": 180
    },
    "id": "8SsPr13JuQKJ",
    "outputId": "86d2d3a0-5131-4ec3-8386-e938bfccd2e9"
   },
   "outputs": [
    {
     "name": "stdout",
     "output_type": "stream",
     "text": [
      "The mole fraction of water vapor in the equilibrium is 0.023000\n",
      "Relative humidity is this condition  100.000000\n"
     ]
    }
   ],
   "source": [
    "# defining the variables\n",
    "\n",
    "P = 1.          #[atm]\n",
    "p_vap = 0.023     #[atm]\n",
    "x_water = 1\n",
    "\n",
    "y_water = x_water*p_vap/P\n",
    "\n",
    "# printing the result\n",
    "print( \"The mole fraction of water vapor in the equilibrium is %f\"%(y_water))\n",
    "\n",
    "# relative humidity\n",
    "\n",
    "Um = (y_water * P / p_vap)*100\n",
    "print( \"Relative humidity is this condition  %f\"%(Um))"
   ]
  },
  {
   "cell_type": "markdown",
   "metadata": {
    "id": "S-Id3utRuQKQ"
   },
   "source": [
    "## Exercise 2)\n",
    "Estimate the oxygen concentration dissolved in water when water and atmospheric air are in equilibrium at 20ºC and 1 atm. Use the results of the previous problem. Given: $ \\rho (H_2O)= 998.2  ~~g/L $ and  $H(O_2) = 40100 ~~ atm $ at 1 atm and 20ºC."
   ]
  },
  {
   "cell_type": "markdown",
   "metadata": {
    "id": "0S-tu5ZLuQKS"
   },
   "source": [
    "## Solution\n",
    "\n",
    "According to the previous problem: $y_{(H_2 O)} = 0.023$. The dry air is composed by 21% of $O_2$ and 79% of $N_2$, so, $ y_{(N_2 )} +  y_{(O_2 )} = 1 - y_{(H_2 O)}$. We should assume that the liquid phase is mainly water due to the low solubility of the gases."
   ]
  },
  {
   "cell_type": "code",
   "execution_count": 3,
   "metadata": {
    "colab": {
     "base_uri": "https://localhost:8080/"
    },
    "executionInfo": {
     "elapsed": 896,
     "status": "ok",
     "timestamp": 1608211153274,
     "user": {
      "displayName": "Leonardo Baptista",
      "photoUrl": "https://lh3.googleusercontent.com/a-/AOh14GjRLOphTSKAaa1hk9s-yG76WfgeyIS9u1K4s3iv8A=s64",
      "userId": "16746628627498894795"
     },
     "user_tz": 180
    },
    "id": "x1zJJOYZuQKS",
    "outputId": "3c84e560-b8d1-4236-ecc9-bda96277f441"
   },
   "outputs": [
    {
     "name": "stdout",
     "output_type": "stream",
     "text": [
      "Oxygen concentration in the water solution is  6.817043 mL O2)/L solution)\n"
     ]
    }
   ],
   "source": [
    "#Defining the variables\n",
    "\n",
    "P = 1.          #[atm]\n",
    "H_O2 = 40100    #[atm] O2 Henry's Law constant\n",
    "y_water = 0.023\n",
    "\n",
    "#O2 mole fraction on vapor\n",
    "y = 1-y_water\n",
    "y_O2 = y*0.21\n",
    "\n",
    "x_O2 = y_O2*P/H_O2 # O2 mole fraction dissolved on water \n",
    "\n",
    "c = x_O2*998.2/18   #[(mol O2)/(L solution)]\n",
    "\n",
    "#Assuming ideal gas behavior for  O2\n",
    "V = c*0.082*293         #[(L O2)/(L solution)]\n",
    "V = V*1000              #[(ml O2)/(L solution)]\n",
    "\n",
    "print( \"Oxygen concentration in the water solution is  %f mL O2)/L solution)\"%(V))\n"
   ]
  },
  {
   "cell_type": "markdown",
   "metadata": {
    "id": "I3gUYeROuQKY"
   },
   "source": [
    "## Exercise 3)\n",
    "\n",
    "Repeat the first exercise taking into account the three possible simultaneous equilibrium: a) Liquid-vapor equilibrium of water, b) Dilution of  $O_2$ gas in water, and c) Dilution of $N_2$ gas in water. Given:  $H(N_2) = 80400 $ atm at 1 atm and 20ºC."
   ]
  },
  {
   "cell_type": "markdown",
   "metadata": {
    "id": "dfsrAxLtuQKa"
   },
   "source": [
    "## Solution\n",
    "\n",
    "It is necessary to write a system of linear equations to solve this problem. The three equilibrium processes are:\n",
    "\n",
    "$$ y_{water}P = x_{water}p_{vap}(H_2 O) $$\n",
    "$$ y_{O_2}P = x_{O_2}H_{O_2} $$\n",
    "$$ y_{N_2}P = x_{N_2}H_{N_2} $$\n",
    "\n",
    "We have a set of three equations with six incognito. We need three more equations:\n",
    "\n",
    "$$ y_{water} + y_{O_2} + y_{N_2} = 1 $$\n",
    "$$ x_{water} + x_{O_2} + x_{N_2} = 1 $$\n",
    "$$ \\frac{y_{O_2}}{y_{N_2}} = 0.21/0.79 = 0.266 $$\n",
    "\n",
    "The Cramer's rule can be used to solve the system of equations: $ A = A^{-1} B $. First, the equations are written in the format of a system of equations:\n",
    "\n",
    "$$\\begin{cases} x_{agua}p_{vap}(H_2 O) + 0x_{O_2} + 0x_{N_2} - y_{agua}P + 0y_{O_2} + 0y_{N_2}= 0 \\\\ 0x_{agua} + x_{O_2}H_{O_2} + 0x_{N_2} + 0y_{agua} -y_{O_2}P + 0y_{N_2} = 0 \\\\ 0x_{agua} + 0x_{O_2} + x_{N_2}H_{N_2} + 0y_{agua} +0y_{O_2}P - y_{N_2}P = 0 \\\\ 0x_{agua} + 0x_{O_2} + 0x_{N_2} + y_{agua} + y_{O_2} + y_{N_2} = 1 \\\\ x_{agua} + x_{O_2} + x_{N_2} + 0y_{agua} + 0y_{O_2} + 0y_{N_2}= 1 \\\\ 0x_{agua} + 0x_{O_2} + 0x_{N_2} + 0y_{agua} + 079y_{O_2} - 0.21y_{N_2} = 0   \\end{cases}\n",
    "$$\n"
   ]
  },
  {
   "cell_type": "code",
   "execution_count": 4,
   "metadata": {
    "colab": {
     "base_uri": "https://localhost:8080/"
    },
    "executionInfo": {
     "elapsed": 917,
     "status": "ok",
     "timestamp": 1608213655567,
     "user": {
      "displayName": "Leonardo Baptista",
      "photoUrl": "https://lh3.googleusercontent.com/a-/AOh14GjRLOphTSKAaa1hk9s-yG76WfgeyIS9u1K4s3iv8A=s64",
      "userId": "16746628627498894795"
     },
     "user_tz": 180
    },
    "id": "mJCn0YACuQKa",
    "outputId": "1cda94bc-372d-41d5-be9d-c3d17c723b12"
   },
   "outputs": [
    {
     "name": "stdout",
     "output_type": "stream",
     "text": [
      " The compositions of liquid and vapor phases are:\n",
      "    y_water       \t 0.023000\n",
      "    y_O2         \t 0.205170\n",
      "    y_N2          \t 0.771830\n",
      "    x_water       \t 0.999985\n",
      "    x_O2         \t 5.116461e-06\n",
      "    x_N2         \t 9.599879e-06\n"
     ]
    }
   ],
   "source": [
    "#Defining the variables:\n",
    "\n",
    "P = 1.0             #[atm]\n",
    "p_water = 0.023     #[atm] Vapor pressure of water\n",
    "H_o = 40100         #[atm] Henry's Law constant\n",
    "H_n = 80400.        #[atm] Henry's Law constant\n",
    "\n",
    "\n",
    "\n",
    "# system of equations in matrix format\n",
    "#All coefficients must be informed\n",
    "A = np.array([[0.023, 0, 0, -1, 0, 0],[0, 40100, 0, 0, -1, 0],[0, 0 ,80400, 0, 0, -1],[0, 0, 0, 1, 1 ,1],[1 ,1, 1, 0, 0 ,0],[0, 0, 0, 0, 0.79, -0.21]])\n",
    "\n",
    "B = np.array([[0],[0],[0],[1],[1],[0]])\n",
    "\n",
    "# Cramer's rule to solve the system of equations\n",
    "C = np.linalg.solve(A, B)\n",
    "\n",
    "\n",
    "\n",
    "print( \" The compositions of liquid and vapor phases are:\")\n",
    "\n",
    "print( \"    y_water       \\t %f\"%(C[3]))\n",
    "print( \"    y_O2         \\t %f\"%(C[4]))\n",
    "print(\"    y_N2          \\t %f\"%(C[5]))\n",
    "print( \"    x_water       \\t %f\"%(C[0]))\n",
    "print( \"    x_O2         \\t %e\"%(C[1]))\n",
    "print( \"    x_N2         \\t %e\"%(C[2]))"
   ]
  },
  {
   "cell_type": "markdown",
   "metadata": {
    "id": "53bOug53uQKh"
   },
   "source": [
    "## Exercise 4)\n",
    "Determine the vapor pressure and the composition of the vapor in equilibrium with a liquid composed of 80% of benzene, in mol,  and 20% of toluene at 20ºC, assuming ideal solution behavior. Use the Antoine equation to evaluate the vapor pressure of the pure components.\n"
   ]
  },
  {
   "cell_type": "markdown",
   "metadata": {
    "id": "nwYr7D1GuQKh"
   },
   "source": [
    "## Solução\n",
    "An ideal solution, solute, and solvent obey Raoult's Law. It is necessary to know the vapor pressure of the pure substances, which will be estimated by Antoine's equation.: $ log(p(torr)) = A - \\frac{B}{T(ºC)+C} $.\n",
    "The A, B and C parameters are found in tables.\n",
    "\n",
    "Benzene:\n",
    "A = 6.90565\n",
    "B = 1211.033\n",
    "C = 220.79\n",
    "\n",
    "Toluene:\n",
    "A = 6.95334\n",
    "B = 1343.943\n",
    "C = 219.377"
   ]
  },
  {
   "cell_type": "code",
   "execution_count": 10,
   "metadata": {
    "colab": {
     "base_uri": "https://localhost:8080/"
    },
    "executionInfo": {
     "elapsed": 3021,
     "status": "ok",
     "timestamp": 1608209384023,
     "user": {
      "displayName": "Leonardo Baptista",
      "photoUrl": "https://lh3.googleusercontent.com/a-/AOh14GjRLOphTSKAaa1hk9s-yG76WfgeyIS9u1K4s3iv8A=s64",
      "userId": "16746628627498894795"
     },
     "user_tz": 180
    },
    "id": "Ok3_i0A0uQKj",
    "outputId": "a96df406-1f58-48a1-d463-24632d99a79d"
   },
   "outputs": [
    {
     "name": "stdout",
     "output_type": "stream",
     "text": [
      " Vapor total pressure                        64.518358 torr\n",
      " Benzene mole fraction in the vapor phase    0.932483\n",
      " Toluene mole fraction in the vapor phase    0.067517\n"
     ]
    }
   ],
   "source": [
    "#Defining the variables:\n",
    "T = 20.         # ºC\n",
    "x_b = 0.80      # benzene's mole fraction\n",
    "x_t = 0.20      # toluene's mole fraction \n",
    "A_b = 6.90565\n",
    "B_b = 1211.033\n",
    "C_b = 220.79\n",
    "\n",
    "p_b = 10**(A_b-B_b/(T+C_b)) #pure benzene vapor pressure in torr\n",
    "\n",
    "\n",
    "A_t = 6.95334\n",
    "B_t = 1343.943\n",
    "C_t = 219.337\n",
    "\n",
    "p_t = 10**(A_t-B_t/(T+C_t)) # pure toluene vapor pressure in torr\n",
    "\n",
    "p_1 = x_b*p_b # benzene partial pressure in vapor phase\n",
    "p_2 = x_t*p_t # toluene partial pressure in vapor phase\n",
    "\n",
    "P = p_1+p_2 #total pressure calculation\n",
    "\n",
    "#vapor composition\n",
    "y_b = x_b*p_b/P\n",
    "y_t = x_t*p_t/P\n",
    "\n",
    "\n",
    "\n",
    "print( \" Vapor total pressure                        %f torr\"%(P))\n",
    "print( \" Benzene mole fraction in the vapor phase    %f\"%(y_b))\n",
    "print( \" Toluene mole fraction in the vapor phase    %f\"%(y_t))"
   ]
  },
  {
   "cell_type": "markdown",
   "metadata": {
    "id": "9ox53GRxuQKp"
   },
   "source": [
    "## Exercise 5)\n",
    "\n",
    "Considering the previous mixture between benzene and toluene, in which temperature the mixture vapor pressure will be equal to 1.0 atmosphere? Assume ideal solution behavior.\n"
   ]
  },
  {
   "cell_type": "markdown",
   "metadata": {
    "id": "X-r-Q4QnuQKp"
   },
   "source": [
    "## Solution\n",
    "\n",
    "Writing the Raoult's Law for the mixture:\n",
    "\n",
    "$$ (y_{benzene} + y_{toluene}) P = x_{benzene}p_{vap}(b) + x_{toluene}p_{vap}(t) $$\n",
    "\n",
    "The composition that leads to the vapor pressure of 1.0 atm can be calculated considering the equations that relate the vapor pressure of each pure substance with temperature. However, the provided equations are logarithmic, and equations having two logarithmic may no have an analytic solution.  For this reason, the problem is solved by trial and error using a loop function. "
   ]
  },
  {
   "cell_type": "code",
   "execution_count": 11,
   "metadata": {
    "colab": {
     "base_uri": "https://localhost:8080/"
    },
    "executionInfo": {
     "elapsed": 3016,
     "status": "ok",
     "timestamp": 1608209384023,
     "user": {
      "displayName": "Leonardo Baptista",
      "photoUrl": "https://lh3.googleusercontent.com/a-/AOh14GjRLOphTSKAaa1hk9s-yG76WfgeyIS9u1K4s3iv8A=s64",
      "userId": "16746628627498894795"
     },
     "user_tz": 180
    },
    "id": "liKI0WADuQKq",
    "outputId": "428afcef-0ce0-42fb-afb2-0a695e8f44ee"
   },
   "outputs": [
    {
     "name": "stdout",
     "output_type": "stream",
     "text": [
      "The temperature that the benzene-toluene mix has vapor pressure equal to 1 atm is 84.360 ºC\n"
     ]
    }
   ],
   "source": [
    "P = 760.            #[mm Hg]\n",
    "x_b = 0.8           # Benzene mole fraction in the liquid phase\n",
    "x_t = 0.2           # Toluene mole fraction in the liquid phase\n",
    "\n",
    "#Antoine's equation parameters for benzene\n",
    "A_b = 6.90565\n",
    "B_b = 1211.003\n",
    "C_b = 220.79\n",
    "\n",
    "##Antoine's equation parameters for toluene\n",
    "A_t = 6.95334\n",
    "B_t = 1343.943\n",
    "C_t = 219.337\n",
    "\n",
    "\n",
    "\n",
    "#A loop will be built to test different temperature values\n",
    "#Initially, an error parameter will be defined and tested in each iteration\n",
    "\n",
    "err = 1.\n",
    "T = 50.              #[ºC] initial temperature\n",
    "\n",
    "\n",
    "while err > 10**(-3):\n",
    "    p_b = 10**(6.90565 - 1211.003/(T + 220.79))\n",
    "    p_t = 10**(6.95334 - 1343.943/(T + 219.337))\n",
    "    y_b = x_b*p_b/P\n",
    "    y_t = x_t*p_t/P\n",
    "    err = abs((y_b + y_t) - 1) # this value should be zero, however, the computational will be prohibitive \n",
    "    T = T + 0.01 # the increment should be chooen carefully, or the error will be high or the solution will not be found.\n",
    "\n",
    "print( \"The temperature that the benzene-toluene mix has vapor pressure equal to 1 atm is %0.3f ºC\"%(T))\n"
   ]
  },
  {
   "cell_type": "markdown",
   "metadata": {
    "id": "qPltmK68uQKu"
   },
   "source": [
    "## Exemplo 6\n",
    "\n",
    "At 5.0 atm the blood of a diver is saturated with nitrogen with a mole fraction of 0.79. As the diver goes to the surface, his blood needs to expel the nitrogen as the body reaches equilibrium with the atmosphere. How much nitrogen the body should expel? Assume that the diver's weight is 55 kg, and 75% of his body is composed of water at 37ºC. Consider that the nitrogen solubility in the body fluids is similar to the pure water. Given: $ H(N_2) = 10.05 \\times 10^4$ atm a 37ºC."
   ]
  },
  {
   "cell_type": "markdown",
   "metadata": {
    "id": "koknEy6-uQKw"
   },
   "source": [
    "## Solution\n",
    "\n",
    "The nitrogen mole numbers expelled by the diver body is proportional to the difference between the nitrogen mole fraction dissolved at 5 atm and the mole fraction at 1 atm. The nitrogen mole numbers dissolved in body fluids should be calculated and multiplied by the nitrogen mole fraction expelled by the body to find the overall of expelled nitrogen.\n",
    "\n",
    "$$ N_2(expelled) = n_{fluids} (x_{N_2, 5atm} - x_{N_2, 1atm} )$$\n",
    "\n",
    "It will be assumed mole fraction of  $N_2 = 0.79$, which does not change with pressure \n"
   ]
  },
  {
   "cell_type": "code",
   "execution_count": 3,
   "metadata": {
    "colab": {
     "base_uri": "https://localhost:8080/"
    },
    "executionInfo": {
     "elapsed": 3012,
     "status": "ok",
     "timestamp": 1608209384024,
     "user": {
      "displayName": "Leonardo Baptista",
      "photoUrl": "https://lh3.googleusercontent.com/a-/AOh14GjRLOphTSKAaa1hk9s-yG76WfgeyIS9u1K4s3iv8A=s64",
      "userId": "16746628627498894795"
     },
     "user_tz": 180
    },
    "id": "kyy5bwWVuQKw",
    "outputId": "a9fb8e40-8dfb-41ca-bb04-2980a318da08"
   },
   "outputs": [
    {
     "name": "stdout",
     "output_type": "stream",
     "text": [
      " Nitrogen mass expelled by the body: 2.02 g\n",
      " Nitrogen volume expelled by the body: 1.73 L\n"
     ]
    }
   ],
   "source": [
    "\n",
    "P_1 = 5.                # atm\n",
    "y_n = 0.79              # N2 mole fraction in the atmosphere\n",
    "P_2 = 1.0               # atm\n",
    "M = 55.                 # kg - Diver weight\n",
    "x_w = 0.75              # ratio of water in the human body\n",
    "T = 37                  # ºC - Diver's body temperature\n",
    "\n",
    "H_n = 10.05*10**4       # atm\n",
    "\n",
    "n_rej = (M*1000*x_w/18)*( P_1*y_n/H_n - P_2*y_n/H_n)         # mol\n",
    "\n",
    "M_rej = n_rej * 28\n",
    "\n",
    "#considering the nitrogen as ideal gas, the volume of expelled gas can be calculated\n",
    "\n",
    "V_n = n_rej*0.082*293/1            # L\n",
    "\n",
    "print(\" Nitrogen mass expelled by the body: %0.2f g\"%(M_rej))\n",
    "print(\" Nitrogen volume expelled by the body: %0.2f L\"%(V_n))"
   ]
  },
  {
   "cell_type": "code",
   "execution_count": null,
   "metadata": {},
   "outputs": [],
   "source": []
  }
 ],
 "metadata": {
  "colab": {
   "name": "Equilibrio de Fases 2_paper.ipynb",
   "provenance": []
  },
  "kernelspec": {
   "display_name": "Python 3",
   "language": "python",
   "name": "python3"
  },
  "language_info": {
   "codemirror_mode": {
    "name": "ipython",
    "version": 3
   },
   "file_extension": ".py",
   "mimetype": "text/x-python",
   "name": "python",
   "nbconvert_exporter": "python",
   "pygments_lexer": "ipython3",
   "version": "3.8.5"
  }
 },
 "nbformat": 4,
 "nbformat_minor": 1
}
