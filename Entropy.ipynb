{
 "cells": [
  {
   "cell_type": "markdown",
   "metadata": {
    "id": "nXBf-qahahtF"
   },
   "source": [
    "# **Exercises about entropy**"
   ]
  },
  {
   "cell_type": "markdown",
   "metadata": {
    "id": "4w-viVb_1eiU"
   },
   "source": [
    "## Exercise 1)\n",
    "\n",
    "The table below present the values of $Cº_{p,m} (J mol^{-1} K^{-1})$ of $O_2(g)$ in he range of 298 K to 1500 K. a) Fit a third degree polynomial to the heat capacity data in function of temperature and plot  $Cº_{p,m}$ versus temperature. b) A second alternative is to fit the equation $Cº_{p,m} = A + BT + CT^2 + D/T^2 $ to the given data. Perform the fit of this function to the given data and plot $Cº_{p,m}$ versus temperature. c) Compare the previous results.\n",
    "\n",
    "|   |   |   |   |   |   |   |   |   |   |   |   |   |   |\n",
    "|---|---|---|---|---|---|---|---|---|---|---|---|---|---|\n",
    "|T (K)|298.15|400.|500.|600.|700.|800.|900.|1000.|1100.|1200.|1300.|1400.|1500.\n",
    "|Cp (J/K mol)|29.376| 30.106| 31.091| 32.090| 32.981| 33.733| 34.355| 34.870| 35.300| 35.667| 35.988| 36.277| 36.544\n"
   ]
  },
  {
   "cell_type": "code",
   "execution_count": 1,
   "metadata": {
    "executionInfo": {
     "elapsed": 1931,
     "status": "ok",
     "timestamp": 1608038826444,
     "user": {
      "displayName": "Leonardo Baptista",
      "photoUrl": "https://lh3.googleusercontent.com/a-/AOh14GjRLOphTSKAaa1hk9s-yG76WfgeyIS9u1K4s3iv8A=s64",
      "userId": "16746628627498894795"
     },
     "user_tz": 180
    },
    "id": "x8m_Xf281eiV"
   },
   "outputs": [],
   "source": [
    "# Loading of the necessary packages to solve the exercises\n",
    "import numpy as np\n",
    "from scipy.optimize import curve_fit\n",
    "import matplotlib.pyplot as plt\n",
    "from scipy.integrate import quad\n"
   ]
  },
  {
   "cell_type": "markdown",
   "metadata": {
    "id": "5KMUrByJfDlY"
   },
   "source": [
    "# a)"
   ]
  },
  {
   "cell_type": "code",
   "execution_count": 2,
   "metadata": {
    "colab": {
     "base_uri": "https://localhost:8080/"
    },
    "executionInfo": {
     "elapsed": 2259,
     "status": "ok",
     "timestamp": 1608038826788,
     "user": {
      "displayName": "Leonardo Baptista",
      "photoUrl": "https://lh3.googleusercontent.com/a-/AOh14GjRLOphTSKAaa1hk9s-yG76WfgeyIS9u1K4s3iv8A=s64",
      "userId": "16746628627498894795"
     },
     "user_tz": 180
    },
    "id": "oCanuCJP1eiY",
    "outputId": "a5987de8-8517-4e0e-adfb-3e8806bf1e18"
   },
   "outputs": [
    {
     "name": "stdout",
     "output_type": "stream",
     "text": [
      "Cºp,m =  25.66508 + 0.01304T-3.81147e-06T²-5.57560e-11T³\n"
     ]
    }
   ],
   "source": [
    "# Arrays that will be plotted\n",
    "\n",
    "T = np.array([298.15,400.,500.,600.,700.,800.,900.,1000.,1100.,1200.,1300.,1400.,1500.])\n",
    "Cp = np.array([29.376, 30.106, 31.091, 32.090, 32.981, 33.733, 34.355, 34.870, 35.300, 35.667,35.988, 36.277, 36.544])\n",
    "\n",
    "# Polynomial fit\n",
    "deg = 3\n",
    "z = np.polyfit(T, Cp, deg)\n",
    "y = np.poly1d(z)\n",
    "\n",
    "#printing the formated results\n",
    "\n",
    "print('Cºp,m = ' + format(z[3] , ' 6.5f') + ' +' + format(z[2] , ' 6.5f') + 'T' + format(z[1] , ' 6.5e') + 'T²' + format(z[0] , ' 6.5e') + 'T³')   \n",
    "\n",
    "\n"
   ]
  },
  {
   "cell_type": "code",
   "execution_count": 3,
   "metadata": {
    "colab": {
     "base_uri": "https://localhost:8080/",
     "height": 296
    },
    "executionInfo": {
     "elapsed": 2254,
     "status": "ok",
     "timestamp": 1608038826789,
     "user": {
      "displayName": "Leonardo Baptista",
      "photoUrl": "https://lh3.googleusercontent.com/a-/AOh14GjRLOphTSKAaa1hk9s-yG76WfgeyIS9u1K4s3iv8A=s64",
      "userId": "16746628627498894795"
     },
     "user_tz": 180
    },
    "id": "Tv6hqjy81eie",
    "outputId": "904acb04-b48e-449a-989a-4dc22be0765b"
   },
   "outputs": [
    {
     "data": {
      "text/plain": [
       "<function matplotlib.pyplot.show>"
      ]
     },
     "execution_count": 3,
     "metadata": {
      "tags": []
     },
     "output_type": "execute_result"
    },
    {
     "data": {
      "image/png": "[encoded data removed]",
      "text/plain": [
       "<Figure size 432x288 with 1 Axes>"
      ]
     },
     "metadata": {
      "needs_background": "light",
      "tags": []
     },
     "output_type": "display_data"
    }
   ],
   "source": [
    "#plot of Cp versus T\n",
    "\n",
    "plt.plot(T,Cp,'*')\n",
    "plt.plot(T,y(T), color='green', linewidth=1)\n",
    "plt.xlabel('Temperature (K)')\n",
    "plt.ylabel('Cºp,m (J/mol K)')\n",
    "plt.show"
   ]
  },
  {
   "cell_type": "markdown",
   "metadata": {
    "id": "xC3zxg1_fF5u"
   },
   "source": [
    "# b)"
   ]
  },
  {
   "cell_type": "code",
   "execution_count": 4,
   "metadata": {
    "colab": {
     "base_uri": "https://localhost:8080/"
    },
    "executionInfo": {
     "elapsed": 3119,
     "status": "ok",
     "timestamp": 1608038827659,
     "user": {
      "displayName": "Leonardo Baptista",
      "photoUrl": "https://lh3.googleusercontent.com/a-/AOh14GjRLOphTSKAaa1hk9s-yG76WfgeyIS9u1K4s3iv8A=s64",
      "userId": "16746628627498894795"
     },
     "user_tz": 180
    },
    "id": "BJx5ZncO1eig",
    "outputId": "4f99d21a-5069-47e4-c5e7-b622cb812c82"
   },
   "outputs": [
    {
     "name": "stdout",
     "output_type": "stream",
     "text": [
      "Cºp,m =  2.483e+01 + 1.456e-02T -4.560e-06T²  + 4.90797e+04/T²\n"
     ]
    }
   ],
   "source": [
    "# defining the funcion that will be used \n",
    "\n",
    "def func(T, a, b, c, d):\n",
    "\n",
    "    return a + b*T + c*T**2 + d/T**2\n",
    "\n",
    "# the fit will be performed using least-squares\n",
    "# popt are the optimized parametes obtaines after the fit\n",
    "# pcov is the covariance matrix of popt. The standard deviation of the fit can be evaluate using this matrix\n",
    "popt, pcov = curve_fit(func, T, Cp)\n",
    "\n",
    "#printing the formated results\n",
    "print('Cºp,m = ' + format(popt[0] , ' 6.3e') + ' +' + format(popt[1] , ' 6.3e') + 'T ' + format(popt[2] , ' 6.3e') + 'T²  +' + format(popt[3] , ' 6.5e') + '/T²')   \n",
    "\n"
   ]
  },
  {
   "cell_type": "code",
   "execution_count": 5,
   "metadata": {
    "colab": {
     "base_uri": "https://localhost:8080/",
     "height": 296
    },
    "executionInfo": {
     "elapsed": 3115,
     "status": "ok",
     "timestamp": 1608038827661,
     "user": {
      "displayName": "Leonardo Baptista",
      "photoUrl": "https://lh3.googleusercontent.com/a-/AOh14GjRLOphTSKAaa1hk9s-yG76WfgeyIS9u1K4s3iv8A=s64",
      "userId": "16746628627498894795"
     },
     "user_tz": 180
    },
    "id": "9WmF5tXN1eij",
    "outputId": "26cb74da-6c94-45b7-a8a2-8389c2201960"
   },
   "outputs": [
    {
     "data": {
      "text/plain": [
       "<function matplotlib.pyplot.show>"
      ]
     },
     "execution_count": 5,
     "metadata": {
      "tags": []
     },
     "output_type": "execute_result"
    },
    {
     "data": {
      "image/png": "[encoded data removed]",
      "text/plain": [
       "<Figure size 432x288 with 1 Axes>"
      ]
     },
     "metadata": {
      "needs_background": "light",
      "tags": []
     },
     "output_type": "display_data"
    }
   ],
   "source": [
    "#plot of Cp versus T\n",
    "\n",
    "plt.plot(T,Cp,'*')\n",
    "plt.plot(T,func(T, *popt), color='green', linewidth=1)\n",
    "plt.xlabel('Temperatura (K)')\n",
    "plt.ylabel('Cºp,m (J/mol K)')\n",
    "plt.show"
   ]
  },
  {
   "cell_type": "markdown",
   "metadata": {
    "id": "CtnAunUN1eil"
   },
   "source": [
    "## Exercise 2)\n",
    "\n",
    " Cp/T versus T graphs can be used to estimate the entropy of material since the entropy is the area below the curve. The following table presents the Cp changes of $Na_2SO_4$ in function of the temperature. a) Conduct a polynomial fit that passes through the origin of the given data and calculate the $Na_2SO_4$ entropy at 90 K. b) At low temperatures, the Cp/T values may behave as an aT³ function (where “a” is a constant). Check the temperature range that this approach is valid. c) Fit the $ Cº_{p,m} = A + BT + CT^2 + \\frac{D}{T^2} $ function to the given data and calcule the entropy at 90 K. d) Perform the same fit of the last item, but consider a function of type $ Cº_{p,m} = A + BT + CT^2 + DT^3 $ and calculate the entropy at 90 K. Compare both fits performed.\n",
    "\n",
    "|   |   |   |   |   |   |   |   |   |  \n",
    "|---|---|---|---|---|---|---|---|---|\n",
    "|Cp($cal K^{-1}$ )|0.171|0.286|0.626|1.615|4.346|7.032|10.48|13.28|15.33\n",
    "|T(K)|13.74|16.25|20.43|27.73|41.11|52.72|68.15|82.96|95.71\n"
   ]
  },
  {
   "cell_type": "markdown",
   "metadata": {
    "id": "BfTySfc91eil"
   },
   "source": [
    "# a)"
   ]
  },
  {
   "cell_type": "code",
   "execution_count": 6,
   "metadata": {
    "colab": {
     "base_uri": "https://localhost:8080/"
    },
    "executionInfo": {
     "elapsed": 3111,
     "status": "ok",
     "timestamp": 1608038827662,
     "user": {
      "displayName": "Leonardo Baptista",
      "photoUrl": "https://lh3.googleusercontent.com/a-/AOh14GjRLOphTSKAaa1hk9s-yG76WfgeyIS9u1K4s3iv8A=s64",
      "userId": "16746628627498894795"
     },
     "user_tz": 180
    },
    "id": "B0nEK58q1eim",
    "outputId": "2535b74e-0dc3-4496-b440-1ed834d34540"
   },
   "outputs": [
    {
     "name": "stdout",
     "output_type": "stream",
     "text": [
      "Cºp,m = -5.746e-02T  + 5.167e-03T² -3.03363e-05T³\n"
     ]
    }
   ],
   "source": [
    "# Variables used in this exercise\n",
    "\n",
    "T = np.array([13.74,16.25,20.43,27.73,41.11,52.72,68.15,82.96,95.71])\n",
    "Cp = np.array([0.171,0.286,0.626,1.615,4.346,7.032,10.48,13.28,15.33])\n",
    "\n",
    "# Definition of the function that will be used\n",
    "def func(T, b, c, d):\n",
    "\n",
    "    return b*T + c*T**2 + d*T**3\n",
    "\n",
    "# the fit will be performed using least-squares\n",
    "# popt are the optimized parametes obtaines after the fit\n",
    "# pcov is the covariance matrix of popt. The standard deviation of the fit can be evaluate using this matrix\n",
    "popt, pcov = curve_fit(func, T, Cp)\n",
    "\n",
    "#printing the formated results\n",
    "print('Cºp,m = ' + format(popt[0] , ' 6.3e') + 'T  +' + format(popt[1] , ' 6.3e') + 'T² ' + format(popt[2] , ' 6.5e') + 'T³')   \n",
    "\n"
   ]
  },
  {
   "cell_type": "code",
   "execution_count": 7,
   "metadata": {
    "colab": {
     "base_uri": "https://localhost:8080/",
     "height": 299
    },
    "executionInfo": {
     "elapsed": 3107,
     "status": "ok",
     "timestamp": 1608038827663,
     "user": {
      "displayName": "Leonardo Baptista",
      "photoUrl": "https://lh3.googleusercontent.com/a-/AOh14GjRLOphTSKAaa1hk9s-yG76WfgeyIS9u1K4s3iv8A=s64",
      "userId": "16746628627498894795"
     },
     "user_tz": 180
    },
    "id": "faLoRz2a1eio",
    "outputId": "72952450-4909-4476-bf9f-089b6af95e86"
   },
   "outputs": [
    {
     "data": {
      "text/plain": [
       "<function matplotlib.pyplot.show>"
      ]
     },
     "execution_count": 7,
     "metadata": {
      "tags": []
     },
     "output_type": "execute_result"
    },
    {
     "data": {
      "image/png": "[encoded data removed]",
      "text/plain": [
       "<Figure size 432x288 with 1 Axes>"
      ]
     },
     "metadata": {
      "needs_background": "light",
      "tags": []
     },
     "output_type": "display_data"
    }
   ],
   "source": [
    "#plot of Cp versus T\n",
    "\n",
    "plt.plot(T,Cp,'*')\n",
    "plt.plot(T,func(T, *popt), color='green', linewidth=1)\n",
    "plt.xlabel('Temperature (K)')\n",
    "plt.ylabel('Cºp,m (J/mol K)')\n",
    "plt.show"
   ]
  },
  {
   "cell_type": "code",
   "execution_count": 8,
   "metadata": {
    "colab": {
     "base_uri": "https://localhost:8080/"
    },
    "executionInfo": {
     "elapsed": 3103,
     "status": "ok",
     "timestamp": 1608038827663,
     "user": {
      "displayName": "Leonardo Baptista",
      "photoUrl": "https://lh3.googleusercontent.com/a-/AOh14GjRLOphTSKAaa1hk9s-yG76WfgeyIS9u1K4s3iv8A=s64",
      "userId": "16746628627498894795"
     },
     "user_tz": 180
    },
    "id": "KJFVadQj1eir",
    "outputId": "c51555d7-2a97-4dc9-e8cc-3ec42bf1d055"
   },
   "outputs": [
    {
     "name": "stdout",
     "output_type": "stream",
     "text": [
      "Delta S (J/K mol)=  8.382\n",
      "numerical error of integration = 1.006e-13\n"
     ]
    }
   ],
   "source": [
    "# performing the integration in the interval informed\n",
    "# the function that will be integrated is divided by T.\n",
    "def func(T):\n",
    "\n",
    "    return popt[0] + popt[1]*T + popt[2]*T**2\n",
    "\n",
    "ans, err = quad(func, 0, 90) #Perform the integral calculation and estimate the integral error\n",
    "print('Delta S (J/K mol)= ' + format(ans , '6.3f'))\n",
    "print('numerical error of integration = ' + format(err, '6.3e'))"
   ]
  },
  {
   "cell_type": "markdown",
   "metadata": {
    "id": "qrCXZFn41eiu"
   },
   "source": [
    "# b)\n",
    "The temperature range that the Debye's Law fit is valid should be analyzed first."
   ]
  },
  {
   "cell_type": "code",
   "execution_count": 9,
   "metadata": {
    "colab": {
     "base_uri": "https://localhost:8080/",
     "height": 331
    },
    "executionInfo": {
     "elapsed": 3098,
     "status": "ok",
     "timestamp": 1608038827664,
     "user": {
      "displayName": "Leonardo Baptista",
      "photoUrl": "https://lh3.googleusercontent.com/a-/AOh14GjRLOphTSKAaa1hk9s-yG76WfgeyIS9u1K4s3iv8A=s64",
      "userId": "16746628627498894795"
     },
     "user_tz": 180
    },
    "id": "eNbxXVsf1eiv",
    "outputId": "0567e5a8-c9c1-40cf-f8b7-ab94c60dd30e"
   },
   "outputs": [
    {
     "name": "stdout",
     "output_type": "stream",
     "text": [
      "a= 6.383e-05\n",
      "standard deviation = 1.919e-06\n"
     ]
    },
    {
     "data": {
      "text/plain": [
       "<function matplotlib.pyplot.show>"
      ]
     },
     "execution_count": 9,
     "metadata": {
      "tags": []
     },
     "output_type": "execute_result"
    },
    {
     "data": {
      "image/png": "[encoded data removed]",
      "text/plain": [
       "<Figure size 432x288 with 1 Axes>"
      ]
     },
     "metadata": {
      "needs_background": "light",
      "tags": []
     },
     "output_type": "display_data"
    }
   ],
   "source": [
    "#The student may change T and Cp range of values to analyze the quality of the fit using Debye's Law.\n",
    "\n",
    "Ti = T[:5]  # pick only the first five temperature values\n",
    "Cpi = Cp[:5] # pick only the first five heat capacity values\n",
    "\n",
    "# Difining the Debye's Law function\n",
    "def func(Ti, a):\n",
    "\n",
    "    return a*Ti**3\n",
    "\n",
    "a, pcov = curve_fit(func, Ti, Cpi) # conduct the model fitting\n",
    "\n",
    "perr = np.sqrt(np.diag(pcov)) # standard deviation calculus\n",
    "\n",
    "#imprimir só os coeficientes na forma de vetor\n",
    "print('a= ' + format(a[0] , '6.3e'))\n",
    "print('standard deviation = ' + format(perr[0], '6.3e'))\n",
    "\n",
    "#plot of Cp versus T\n",
    "plt.plot(Ti,Cpi,'*')\n",
    "plt.plot(Ti,func(Ti, *a), color='green', linewidth=1)\n",
    "plt.xlabel('Temperature (K)')\n",
    "plt.ylabel('Cºp,m (J/mol K)')\n",
    "plt.show"
   ]
  },
  {
   "cell_type": "markdown",
   "metadata": {
    "id": "k57fhhQK1eix"
   },
   "source": [
    "# Solution of (c) and (d) itens."
   ]
  },
  {
   "cell_type": "code",
   "execution_count": 10,
   "metadata": {
    "colab": {
     "base_uri": "https://localhost:8080/"
    },
    "executionInfo": {
     "elapsed": 3094,
     "status": "ok",
     "timestamp": 1608038827665,
     "user": {
      "displayName": "Leonardo Baptista",
      "photoUrl": "https://lh3.googleusercontent.com/a-/AOh14GjRLOphTSKAaa1hk9s-yG76WfgeyIS9u1K4s3iv8A=s64",
      "userId": "16746628627498894795"
     },
     "user_tz": 180
    },
    "id": "-skiuH1z1eiy",
    "outputId": "1e669ded-7f2b-4889-997f-39a25f65af9c"
   },
   "outputs": [
    {
     "name": "stdout",
     "output_type": "stream",
     "text": [
      "Cºp,m = -6.436e+00 + 2.829e-01T -5.728e-04T²  + 5.61810e+02/T²\n",
      "Delta S (J/K mol)= -36.947\n",
      "error in the integration = 2.677e+01\n"
     ]
    },
    {
     "name": "stderr",
     "output_type": "stream",
     "text": [
      "/usr/local/lib/python3.6/dist-packages/ipykernel_launcher.py:23: IntegrationWarning: The integral is probably divergent, or slowly convergent.\n"
     ]
    }
   ],
   "source": [
    "# Considering the first function\n",
    "\n",
    "\n",
    "# Defining the function used in the fit\n",
    "def func(T, a, b, c, d):\n",
    "\n",
    "    return a + b*T + c*T**2 + d/T**2\n",
    "\n",
    "# the fit will be performed using least-squares\n",
    "# popt are the optimized parametes obtaines after the fit\n",
    "# pcov is the covariance matrix of popt. The standard deviation of the fit can be evaluate using this matrix\n",
    "popt, pcov = curve_fit(func, T, Cp)\n",
    "\n",
    "# printing the fitted model\n",
    "print('Cºp,m = ' + format(popt[0] , ' 6.3e') + ' +' + format(popt[1] , ' 6.3e') + 'T ' + format(popt[2] , ' 6.3e') + 'T²  +' + format(popt[3] , ' 6.5e') + '/T²')   \n",
    "\n",
    "\n",
    "# Entropy calculation by integration of the equation obtained after the fit\n",
    "def func(T):\n",
    "\n",
    "    return popt[0]/T + popt[1] + popt[2]*T + popt[3]/T**3\n",
    "\n",
    "ans, err = quad(func, 0, 90) # performing the integration of the third law entropy\n",
    "\n",
    "print('Delta S (J/K mol)= ' + format(ans , '6.3f'))\n",
    "print('error in the integration = ' + format(err, '6.3e'))"
   ]
  },
  {
   "cell_type": "code",
   "execution_count": 11,
   "metadata": {
    "colab": {
     "base_uri": "https://localhost:8080/"
    },
    "executionInfo": {
     "elapsed": 3092,
     "status": "ok",
     "timestamp": 1608038827666,
     "user": {
      "displayName": "Leonardo Baptista",
      "photoUrl": "https://lh3.googleusercontent.com/a-/AOh14GjRLOphTSKAaa1hk9s-yG76WfgeyIS9u1K4s3iv8A=s64",
      "userId": "16746628627498894795"
     },
     "user_tz": 180
    },
    "id": "6llZALVb1ei0",
    "outputId": "6eb15e90-9679-4c25-ee73-e99dfad16e1d"
   },
   "outputs": [
    {
     "name": "stdout",
     "output_type": "stream",
     "text": [
      "Cºp,m = -0.20558-0.04189T +  4.85438e-03T² -2.85176e-05T³\n",
      "Delta S (J/K mol)=  0.393\n",
      "error in the integration = 1.922e+00\n"
     ]
    },
    {
     "name": "stderr",
     "output_type": "stream",
     "text": [
      "/usr/local/lib/python3.6/dist-packages/ipykernel_launcher.py:18: IntegrationWarning: The maximum number of subdivisions (50) has been achieved.\n",
      "  If increasing the limit yields no improvement it is advised to analyze \n",
      "  the integrand in order to determine the difficulties.  If the position of a \n",
      "  local difficulty can be determined (singularity, discontinuity) one will \n",
      "  probably gain from splitting up the interval and calling the integrator \n",
      "  on the subranges.  Perhaps a special-purpose integrator should be used.\n"
     ]
    }
   ],
   "source": [
    "# Considering the third degree polynomial\n",
    "\n",
    "\n",
    "deg = 3\n",
    "z = np.polyfit(T, Cp, deg)\n",
    "y = np.poly1d(z)\n",
    "\n",
    "\n",
    "print('Cºp,m = ' + format(z[3] , ' 6.5f') + format(z[2] , ' 6.5f') + 'T + ' + format(z[1] , ' 6.5e') + 'T² ' + format(z[0] , ' 6.5e') + 'T³')   \n",
    "\n",
    "\n",
    "\n",
    "# Entropy calculation by integration of the equation obtained after the fit\n",
    "def func(T):\n",
    "\n",
    "    return z[3]/T + z[2] + z[1]*T + z[0]*T**2\n",
    "\n",
    "ans, err = quad(func, 0, 90) # performing the integration of the third law entropy\n",
    "\n",
    "\n",
    "print('Delta S (J/K mol)= ' + format(ans , '6.3f'))\n",
    "print('error in the integration = ' + format(err, '6.3e'))"
   ]
  },
  {
   "cell_type": "markdown",
   "metadata": {
    "id": "ALYvg45p1ei3"
   },
   "source": [
    "The entropy values calculated in items (a), (c), and (d) differ in value and signal. There is no agreement between the employed methods. A small difference due to numerical errors, and the integration of different functions was expected, not the high difference observed in the results. Since the Cp/T functions considered in the items (c) and (d) have an indetermination in the origin, an error occurs during the numerical integration. In these cases, the integral should be divided into two intervals:\n",
    "\n",
    "$$ \\Delta Sº = \\int_{0}^{90} \\frac{C_p}{T} dT = \\int_{0}^{T_{low}} \\frac{C_p}{T} dT + \\int_{T_{low}}^{90} \\frac{C_p}{T} dT $$\n",
    "\n",
    "As discussed in item (b), Cp can obey a function of type $ aT^3$, in this case, the integration becomes:  \n",
    "\n",
    "$$ \\Delta Sº = \\int_{0}^{T_{low}} \\frac{aT^3}{T} dT + \\int_{T_{low}}^{90} \\frac{C_p}{T} dT $$ \n",
    "\n",
    "ou \n",
    "\n",
    "$$ \\Delta Sº = \\frac{aT^3}{3} + \\int_{T_{low}}^{90} \\frac{C_p}{T} dT = \\frac{C_p}{3} + \\int_{T_{low}}^{90} \\frac{C_p}{T} dT$$ \n",
    "\n",
    "Where $C_p$ on the first integral of the right side is the heat capacity at  $T_{low}$, defined by the fit of Debye's Law in item (b). $T_{low}$ is the highest temperature value that the aT³ function is valid. Now the problem will be solved with the necessary modifications."
   ]
  },
  {
   "cell_type": "code",
   "execution_count": 12,
   "metadata": {
    "colab": {
     "base_uri": "https://localhost:8080/"
    },
    "executionInfo": {
     "elapsed": 3087,
     "status": "ok",
     "timestamp": 1608038827666,
     "user": {
      "displayName": "Leonardo Baptista",
      "photoUrl": "https://lh3.googleusercontent.com/a-/AOh14GjRLOphTSKAaa1hk9s-yG76WfgeyIS9u1K4s3iv8A=s64",
      "userId": "16746628627498894795"
     },
     "user_tz": 180
    },
    "id": "Cax0z-_m1ei3",
    "outputId": "9b12049c-d622-45c4-c0f4-dc266a9e03bf"
   },
   "outputs": [
    {
     "name": "stdout",
     "output_type": "stream",
     "text": [
      "Delta S (J/K mol)=  8.565\n",
      "error in the integration = 9.509e-14\n"
     ]
    }
   ],
   "source": [
    "# Considering the firs funtion\n",
    "# It is not necessary to perform again the fit since the coefficients are saved.\n",
    "\n",
    "def func1(T):\n",
    "\n",
    "    return a[0]*T**2\n",
    "\n",
    "ans1, err1 = quad(func1, 0, 40)\n",
    "\n",
    "\n",
    "def func2(T):\n",
    "\n",
    "    return popt[0]/T + popt[1] + popt[2]*T + popt[3]/T**3\n",
    "\n",
    "ans2, err2 = quad(func2, 40, 90)\n",
    "\n",
    "DS = ans1 + ans2\n",
    "erro = err1 + err2\n",
    "\n",
    "print('Delta S (J/K mol)= ' + format(DS , '6.3f'))\n",
    "print('error in the integration = ' + format(erro, '6.3e'))"
   ]
  },
  {
   "cell_type": "code",
   "execution_count": 14,
   "metadata": {
    "colab": {
     "base_uri": "https://localhost:8080/"
    },
    "executionInfo": {
     "elapsed": 851,
     "status": "ok",
     "timestamp": 1608039039963,
     "user": {
      "displayName": "Leonardo Baptista",
      "photoUrl": "https://lh3.googleusercontent.com/a-/AOh14GjRLOphTSKAaa1hk9s-yG76WfgeyIS9u1K4s3iv8A=s64",
      "userId": "16746628627498894795"
     },
     "user_tz": 180
    },
    "id": "GEBrAdm91ei6",
    "outputId": "d1096111-1c08-48ec-adcb-dba050515088"
   },
   "outputs": [
    {
     "name": "stdout",
     "output_type": "stream",
     "text": [
      "Delta S (J/K mol)=  8.556\n",
      "error in the integration = 9.499e-14\n"
     ]
    }
   ],
   "source": [
    "# Considering the firs funtion\n",
    "# It is not necessary to perform again the fit since the coefficients are saved.\n",
    "# It is not necessary to calculate the first integration again since the result will be the same. \n",
    "# However, the calculus will be repeated in order to reinforce the need to separate the integrals\n",
    "\n",
    "def func1(T):\n",
    "\n",
    "    return a[0]*T**2\n",
    "\n",
    "ans1, err1 = quad(func1, 0, 40)\n",
    "\n",
    "\n",
    "def func2(T):\n",
    "\n",
    "    return z[3]/T + z[2] + z[1]*T + z[0]*T**2\n",
    "\n",
    "ans2, err2 = quad(func2, 40, 90)\n",
    "\n",
    "\n",
    "DS = ans1 + ans2\n",
    "erro = err1 + err2\n",
    "\n",
    "print('Delta S (J/K mol)= ' + format(DS , '6.3f'))\n",
    "print('error in the integration = ' + format(erro, '6.3e'))"
   ]
  },
  {
   "cell_type": "markdown",
   "metadata": {
    "id": "vCGsgonx1ei8"
   },
   "source": [
    "Now we can verify that the results of (a), (c), and (d) items are similar. The choice of the mathematical model to fit the heat capacity is related to the calculations that you intend to perform and the parameters that will be calculated, taking into account the issues related to the integration of entropy at low temperatures."
   ]
  }
 ],
 "metadata": {
  "colab": {
   "name": "Exercicio-Fis-Qui3-Entropia_paper.ipynb",
   "provenance": []
  },
  "kernelspec": {
   "display_name": "Python 3",
   "language": "python",
   "name": "python3"
  },
  "language_info": {
   "codemirror_mode": {
    "name": "ipython",
    "version": 3
   },
   "file_extension": ".py",
   "mimetype": "text/x-python",
   "name": "python",
   "nbconvert_exporter": "python",
   "pygments_lexer": "ipython3",
   "version": "3.8.5"
  }
 },
 "nbformat": 4,
 "nbformat_minor": 1
}
