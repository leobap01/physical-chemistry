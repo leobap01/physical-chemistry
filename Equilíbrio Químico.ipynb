{
 "cells": [
  {
   "cell_type": "code",
   "execution_count": 2,
   "metadata": {
    "colab": {},
    "colab_type": "code",
    "executionInfo": {
     "elapsed": 729,
     "status": "ok",
     "timestamp": 1599918159595,
     "user": {
      "displayName": "Leonardo Baptista",
      "photoUrl": "https://lh3.googleusercontent.com/a-/AOh14GjbU4VJykcNXBUbYVc_hHe6AtHG07aImWtddXbw=s64",
      "userId": "16746628627498894795"
     },
     "user_tz": 180
    },
    "id": "jgcPQCpAe8FA"
   },
   "outputs": [],
   "source": [
    "#módulos para resolução dos exercícios:\n",
    "import math\n",
    "from scipy.optimize import fsolve"
   ]
  },
  {
   "cell_type": "markdown",
   "metadata": {
    "colab_type": "text",
    "id": "7R_dbPnIe8FK"
   },
   "source": [
    "# Exemplo 1"
   ]
  },
  {
   "cell_type": "markdown",
   "metadata": {
    "colab_type": "text",
    "id": "CrgrB9B7e8FM"
   },
   "source": [
    "a) Use tabelas de dados termodinâmicos para calcular a constante de equilíbrio da reação $ N_2(g) + O_2(g) <=> 2NO(g) $ em T = 298.15 K e 1 bar (0.987 atm). Calcule a concentração de equilíbrio de NO no ar atmosférico em b)  T = 298.15 K e 1 atm e c) T = 2000 K e 1 atm "
   ]
  },
  {
   "cell_type": "markdown",
   "metadata": {
    "colab_type": "text",
    "id": "B1Cjw58ve8FQ"
   },
   "source": [
    "##  Solução:\n",
    "Em primeiro lugar deve ser calculado a energia livre de reação. Em seguida a relação $ K = -RTln(\\Delta_r G^0)$ para o cálculo da constante de equilíbrio a 298K. Para este tipo de reação, a expressão da cosntante de equilíbrio em termos das pressões parciais é igual a constante em termos de frações molares. Assim podemos assumir a composição aproximada do ar como $N_2$ = 0.78 e $O_2$ = 0.21 e que devido a magnitude da constante de equilíbrio estes valores não se alteram apreciavelmente. Será usada a relação $ K = K_x \\times p^{\\Delta \\nu}$ para resolver o exercício. Por último usamos a equação $ ln(\\frac{K_2}{K_1}) = -\\frac{\\Delta H^0}{R} \\times (\\frac{1}{T_2}-\\frac{1}{T_1}) $para obter a constante a 2000 K e estimar a concentração de equilíbrio de NO.  "
   ]
  },
  {
   "cell_type": "code",
   "execution_count": 3,
   "metadata": {
    "colab": {
     "base_uri": "https://localhost:8080/",
     "height": 52
    },
    "colab_type": "code",
    "executionInfo": {
     "elapsed": 717,
     "status": "ok",
     "timestamp": 1599918431248,
     "user": {
      "displayName": "Leonardo Baptista",
      "photoUrl": "https://lh3.googleusercontent.com/a-/AOh14GjbU4VJykcNXBUbYVc_hHe6AtHG07aImWtddXbw=s64",
      "userId": "16746628627498894795"
     },
     "user_tz": 180
    },
    "id": "t1i-SB3Ve8FR",
    "outputId": "d29e6cea-960c-47c7-8181-1473bffcf483"
   },
   "outputs": [
    {
     "name": "stdout",
     "output_type": "stream",
     "text": [
      " Constante de equilíbrio a 298.15 K é \t\t\t 4.5e-31\n",
      " A concentração de NO no equilíbrio a 298K é \t\t 2.7e-16\n"
     ]
    }
   ],
   "source": [
    "T = 298.15             #[K] temperatura\n",
    "P = 0.987               #[atm] pressão\n",
    "g_0_NO = 86.6           #[kJ/mol] G padrão de formação do NO\n",
    "R = 8.314               #[J/(mol*K)]\n",
    "\n",
    "g_0_O2 = 0.00           #[kJ/mol] G padrão de formação do O2    \n",
    "g_0_N2 = 0.00           #[kJ/mol] G padrão de formação do N2    \n",
    "\n",
    "\n",
    "# cálculo do DeltaG\n",
    "delta_g_0 = 2*g_0_NO - g_0_O2 - g_0_N2          #[kJ/mol]\n",
    "delta_g_01 = delta_g_0*1000                     #[J/mol]\n",
    "\n",
    "# Cálculo de K\n",
    "K_298 = math.exp((-delta_g_01)/(R*T))\n",
    "\n",
    "#composição do ar atmosférico\n",
    "\n",
    "y_N2 = 0.78\n",
    "y_O2 = 0.21\n",
    "\n",
    "y_NO_298 = math.sqrt(K_298*y_N2*y_O2)\n",
    "\n",
    "\n",
    "print( \" Constante de equilíbrio a 298.15 K é \\t\\t\\t %.1e\"%(K_298))\n",
    "print(\" A concentração de NO no equilíbrio a 298K é \\t\\t %.1e\"%(y_NO_298))\n"
   ]
  },
  {
   "cell_type": "code",
   "execution_count": 5,
   "metadata": {
    "colab": {
     "base_uri": "https://localhost:8080/",
     "height": 52
    },
    "colab_type": "code",
    "executionInfo": {
     "elapsed": 982,
     "status": "ok",
     "timestamp": 1599918743178,
     "user": {
      "displayName": "Leonardo Baptista",
      "photoUrl": "https://lh3.googleusercontent.com/a-/AOh14GjbU4VJykcNXBUbYVc_hHe6AtHG07aImWtddXbw=s64",
      "userId": "16746628627498894795"
     },
     "user_tz": 180
    },
    "id": "WI2sCr7He8FZ",
    "outputId": "7be09cc0-f4df-4225-cc89-ef659bdfda45"
   },
   "outputs": [
    {
     "name": "stdout",
     "output_type": "stream",
     "text": [
      " Constante de equilíbrio a  2000 K é \t\t\t 3.7e-04\n",
      " A fração molar de NO no equilíbrio a 2000 K é \t\t 7.8e-03 \n"
     ]
    }
   ],
   "source": [
    "#item (c)\n",
    "\n",
    "T_1 = 2000                  #[K]\n",
    "\n",
    "h_0_NO = 90.25  # kJ/mol H padrão de formação do NO\n",
    "\n",
    "delta_h_0 = 2*h_0_NO - 0 - 0          #[kJ/mol]\n",
    "delta_h_01 = delta_h_0*1000           #[J/mol]\n",
    "\n",
    "\n",
    "#cálculo K\n",
    "K_2000 = math.exp(math.log(K_298) -delta_h_01/R *(1/T_1 -1/T))\n",
    "\n",
    "y_NO_2000 = math.sqrt(K_2000*y_N2*y_O2)       \n",
    "print( \" Constante de equilíbrio a  2000 K é \\t\\t\\t %.1e\"%(K_2000))\n",
    "print( \" A fração molar de NO no equilíbrio a 2000 K é \\t\\t %.1e \"%(y_NO_2000))\n"
   ]
  },
  {
   "cell_type": "markdown",
   "metadata": {
    "colab_type": "text",
    "id": "zFE7lD-Se8Fe"
   },
   "source": [
    "## Exemplo 2\n",
    "\n",
    "Refaça o cálculo da concentração de equilíbrio NO, do exercício anterior, a 2000 K e 1 atm, mas desta vez sem negligenciar a variação na concentração de $O_2$ e $N_2$."
   ]
  },
  {
   "cell_type": "markdown",
   "metadata": {
    "colab_type": "text",
    "id": "khPi86tre8Ff"
   },
   "source": [
    "## Solução\n",
    "\n",
    "Monte o quadro do equilíbrio e resolva a equação quadrática resultante. Uma alternativa, que será usada neste exemplo, é a minimização da energia livre de Gibbs de reação a partir das equações que descrevem o modelo.\n",
    "\n",
    "|   |   |   |   |\n",
    "|---|---|---|---|\n",
    "|  |O2 |N2 |2NO|\n",
    "|ini |0.21| 0.78 | 0\n",
    "|eq | 0.21-x | 0.78-x | 2x"
   ]
  },
  {
   "cell_type": "code",
   "execution_count": 9,
   "metadata": {
    "colab": {
     "base_uri": "https://localhost:8080/",
     "height": 34
    },
    "colab_type": "code",
    "executionInfo": {
     "elapsed": 711,
     "status": "ok",
     "timestamp": 1599919102411,
     "user": {
      "displayName": "Leonardo Baptista",
      "photoUrl": "https://lh3.googleusercontent.com/a-/AOh14GjbU4VJykcNXBUbYVc_hHe6AtHG07aImWtddXbw=s64",
      "userId": "16746628627498894795"
     },
     "user_tz": 180
    },
    "id": "O5li0ZKRe8Fi",
    "outputId": "6062c229-6fa8-42c7-dcb0-3f8b63e1f1f5"
   },
   "outputs": [
    {
     "name": "stdout",
     "output_type": "stream",
     "text": [
      " Fração molar do NO calculado neste exemplo 7.7e-03\n"
     ]
    }
   ],
   "source": [
    "Temp = 2000.                #[K]\n",
    "\n",
    "\n",
    "\n",
    "K_2000 = 3.7e-4 \n",
    "\n",
    "#escrevendo uma função no formato do python para cálculo do mínimo da energia livre \n",
    "# a função fsolve vai encontrar as raízes de uma função. Pode ser utilizada para resolução de sistemas. \n",
    "\n",
    "def f(x): \n",
    "\t return  (2*x)**2 - K_2000*(0.78-x)*(0.21-x)\n",
    "\n",
    "x = fsolve(f,0.01) # encontrar o valor de x que zera a função\n",
    "\n",
    "\n",
    "c_NO = 2*x\n",
    "\n",
    "\n",
    "print(\" Fração molar do NO calculado neste exemplo %.1e\"%(c_NO))\n"
   ]
  },
  {
   "cell_type": "markdown",
   "metadata": {
    "colab_type": "text",
    "id": "m4geXdyhe8Fm"
   },
   "source": [
    "## Exemplo 3\n",
    "\n",
    "Determine a composição de equilíbrio para isomerisação do isobutano:\n",
    "\n",
    "butano <=> isobutano  K = 4.52"
   ]
  },
  {
   "cell_type": "markdown",
   "metadata": {
    "colab_type": "text",
    "id": "YjeEeBOje8Fo"
   },
   "source": [
    "Pra resolver o exercício basta escrever a constante de equilíbrio em termos da frção molar de isobutano\n",
    "\n",
    "$$ K = \\frac{x_{iso}}{1-x_{iso}}$$\n",
    "\n",
    "Depois usamos o fsolve para minimizar a energia de Gibbs."
   ]
  },
  {
   "cell_type": "code",
   "execution_count": 10,
   "metadata": {
    "colab": {
     "base_uri": "https://localhost:8080/",
     "height": 34
    },
    "colab_type": "code",
    "executionInfo": {
     "elapsed": 774,
     "status": "ok",
     "timestamp": 1599919336989,
     "user": {
      "displayName": "Leonardo Baptista",
      "photoUrl": "https://lh3.googleusercontent.com/a-/AOh14GjbU4VJykcNXBUbYVc_hHe6AtHG07aImWtddXbw=s64",
      "userId": "16746628627498894795"
     },
     "user_tz": 180
    },
    "id": "8GGY3nM9e8Fp",
    "outputId": "b2315153-2d81-4d18-e652-184f51addf87"
   },
   "outputs": [
    {
     "name": "stdout",
     "output_type": "stream",
     "text": [
      " Fração molar do isobutano 0.82\n"
     ]
    }
   ],
   "source": [
    "K = 4.52\n",
    "\n",
    "\n",
    "def f(x_iso): \n",
    "\t return  x_iso/(1-x_iso)-K\n",
    "\n",
    "x_iso = fsolve(f,0)\n",
    "\n",
    "print(\" Fração molar do isobutano %0.2f\"%(x_iso))\n",
    "\n"
   ]
  },
  {
   "cell_type": "markdown",
   "metadata": {
    "colab_type": "text",
    "id": "fPWIfWM6e8Fu"
   },
   "source": [
    "## Exemplo 4\n",
    "\n",
    "Plantas modernas para produção de amônia trabalham em torno de 400ºC e 150 atm de pressão. Considerando estas condições, estime a conversão no equilíbrio. Assuma comportamento de gás ideal. K(400ºC, 1 bar) = 0.0137"
   ]
  },
  {
   "cell_type": "markdown",
   "metadata": {
    "colab_type": "text",
    "id": "m8uI7Ljxe8Fw"
   },
   "source": [
    "## Solução\n",
    "\n",
    "A reação em questão é $ 0.5N_2(g) + 1.5H_2(g) <=> NH_3(g) $.\n",
    "Inicialmente deve-se montar o quadro de equlíbrio e substituir as frações na equação da constante de equilíbrio\n",
    "\n",
    "|          |          |          |          |          |\n",
    "|----------|----------|----------|----------|----------|\n",
    "|          |0.5N2     |1.5H2 |NH3| |\n",
    "|ini       |0.5       | 1.5 | 0 |\n",
    "|eq        | 0.5-0.5x | 1.5-1.5x | x |\n",
    "|x         | $ \\frac{0.5-0.5x}{2.0-x}$ | $ \\frac{1.5-1.5x}{2.0-x}$ | $ \\frac{x}{2.0-x } $ |\n",
    "\n",
    "$ K_x = \\frac{\\frac{x}{2.0-x}}{(\\frac{0.5-0.5x}{2.0-x})^{0.5} \\times (\\frac{1.5-1.5x}{2.0-x})^{1.5}}  $\n",
    "\n",
    "Como foi fornecido a constante a 1 bar, é preciso recalcular o valor da constante de equilíbrio a 150 atm. Lembre-se que $K_p$ é independente da pressão.\n",
    "\n",
    "$K_{400°C,1bar} = K_{x} \\times P^{\\Delta \\nu_i}  = K_{x} \\times P[bar]^{(1-0.5-1.5)}$"
   ]
  },
  {
   "cell_type": "code",
   "execution_count": 19,
   "metadata": {
    "colab": {
     "base_uri": "https://localhost:8080/",
     "height": 34
    },
    "colab_type": "code",
    "executionInfo": {
     "elapsed": 672,
     "status": "ok",
     "timestamp": 1599920294907,
     "user": {
      "displayName": "Leonardo Baptista",
      "photoUrl": "https://lh3.googleusercontent.com/a-/AOh14GjbU4VJykcNXBUbYVc_hHe6AtHG07aImWtddXbw=s64",
      "userId": "16746628627498894795"
     },
     "user_tz": 180
    },
    "id": "PQZE3I9Pe8Fw",
    "outputId": "984d9570-a17f-42bf-e48d-76f7aaabfc0e"
   },
   "outputs": [
    {
     "name": "stdout",
     "output_type": "stream",
     "text": [
      "A fração molar de amônia no equilíbrio é  0.31\n"
     ]
    }
   ],
   "source": [
    "Temp = 273.15+400           #[K]\n",
    "P = 150*1.01325             #[bar]\n",
    "\n",
    "K_673 = 0.013\n",
    "\n",
    "#calculando a constante a 150 atm\n",
    "K = K_673*P**(1.5+0.5-1)\n",
    "\n",
    "#escrevendo a função que descreve o problema de equilíbrio\n",
    "\n",
    "def f(x): \n",
    "\t return  (x/(2-x))/(((0.5-0.5*x)/(2-x))**(0.5)*((1.5-1.5*x)/(2-x))**(1.5))-K\n",
    "\n",
    "x=fsolve(f,0.1)\n",
    "\n",
    "y_NH3 = x/(2-x)\n",
    "\n",
    "print(\"A fração molar de amônia no equilíbrio é  %0.2f\"%(y_NH3))"
   ]
  },
  {
   "cell_type": "markdown",
   "metadata": {
    "colab_type": "text",
    "id": "OrltZ0Dle8F0"
   },
   "source": [
    "## Exemplo 5\n",
    "Gillespie e Beattie (Phys. Rev. 36:743–753 (1930)) computaram o parâmetro $K_{\\phi}$ para síntese da amônia, representando o volume específico de vários gases pela equação de estado de Bettie-Bridgeman. Os resultados tem a seguinte forma:\n",
    "\n",
    "$$ log(\\frac{1}{K_{\\phi}}) = (\\frac{0.119184}{T}+\\frac{91.87212}{T^2}+\\frac{25122730}{T^4}) \\times P $$ \n",
    "\n",
    "\n",
    "Onde T e P são informados em K e atm, respectivamente.  Levando em consideração os desvios da idealidade, repita o cálculo da conversão no equilíbrio."
   ]
  },
  {
   "cell_type": "markdown",
   "metadata": {
    "colab_type": "text",
    "id": "sq0amk-Ve8F1"
   },
   "source": [
    "## Solução\n",
    "\n",
    "Em altas pressões o modelo do gás ideal não pode ser usado. Logo, a constante de equilíbrio deve ser escrita em termos das fugacidades dos gases:\n",
    "\n",
    "$$ K = \\frac{f_{NH_3}}{f_{N_2} ^{0.5} f_{H_2} ^{1.5}} =  \\frac{\\phi_{NH_3}}{\\phi_{N_2} ^{0.5} \\phi_{H_2} ^{1.5}} \\times \\frac{p_{NH_3}}{p_{N_2} ^{0.5} p_{H_2} ^{1.5}} = K_{\\phi} K_p$$\n",
    "\n",
    "A partir da nova constante de equilíbrio é possível calcular a conversão no equilíbrio usando o mesmo quadro de equilíbrio do exercício anterior: \n",
    "\n",
    "|       |       |       |       |       |\n",
    "|:-----:|:-----:|:-----:|:-----:|:-----:|\n",
    "|  |0.5N2 |1.5H2 |NH3| |\n",
    "|ini |0.5| 1.5 | 0 |\n",
    "|eq | 0.5-0.5x | 1.5-1.5x | x |\n",
    "|x | $ \\frac{0.5-0.5x}{2.0-x}$ | $ \\frac{1.5-1.5x}{2.0-x}$ | $ \\frac{x}{2.0-x}  $  |\n",
    "\n",
    "$ K_x = \\frac{\\frac{x}{2.0-x}}{(\\frac{0.5-0.5x}{2.0-x})^{0.5} \\times (\\frac{1.5-1.5x}{2.0-x})^{1.5}}  $"
   ]
  },
  {
   "cell_type": "code",
   "execution_count": 27,
   "metadata": {
    "colab": {
     "base_uri": "https://localhost:8080/",
     "height": 34
    },
    "colab_type": "code",
    "executionInfo": {
     "elapsed": 793,
     "status": "ok",
     "timestamp": 1599920733321,
     "user": {
      "displayName": "Leonardo Baptista",
      "photoUrl": "https://lh3.googleusercontent.com/a-/AOh14GjbU4VJykcNXBUbYVc_hHe6AtHG07aImWtddXbw=s64",
      "userId": "16746628627498894795"
     },
     "user_tz": 180
    },
    "id": "QSa54A7Ke8F2",
    "outputId": "b8656ea2-4e60-4ba2-8f9f-a8149ec3ecd3"
   },
   "outputs": [
    {
     "name": "stdout",
     "output_type": "stream",
     "text": [
      "A fração molar de amônia no equilíbrio é  0.33\n"
     ]
    }
   ],
   "source": [
    "#Inicialização das variáveis\n",
    "T = 273.15+400              #[K] \n",
    "P = 150                     #[atm]\n",
    "P_bar = 150*1.01325 \n",
    "\n",
    "\n",
    "K_673 = 0.013              \n",
    "\n",
    "K_fi = (10**((0.1191849/T + 91.87212/T**2 + 25122730/T**4)*P))**(-1)\n",
    "\n",
    "K = (K_673/K_fi)*P**(1.5+0.5-1)\n",
    "\n",
    "\n",
    "def f(x): \n",
    "\t return  (x/(2-x))/(((0.5-0.5*x)/(2-x))**(0.5)*((1.5-1.5*x)/(2-x))**(1.5))- K\n",
    "        \n",
    "x = fsolve(f,0.5)\n",
    "\n",
    "x_NH3 = x/(2-x)\n",
    "\n",
    "print(\"A fração molar de amônia no equilíbrio é  %0.2f\"%(x_NH3))"
   ]
  },
  {
   "cell_type": "code",
   "execution_count": null,
   "metadata": {
    "colab": {},
    "colab_type": "code",
    "id": "M0Z8rkfQe8F6"
   },
   "outputs": [],
   "source": []
  }
 ],
 "metadata": {
  "colab": {
   "name": "Equilíbrio Químico.ipynb",
   "provenance": []
  },
  "kernelspec": {
   "display_name": "Python 3",
   "language": "python",
   "name": "python3"
  },
  "language_info": {
   "codemirror_mode": {
    "name": "ipython",
    "version": 3
   },
   "file_extension": ".py",
   "mimetype": "text/x-python",
   "name": "python",
   "nbconvert_exporter": "python",
   "pygments_lexer": "ipython3",
   "version": "3.8.5"
  }
 },
 "nbformat": 4,
 "nbformat_minor": 1
}
