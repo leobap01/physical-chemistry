{
 "cells": [
  {
   "cell_type": "markdown",
   "metadata": {
    "id": "u6hrR1jok9zh"
   },
   "source": [
    "# **Exercises about real gases**"
   ]
  },
  {
   "cell_type": "code",
   "execution_count": 1,
   "metadata": {
    "executionInfo": {
     "elapsed": 1522,
     "status": "ok",
     "timestamp": 1608559808857,
     "user": {
      "displayName": "Leonardo Baptista",
      "photoUrl": "https://lh3.googleusercontent.com/a-/AOh14GjRLOphTSKAaa1hk9s-yG76WfgeyIS9u1K4s3iv8A=s64",
      "userId": "16746628627498894795"
     },
     "user_tz": 180
    },
    "id": "PEsSNUu6STW6"
   },
   "outputs": [],
   "source": [
    "# Loading the necessary packages to solve the exercises\n",
    "import numpy as np\n",
    "from scipy.integrate import simps\n",
    "from scipy.integrate import trapz\n",
    "import matplotlib.pyplot as plt\n",
    "from scipy.optimize import curve_fit"
   ]
  },
  {
   "cell_type": "markdown",
   "metadata": {
    "id": "StXtTSWuSTXD"
   },
   "source": [
    "## Exercise 1)\n",
    "\n",
    "Determine $ \\phi$ and the fugacity of $O_2(g)$ at 1000 bar and 0ºC from the following data:\n",
    "\n",
    "|   |   |   |   |   |   |   |   |   |   |   |   |\n",
    "|---|---|---|---|---|---|---|---|---|---|---|---|\n",
    "|p(bar)   |  1 | 100  | 200  | 300  | 400  | 500  | 600  | 700  | 800  | 900  | 1000  |\n",
    "|$V_m$ (L/mol)   | 22.710  | 0.2098  | 0.1045  | 0.0715  | 0.0601  | 0.0527  | 0.0471  | 0.0443  | 0.0420  | 0.0403  | 0.0.384  |"
   ]
  },
  {
   "cell_type": "markdown",
   "metadata": {
    "id": "a1CHAgr5STXE"
   },
   "source": [
    "## Solution\n",
    "\n",
    "For real gases: $ ln\\phi = \\int_{0}^{p} \\frac{Z-1}{p} dp$\n",
    "\n",
    "$Z = \\frac{V_m}{V_{m,id}} = \\frac{pV_m}{RT}$\n",
    "\n",
    "Using the definition of Z in the first equation:\n",
    "\n",
    "$ ln\\phi = \\int_{0}^{p} (\\frac{V_m}{RT} -\\frac{1}{p})dp$\n",
    "\n",
    "The area under the  $(\\frac{V_m}{RT} -\\frac{1}{p})$ versus p curve is exactly $ln \\phi$."
   ]
  },
  {
   "cell_type": "code",
   "execution_count": 2,
   "metadata": {
    "colab": {
     "base_uri": "https://localhost:8080/"
    },
    "executionInfo": {
     "elapsed": 1072,
     "status": "ok",
     "timestamp": 1608559813363,
     "user": {
      "displayName": "Leonardo Baptista",
      "photoUrl": "https://lh3.googleusercontent.com/a-/AOh14GjRLOphTSKAaa1hk9s-yG76WfgeyIS9u1K4s3iv8A=s64",
      "userId": "16746628627498894795"
     },
     "user_tz": 180
    },
    "id": "JSAbFC0WSTXH",
    "outputId": "ae68003d-bf71-4ba5-8537-aff2fd38dd9e"
   },
   "outputs": [
    {
     "name": "stdout",
     "output_type": "stream",
     "text": [
      "Fugacity coeficient =  1.161\n",
      "Fugacity (bar) = 1.161e+03\n"
     ]
    }
   ],
   "source": [
    "#Arrays containing the data\n",
    "p = np.array([1.,100., 200., 300., 400., 500., 600., 700., 800., 900., 1000.])\n",
    "V = np.array([22.710, 0.2098, 0.1045, 0.0715, 0.0601, 0.0527, 0.0471, 0.0443, 0.0420, 0.0403, 0.0384])\n",
    "\n",
    "R = 0.08314   # L bar / K mol\n",
    "T = 273.15    # K\n",
    "pi = 1000.0    # bar\n",
    "\n",
    "y = V/(R*T) - 1/p\n",
    "\n",
    "#At this point the student can choose the desired integration method\n",
    "\n",
    "ln_phi = simps(y, p)  # numerical integration using the Simpson's rule\n",
    "\n",
    "#ln_phi = trapz(ordenada, p)  # numerical integration using the composite trapezoidal rule\n",
    "\n",
    "\n",
    "\n",
    "#Calculation of fugacity coeficient and fugacity\n",
    "phi = np.exp(ln_phi) \n",
    "f = pi * phi\n",
    "\n",
    "\n",
    "print('Fugacity coeficient = ' + format(phi , '6.3f'))\n",
    "print('Fugacity (bar) = ' + format(f, '6.3e'))"
   ]
  },
  {
   "cell_type": "code",
   "execution_count": null,
   "metadata": {
    "colab": {
     "base_uri": "https://localhost:8080/",
     "height": 296
    },
    "executionInfo": {
     "elapsed": 996,
     "status": "ok",
     "timestamp": 1603995734010,
     "user": {
      "displayName": "Leonardo Baptista",
      "photoUrl": "https://lh3.googleusercontent.com/a-/AOh14GjRLOphTSKAaa1hk9s-yG76WfgeyIS9u1K4s3iv8A=s64",
      "userId": "16746628627498894795"
     },
     "user_tz": 180
    },
    "id": "_0F59zM8STXO",
    "outputId": "43b1646e-e303-418e-cd8d-03ae85dacb28"
   },
   "outputs": [
    {
     "data": {
      "text/plain": [
       "<function matplotlib.pyplot.show>"
      ]
     },
     "execution_count": 4,
     "metadata": {
      "tags": []
     },
     "output_type": "execute_result"
    },
    {
     "data": {
      "image/png": "[encoded data removed]",
      "text/plain": [
       "<Figure size 432x288 with 1 Axes>"
      ]
     },
     "metadata": {
      "needs_background": "light",
      "tags": []
     },
     "output_type": "display_data"
    }
   ],
   "source": [
    "#The graph will be built only by illustrative purposes.\n",
    "\n",
    "plt.plot(p,y,'-*')\n",
    "plt.xlabel('pressão (bar)')\n",
    "plt.ylabel('V/RT - 1/p')\n",
    "plt.show"
   ]
  },
  {
   "cell_type": "markdown",
   "metadata": {
    "id": "FZ0JmtcvSTXV"
   },
   "source": [
    "## Exercise 2)\n",
    "\n",
    "The compressibility factor of  $O_2(g)$ at low pressures and 0ºC is a linear function, as can be seen by the below data. Calculate $B_p$ para o $O_2(g)$ in this conditions.\n",
    "\n",
    "|   |   |   |   |   |   | \n",
    "|---|---|---|---|---|---|\n",
    "|p(bar)   |  1. | 2.00  | 3.00  | 4.00  | 5.00  |\n",
    "|Z| 1.0000  | 0.9990  | 0.9980  | 0.9971  | 0.9961  |"
   ]
  },
  {
   "cell_type": "markdown",
   "metadata": {
    "id": "WtU_d9cFSTXV"
   },
   "source": [
    "## Solution\n",
    "\n",
    "The virial expansion is truncated in the second term is $ Z = 1 + (B_p /RT) p$. A plot of  Z versus p has slope equal  $\\frac{B_p}{RT}$."
   ]
  },
  {
   "cell_type": "code",
   "execution_count": 3,
   "metadata": {
    "colab": {
     "base_uri": "https://localhost:8080/"
    },
    "executionInfo": {
     "elapsed": 804,
     "status": "ok",
     "timestamp": 1608560312211,
     "user": {
      "displayName": "Leonardo Baptista",
      "photoUrl": "https://lh3.googleusercontent.com/a-/AOh14GjRLOphTSKAaa1hk9s-yG76WfgeyIS9u1K4s3iv8A=s64",
      "userId": "16746628627498894795"
     },
     "user_tz": 180
    },
    "id": "OFUkopgtSTXW",
    "outputId": "8a0c9b3b-62f4-4d62-ff7a-f9a7ab3b2b1d"
   },
   "outputs": [
    {
     "name": "stdout",
     "output_type": "stream",
     "text": [
      "Bp (L/mol)= -0.022\n"
     ]
    }
   ],
   "source": [
    "# Defining the variables \n",
    "R = 0.08314   # bar L / K mol\n",
    "T = 273.15    # K\n",
    "\n",
    "p = np.array([1.,2.00, 3.00, 4.00, 5.00])\n",
    "Z = np.array([1.0000, 0.9990, 0.9980, 0.9971, 0.9961])\n",
    "\n",
    "#Linear fit\n",
    "deg = 1\n",
    "z = np.polyfit(p, Z, deg)\n",
    "y = np.poly1d(z)\n",
    "\n",
    "#Bp calculation\n",
    "Bp = z[0]*R*T\n",
    "\n",
    "print('Bp (L/mol)= ' + format(Bp , '6.3f'))"
   ]
  },
  {
   "cell_type": "code",
   "execution_count": 4,
   "metadata": {
    "colab": {
     "base_uri": "https://localhost:8080/",
     "height": 297
    },
    "executionInfo": {
     "elapsed": 816,
     "status": "ok",
     "timestamp": 1608560398004,
     "user": {
      "displayName": "Leonardo Baptista",
      "photoUrl": "https://lh3.googleusercontent.com/a-/AOh14GjRLOphTSKAaa1hk9s-yG76WfgeyIS9u1K4s3iv8A=s64",
      "userId": "16746628627498894795"
     },
     "user_tz": 180
    },
    "id": "Hmri687PSTXb",
    "outputId": "fb3ae2d7-962c-4253-b6b0-2b459e5bc020"
   },
   "outputs": [
    {
     "data": {
      "text/plain": [
       "<function matplotlib.pyplot.show>"
      ]
     },
     "execution_count": 4,
     "metadata": {
      "tags": []
     },
     "output_type": "execute_result"
    },
    {
     "data": {
      "image/png": "[encoded data removed]",
      "text/plain": [
       "<Figure size 432x288 with 1 Axes>"
      ]
     },
     "metadata": {
      "needs_background": "light",
      "tags": []
     },
     "output_type": "display_data"
    }
   ],
   "source": [
    "#The graph will be built only by illustrative purposes.\n",
    "\n",
    "plt.plot(p,Z,'*')\n",
    "plt.plot(p,y(p))\n",
    "plt.xlabel('pressure (bar)')\n",
    "plt.ylabel('Z')\n",
    "plt.show"
   ]
  },
  {
   "cell_type": "markdown",
   "metadata": {
    "id": "1Na_u3QESTXi"
   },
   "source": [
    "## Exercise 3)\n",
    "\n",
    "In the Boyle's temeperature, a Z versus p plot for a real gas is tangent to the ideal gas curve at p = 0, and raises gradually at values higher than Z = 1. Obtain an equation for the Boyle's temperature using  $Z = 1 + \\frac{B_p}{RT}p + \\frac{C_p}{RT}p^2 + ...$, and calcualte the this temperature for  $O_2(g)$ using the below data.\n",
    "\n",
    "|   | |  |   |   |   |   | \n",
    "|:---:|:---|:---:|:---:|:---:|:---:|:---:|\n",
    "|T(K)    | |350 | 400  | 450  | 500  | 550  |\n",
    "|$\\frac{B_v}{RT}(cm^3 mol^{-1})$||  -7.27  | -1.85  | 1.87  | 4.65  | 7.23  |\n"
   ]
  },
  {
   "cell_type": "markdown",
   "metadata": {
    "id": "2vCA8LysSTXj"
   },
   "source": [
    "## Solution\n",
    "\n",
    "The series will be truncated in the second term and the derivative in functions of p calculated:\n",
    "$$ \\frac{\\partial Z}{\\partial p} = \\frac{B_p}{RT} = \\frac{B_v/RT}{RT} $$\n",
    "It was considered $B_p = \\frac{B_v}{RT}$.\n",
    "\n",
    "It was informed that  $ \\frac{\\partial Z}{\\partial p} = 0 $, by this reason in Boyle's temperature the second virial coefficient is  0. A function can be fitted and the roots of the function determined. In this problem, a second-degree function will be fitted.\n",
    "\n"
   ]
  },
  {
   "cell_type": "code",
   "execution_count": 11,
   "metadata": {
    "colab": {
     "base_uri": "https://localhost:8080/"
    },
    "executionInfo": {
     "elapsed": 806,
     "status": "ok",
     "timestamp": 1608561457412,
     "user": {
      "displayName": "Leonardo Baptista",
      "photoUrl": "https://lh3.googleusercontent.com/a-/AOh14GjRLOphTSKAaa1hk9s-yG76WfgeyIS9u1K4s3iv8A=s64",
      "userId": "16746628627498894795"
     },
     "user_tz": 180
    },
    "id": "zHDicjXDSTXl",
    "outputId": "44489c6e-5de6-4986-cc88-bda7d0206b9d"
   },
   "outputs": [
    {
     "name": "stdout",
     "output_type": "stream",
     "text": [
      "Roots of the function (K) are : [676.10774971 426.56601066]\n"
     ]
    }
   ],
   "source": [
    "# Defining the variables\n",
    "R = 0.08314   # bar L / K mol\n",
    "\n",
    "\n",
    "T = np.array([350., 400.0, 450., 500., 550.])\n",
    "Bv = np.array([-7.27, -1.85, 1.87, 4.65, 7.23])\n",
    "\n",
    "Bp = Bv/(R*T*1000)\n",
    "\n",
    "#Fitting the second-degree equation\n",
    "deg = 2\n",
    "z = np.polyfit(T, Bp, deg)\n",
    "y = np.poly1d(z)\n",
    "\n",
    "\n",
    "#Calculate and print the roots of the function.\n",
    "\n",
    "root = np.roots(z)\n",
    "print('Roots of the function (K) are :', root )\n",
    "\n"
   ]
  },
  {
   "cell_type": "code",
   "execution_count": 12,
   "metadata": {
    "colab": {
     "base_uri": "https://localhost:8080/",
     "height": 297
    },
    "executionInfo": {
     "elapsed": 828,
     "status": "ok",
     "timestamp": 1608561685032,
     "user": {
      "displayName": "Leonardo Baptista",
      "photoUrl": "https://lh3.googleusercontent.com/a-/AOh14GjRLOphTSKAaa1hk9s-yG76WfgeyIS9u1K4s3iv8A=s64",
      "userId": "16746628627498894795"
     },
     "user_tz": 180
    },
    "id": "XMf9XVckSTXp",
    "outputId": "41514c35-d0b7-4ac6-ca6c-06a3e9fa19af"
   },
   "outputs": [
    {
     "data": {
      "text/plain": [
       "<function matplotlib.pyplot.show>"
      ]
     },
     "execution_count": 12,
     "metadata": {
      "tags": []
     },
     "output_type": "execute_result"
    },
    {
     "data": {
      "image/png": "[encoded data removed]",
      "text/plain": [
       "<Figure size 432x288 with 1 Axes>"
      ]
     },
     "metadata": {
      "needs_background": "light",
      "tags": []
     },
     "output_type": "display_data"
    }
   ],
   "source": [
    "#The plot of data points will be constructed in order to investigate what value\n",
    "# the second virial coefficient is  equal 0\n",
    "\n",
    "plt.plot(T,Bp,'*')\n",
    "plt.plot(T,y(T))\n",
    "plt.xlabel('Temperature (K)')\n",
    "plt.ylabel('Bp cm³/mol')\n",
    "plt.show"
   ]
  },
  {
   "cell_type": "markdown",
   "metadata": {
    "id": "K426VamcSTXt"
   },
   "source": [
    "The graph analysis shows that the second root corresponds to Boyle's temperature: 426.6 K."
   ]
  },
  {
   "cell_type": "code",
   "execution_count": null,
   "metadata": {
    "id": "_5J_0CvUSTXu"
   },
   "outputs": [],
   "source": []
  },
  {
   "cell_type": "code",
   "execution_count": null,
   "metadata": {
    "id": "lX_KSL0BSTXy"
   },
   "outputs": [],
   "source": []
  }
 ],
 "metadata": {
  "colab": {
   "name": "Gases-Reais_paper.ipynb",
   "provenance": []
  },
  "kernelspec": {
   "display_name": "Python 3",
   "language": "python",
   "name": "python3"
  },
  "language_info": {
   "codemirror_mode": {
    "name": "ipython",
    "version": 3
   },
   "file_extension": ".py",
   "mimetype": "text/x-python",
   "name": "python",
   "nbconvert_exporter": "python",
   "pygments_lexer": "ipython3",
   "version": "3.8.5"
  }
 },
 "nbformat": 4,
 "nbformat_minor": 1
}
