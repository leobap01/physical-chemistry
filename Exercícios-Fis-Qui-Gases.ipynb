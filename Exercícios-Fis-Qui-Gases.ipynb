{
 "cells": [
  {
   "cell_type": "code",
   "execution_count": 1,
   "metadata": {
    "executionInfo": {
     "elapsed": 2306,
     "status": "ok",
     "timestamp": 1602681891214,
     "user": {
      "displayName": "Leonardo Baptista",
      "photoUrl": "https://lh3.googleusercontent.com/a-/AOh14GjbU4VJykcNXBUbYVc_hHe6AtHG07aImWtddXbw=s64",
      "userId": "16746628627498894795"
     },
     "user_tz": 180
    },
    "id": "iNl7SWE2DqXn"
   },
   "outputs": [],
   "source": [
    "# Tudo começa com a importação dos módulos necessáários para fazer as contas\n",
    "import numpy as np\n",
    "import matplotlib.pyplot as plt\n"
   ]
  },
  {
   "cell_type": "markdown",
   "metadata": {
    "id": "9IJV9-C1_JmZ"
   },
   "source": [
    "# Exercício 1) \n",
    "Para 1.0000 mol de $N_2$ a 0.00ºC os seguinte volumes são observados em função da pressão:\n",
    "\n",
    "\n",
    "|   |   |   |   |\n",
    "|---|---|---|---|\n",
    "|p/atm | 1.000 | 3.0000 | 5.000\n",
    "|V/$cm^3$ | 22405 | 7461.4 | 4473.1\n",
    "\n",
    "calcule e faça o gráfico de pV/nT contra p para estes três pontos e calcule R quando p = 0."
   ]
  },
  {
   "cell_type": "code",
   "execution_count": 2,
   "metadata": {
    "colab": {
     "base_uri": "https://localhost:8080/",
     "height": 34
    },
    "executionInfo": {
     "elapsed": 1846,
     "status": "ok",
     "timestamp": 1597756552658,
     "user": {
      "displayName": "Leonardo Baptista",
      "photoUrl": "https://lh3.googleusercontent.com/a-/AOh14GgUvq2V3SOxhV7JYWonqnLC2okceWVQL5__JHI3sg=s64",
      "userId": "17470973056258090925"
     },
     "user_tz": 180
    },
    "id": "cZvcCdvP-Z0m",
    "outputId": "7b402944-7089-4d56-a8d6-6bb0b85668ac"
   },
   "outputs": [
    {
     "data": {
      "text/plain": [
       "array([-3.61522973e-05,  8.20593996e-02])"
      ]
     },
     "execution_count": 2,
     "metadata": {},
     "output_type": "execute_result"
    }
   ],
   "source": [
    "# Definindo os vetores que serão plotados\n",
    "\n",
    "p = np.array([ 1.000, 3.0000, 5.000])\n",
    "V = np.array([ 22.405, 7.4614, 4.4731]) # Já alterado para litros\n",
    "\n",
    "T = 273.15 # Kelvin\n",
    "\n",
    "pV_nT = (p * V) / T\n",
    "\n",
    "deg = 1\n",
    "z = np.polyfit(p, pV_nT, deg)\n",
    "y = np.poly1d(z)\n",
    "\n",
    "\n",
    "z # mostra os coeficientes do polinômio do ajuste na forma y = ax + b\n",
    "\n"
   ]
  },
  {
   "cell_type": "code",
   "execution_count": 3,
   "metadata": {
    "colab": {
     "base_uri": "https://localhost:8080/",
     "height": 34
    },
    "executionInfo": {
     "elapsed": 864,
     "status": "ok",
     "timestamp": 1597756648308,
     "user": {
      "displayName": "Leonardo Baptista",
      "photoUrl": "https://lh3.googleusercontent.com/a-/AOh14GgUvq2V3SOxhV7JYWonqnLC2okceWVQL5__JHI3sg=s64",
      "userId": "17470973056258090925"
     },
     "user_tz": 180
    },
    "id": "8FWHEy3FIbZZ",
    "outputId": "4898bab2-5c31-495a-e870-727cf3672d2d"
   },
   "outputs": [
    {
     "name": "stdout",
     "output_type": "stream",
     "text": [
      "R (atm L/K mol) =  0.08206\n"
     ]
    }
   ],
   "source": [
    "#Para imprimir diretamente o coeficiente linear, que contem o valor de R nas unidades desejadas\n",
    "print('R (atm L/K mol) = ' + format(z[1] , ' 6.5f'))"
   ]
  },
  {
   "cell_type": "code",
   "execution_count": 4,
   "metadata": {
    "colab": {
     "base_uri": "https://localhost:8080/",
     "height": 279
    },
    "executionInfo": {
     "elapsed": 764,
     "status": "ok",
     "timestamp": 1597756774694,
     "user": {
      "displayName": "Leonardo Baptista",
      "photoUrl": "https://lh3.googleusercontent.com/a-/AOh14GgUvq2V3SOxhV7JYWonqnLC2okceWVQL5__JHI3sg=s64",
      "userId": "17470973056258090925"
     },
     "user_tz": 180
    },
    "id": "OBYy8pf1FRxL",
    "outputId": "e086b19d-a875-4621-ddb7-f957eccd0b76"
   },
   "outputs": [
    {
     "data": {
      "image/png": "[encoded data removed]",
      "text/plain": [
       "<Figure size 432x288 with 1 Axes>"
      ]
     },
     "metadata": {
      "needs_background": "light"
     },
     "output_type": "display_data"
    }
   ],
   "source": [
    "plt.plot(p, pV_nT, \"*\")\n",
    "plt.plot(p, y(p), \"-\")\n",
    "plt.ylabel('pV/nT')\n",
    "plt.xlabel('p (atm)')\n",
    "plt.show()"
   ]
  },
  {
   "cell_type": "markdown",
   "metadata": {
    "id": "GRWBCI4s0BKu"
   },
   "source": [
    "# Exercício 2) \n",
    "A massa específica medida de uma certa amina gasosa, a 0ºC, em função da pressão é:\n",
    "\n",
    "|   |   |   |   |\n",
    "|---|---|---|---|\n",
    "|p/atm | 0.2000 | 0.5000 | 0.8000\n",
    "|$\\rho$ /(g/L)  | 0.2796 | 0.7080 | 1.1476\n",
    "\n",
    "Faça o gráfico de p/$\\rho$ contra p e extrapole para p = 0, de modo a determinar a massa molecular exata. Identifique o gás."
   ]
  },
  {
   "cell_type": "code",
   "execution_count": 13,
   "metadata": {
    "colab": {
     "base_uri": "https://localhost:8080/",
     "height": 52
    },
    "executionInfo": {
     "elapsed": 653,
     "status": "ok",
     "timestamp": 1597757002965,
     "user": {
      "displayName": "Leonardo Baptista",
      "photoUrl": "https://lh3.googleusercontent.com/a-/AOh14GgUvq2V3SOxhV7JYWonqnLC2okceWVQL5__JHI3sg=s64",
      "userId": "17470973056258090925"
     },
     "user_tz": 180
    },
    "id": "sNDpttFF1qWt",
    "outputId": "7bd1f749-0fd4-4008-d85d-269dc20bcd67"
   },
   "outputs": [
    {
     "name": "stdout",
     "output_type": "stream",
     "text": [
      "coeficiente angular = -0.03033\n",
      "coeficiente linear =  0.72138\n"
     ]
    }
   ],
   "source": [
    "# Definindo os vetores que serão plotados\n",
    "\n",
    "p = np.array([ 0.2000, 0.5000, 0.8000])\n",
    "rho = np.array([ 0.2796, 0.7080, 1.1476]) \n",
    "\n",
    "T = 273.15 # Kelvin\n",
    "R = 0.082 # L * atm/ (K * mol)\n",
    "p_rho = p / rho\n",
    "\n",
    "deg = 1\n",
    "z = np.polyfit(p, p_rho, deg)\n",
    "y = np.poly1d(z)\n",
    "\n",
    "print('coeficiente angular = ' + format(z[0] , ' 6.5f'))  \n",
    "print('coeficiente linear = ' + format(z[1] , ' 6.5f'))  \n",
    "\n",
    "\n"
   ]
  },
  {
   "cell_type": "code",
   "execution_count": 14,
   "metadata": {
    "colab": {
     "base_uri": "https://localhost:8080/",
     "height": 279
    },
    "executionInfo": {
     "elapsed": 831,
     "status": "ok",
     "timestamp": 1597757017599,
     "user": {
      "displayName": "Leonardo Baptista",
      "photoUrl": "https://lh3.googleusercontent.com/a-/AOh14GgUvq2V3SOxhV7JYWonqnLC2okceWVQL5__JHI3sg=s64",
      "userId": "17470973056258090925"
     },
     "user_tz": 180
    },
    "id": "HHC1R7Q42GqY",
    "outputId": "87761215-5127-475a-f569-79d45d43977d"
   },
   "outputs": [
    {
     "data": {
      "image/png": "[encoded data removed]",
      "text/plain": [
       "<Figure size 432x288 with 1 Axes>"
      ]
     },
     "metadata": {
      "needs_background": "light"
     },
     "output_type": "display_data"
    }
   ],
   "source": [
    "plt.plot(p, p_rho, \".\")\n",
    "plt.plot(p, y(p), \"-\")\n",
    "plt.ylabel('p/densidade')\n",
    "plt.xlabel('p (atm)')\n",
    "plt.show()"
   ]
  },
  {
   "cell_type": "markdown",
   "metadata": {
    "id": "x_fjTrXSVVAa"
   },
   "source": [
    "A relação $ Mm = \\frac {\\rho}{p} RT $ só é estritamente válida quando p $ \\rightarrow $  0. Por isso tomamos o $ \\frac {1}{coeficiente ~~linear} $ da regressão para calcularmos a massa molar."
   ]
  },
  {
   "cell_type": "code",
   "execution_count": 15,
   "metadata": {
    "colab": {
     "base_uri": "https://localhost:8080/",
     "height": 34
    },
    "executionInfo": {
     "elapsed": 2365,
     "status": "ok",
     "timestamp": 1590582192391,
     "user": {
      "displayName": "Leonardo Baptista",
      "photoUrl": "https://lh3.googleusercontent.com/a-/AOh14GgUvq2V3SOxhV7JYWonqnLC2okceWVQL5__JHI3sg=s64",
      "userId": "17470973056258090925"
     },
     "user_tz": 180
    },
    "id": "y1vzNDfmVRGE",
    "outputId": "c6fa67ca-1442-4dbe-f82e-2ae66530ebb5"
   },
   "outputs": [
    {
     "name": "stdout",
     "output_type": "stream",
     "text": [
      "massa molar = 31.05 g/mol\n"
     ]
    }
   ],
   "source": [
    "Mm = 1 / z[1] * R * T\n",
    "\n",
    "print(\"massa molar = \" + format(Mm, '4.2f') + \" g/mol\")"
   ]
  },
  {
   "cell_type": "markdown",
   "metadata": {
    "id": "R0eE5imR_EPE"
   },
   "source": [
    "# Exercício 3) \n",
    "A Lei de Charles é comumente escrita como $ V = V_0 (1 + \\alpha \\theta)$, onde é a temperatura em graus Celsius,  $\\alpha$ é uma constante e $V_0$ o volume a 0ºC. Os seguintes valores de $\\alpha$ foram reportados para o nitrogênio  a 0ºC:\n",
    "\n",
    "|             |   |   |   |   | \n",
    "|-------------|---|---|---|---|\n",
    "|p/torr | 749.7 | 599.6 | 333.1  | 98.6\n",
    "|$ \\alpha 10^{-3} $  ($º C^{-1}$)| 3.6717 | 3.6697 | 3.6665 |3.6643\n",
    "\n",
    "A partir destes dados calcule o melhor valor pra o zero absoluto na escala Celsius."
   ]
  },
  {
   "cell_type": "code",
   "execution_count": 8,
   "metadata": {
    "colab": {
     "base_uri": "https://localhost:8080/",
     "height": 52
    },
    "executionInfo": {
     "elapsed": 704,
     "status": "ok",
     "timestamp": 1597757298357,
     "user": {
      "displayName": "Leonardo Baptista",
      "photoUrl": "https://lh3.googleusercontent.com/a-/AOh14GgUvq2V3SOxhV7JYWonqnLC2okceWVQL5__JHI3sg=s64",
      "userId": "17470973056258090925"
     },
     "user_tz": 180
    },
    "id": "Wa7Zo7O9-z7r",
    "outputId": "39dd2911-bbbc-4005-c17e-f6e3499ccfbe"
   },
   "outputs": [
    {
     "name": "stdout",
     "output_type": "stream",
     "text": [
      "coeficiente angular =  1.13926e-08\n",
      "coeficiente linear =  0.00366\n"
     ]
    }
   ],
   "source": [
    "# Definindo os vetores que serão plotados\n",
    "\n",
    "p = np.array([  749.7, 599.6, 333.1, 98.6])\n",
    "alpha = np.array([ 3.6717e-3, 3.6697e-3, 3.6665e-3,3.6643e-3]) \n",
    "\n",
    "\n",
    "deg = 1\n",
    "z = np.polyfit(p, alpha, deg)\n",
    "y = np.poly1d(z)\n",
    "\n",
    "print('coeficiente angular = ' + format(z[0] , ' 6.5e'))  \n",
    "print('coeficiente linear = ' + format(z[1] , ' 6.5f'))  \n",
    "\n"
   ]
  },
  {
   "cell_type": "code",
   "execution_count": 9,
   "metadata": {
    "colab": {
     "base_uri": "https://localhost:8080/",
     "height": 281
    },
    "executionInfo": {
     "elapsed": 716,
     "status": "ok",
     "timestamp": 1597757352792,
     "user": {
      "displayName": "Leonardo Baptista",
      "photoUrl": "https://lh3.googleusercontent.com/a-/AOh14GgUvq2V3SOxhV7JYWonqnLC2okceWVQL5__JHI3sg=s64",
      "userId": "17470973056258090925"
     },
     "user_tz": 180
    },
    "id": "BOEWpAsf_hE6",
    "outputId": "d6d0660e-b344-4eb0-fd33-ff8e3e8432d4"
   },
   "outputs": [
    {
     "data": {
      "image/png": "[encoded data removed]",
      "text/plain": [
       "<Figure size 432x288 with 1 Axes>"
      ]
     },
     "metadata": {
      "needs_background": "light"
     },
     "output_type": "display_data"
    }
   ],
   "source": [
    "plt.plot(p, alpha, \"*\")\n",
    "plt.plot(p, y(p), \"-\")\n",
    "plt.ylabel('alfa')\n",
    "plt.xlabel('p (torr)')\n",
    "plt.show()"
   ]
  },
  {
   "cell_type": "markdown",
   "metadata": {
    "id": "udvLkG6G_6uS"
   },
   "source": [
    "$ V = V_0 (1 + \\alpha_0 \\theta)$\n",
    "\n",
    "$V = V_0 \\alpha_0( \\frac {1}{\\alpha_0} + \\theta)$\n",
    "\n",
    "$T = ( \\frac {1}{\\alpha_0} + \\theta)$\n",
    "\n",
    "$ 0 = ( \\frac {1}{0.00366} + \\theta)$\n",
    "\n",
    "$ \\theta = -  \\frac {1}{0.00366} = -273,22 ºC$ Escala de temperatura do gás ideal"
   ]
  }
 ],
 "metadata": {
  "colab": {
   "name": "Exercícios-Fis-Qui-Gases.ipynb",
   "provenance": [],
   "toc_visible": true
  },
  "kernelspec": {
   "display_name": "Python 3",
   "language": "python",
   "name": "python3"
  },
  "language_info": {
   "codemirror_mode": {
    "name": "ipython",
    "version": 3
   },
   "file_extension": ".py",
   "mimetype": "text/x-python",
   "name": "python",
   "nbconvert_exporter": "python",
   "pygments_lexer": "ipython3",
   "version": "3.8.5"
  }
 },
 "nbformat": 4,
 "nbformat_minor": 1
}
