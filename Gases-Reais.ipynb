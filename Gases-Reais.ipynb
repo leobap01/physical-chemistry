{
 "cells": [
  {
   "cell_type": "code",
   "execution_count": 2,
   "metadata": {
    "executionInfo": {
     "elapsed": 2045,
     "status": "ok",
     "timestamp": 1603995503364,
     "user": {
      "displayName": "Leonardo Baptista",
      "photoUrl": "https://lh3.googleusercontent.com/a-/AOh14GjRLOphTSKAaa1hk9s-yG76WfgeyIS9u1K4s3iv8A=s64",
      "userId": "16746628627498894795"
     },
     "user_tz": 180
    },
    "id": "PEsSNUu6STW6"
   },
   "outputs": [],
   "source": [
    "import numpy as np\n",
    "from scipy.integrate import simps\n",
    "from scipy.integrate import trapz\n",
    "import matplotlib.pyplot as plt\n",
    "from scipy.optimize import curve_fit"
   ]
  },
  {
   "cell_type": "markdown",
   "metadata": {
    "id": "StXtTSWuSTXD"
   },
   "source": [
    "## Exemplo 1\n",
    "\n",
    "Determine $ \\phi$ e f para $O_2(g)$ a 1000 bar e 0ºC a partir dos seguintes dados:\n",
    "\n",
    "|   |   |   |   |   |   |   |   |   |   |   |   |\n",
    "|---|---|---|---|---|---|---|---|---|---|---|---|\n",
    "|p(bar)   |  1 | 100  | 200  | 300  | 400  | 500  | 600  | 700  | 800  | 900  | 1000  |\n",
    "|$V_m$ (L/mol)   | 22.710  | 0.2098  | 0.1045  | 0.0715  | 0.0601  | 0.0527  | 0.0471  | 0.0443  | 0.0420  | 0.0403  | 0.0.384  |"
   ]
  },
  {
   "cell_type": "markdown",
   "metadata": {
    "id": "a1CHAgr5STXE"
   },
   "source": [
    "## Solução\n",
    "\n",
    "Para gases reais: $ ln\\phi = \\int_{0}^{p} \\frac{Z-1}{p} dp$\n",
    "\n",
    "$Z = \\frac{V_m}{V_{m,id}} = \\frac{pV_m}{RT}$\n",
    "\n",
    "Substituindo a definição e Z na primeira equação:\n",
    "\n",
    "$ ln\\phi = \\int_{0}^{p} (\\frac{V_m}{RT} -\\frac{1}{p})dp$\n",
    "\n",
    "A área sob o gráfico de $(\\frac{V_m}{RT} -\\frac{1}{p})$ versus p é exatamente a $ln \\phi$."
   ]
  },
  {
   "cell_type": "code",
   "execution_count": 3,
   "metadata": {
    "colab": {
     "base_uri": "https://localhost:8080/"
    },
    "executionInfo": {
     "elapsed": 877,
     "status": "ok",
     "timestamp": 1603995707391,
     "user": {
      "displayName": "Leonardo Baptista",
      "photoUrl": "https://lh3.googleusercontent.com/a-/AOh14GjRLOphTSKAaa1hk9s-yG76WfgeyIS9u1K4s3iv8A=s64",
      "userId": "16746628627498894795"
     },
     "user_tz": 180
    },
    "id": "JSAbFC0WSTXH",
    "outputId": "cc04fa8e-831e-4bb7-cf1d-3f1e2faf1a9e"
   },
   "outputs": [
    {
     "name": "stdout",
     "output_type": "stream",
     "text": [
      "Coeficiente de fugacidade =  1.182\n",
      "Fugacidade (bar) = 1.182e+03\n"
     ]
    }
   ],
   "source": [
    "p = np.array([1.,100., 200., 300., 400., 500., 600., 700., 800., 900., 1000.])\n",
    "V = np.array([22.710, 0.2098, 0.1045, 0.0715, 0.0601, 0.0527, 0.0471, 0.0443, 0.0420, 0.0403, 0.0384])\n",
    "\n",
    "R = 0.08314   # L bar / K mol\n",
    "T = 273.15    # K\n",
    "pi = 1000.0    # bar\n",
    "\n",
    "ordenada = V/(R*T) - 1/p\n",
    "\n",
    "#ln_phi = simps(ordenada, p)  # integração usando a regra de Simpson\n",
    "\n",
    "ln_phi = trapz(ordenada, p)  # integração usando a regra de trapézio\n",
    "\n",
    "phi = np.exp(ln_phi) \n",
    "f = pi * phi\n",
    "\n",
    "\n",
    "print('Coeficiente de fugacidade = ' + format(phi , '6.3f'))\n",
    "print('Fugacidade (bar) = ' + format(f, '6.3e'))"
   ]
  },
  {
   "cell_type": "code",
   "execution_count": 4,
   "metadata": {
    "colab": {
     "base_uri": "https://localhost:8080/",
     "height": 296
    },
    "executionInfo": {
     "elapsed": 996,
     "status": "ok",
     "timestamp": 1603995734010,
     "user": {
      "displayName": "Leonardo Baptista",
      "photoUrl": "https://lh3.googleusercontent.com/a-/AOh14GjRLOphTSKAaa1hk9s-yG76WfgeyIS9u1K4s3iv8A=s64",
      "userId": "16746628627498894795"
     },
     "user_tz": 180
    },
    "id": "_0F59zM8STXO",
    "outputId": "43b1646e-e303-418e-cd8d-03ae85dacb28"
   },
   "outputs": [
    {
     "data": {
      "text/plain": [
       "<function matplotlib.pyplot.show>"
      ]
     },
     "execution_count": 4,
     "metadata": {
      "tags": []
     },
     "output_type": "execute_result"
    },
    {
     "data": {
      "image/png": "[encoded data removed]",
      "text/plain": [
       "<Figure size 432x288 with 1 Axes>"
      ]
     },
     "metadata": {
      "needs_background": "light",
      "tags": []
     },
     "output_type": "display_data"
    }
   ],
   "source": [
    "#vamos construir o gráfico só para ilustrar a forma dele.\n",
    "\n",
    "plt.plot(p,ordenada,'-*')\n",
    "plt.xlabel('pressão (bar)')\n",
    "plt.ylabel('V/RT - 1/p')\n",
    "plt.show"
   ]
  },
  {
   "cell_type": "markdown",
   "metadata": {
    "id": "FZ0JmtcvSTXV"
   },
   "source": [
    "## Exemplo 2\n",
    "\n",
    "O fator de compressibilidade do $O_2(g)$ a baixas pressões e 0ºC é uma função linear, como pode ser observado pelos dados abaixo. Determine $B_p$ para o $O_2(g)$ nestas condições.\n",
    "\n",
    "|   |   |   |   |   |   | \n",
    "|---|---|---|---|---|---|\n",
    "|p(bar)   |  1. | 2.00  | 3.00  | 4.00  | 5.00  |\n",
    "|Z| 1.0000  | 0.9990  | 0.9980  | 0.9971  | 0.9961  |"
   ]
  },
  {
   "cell_type": "markdown",
   "metadata": {
    "id": "WtU_d9cFSTXV"
   },
   "source": [
    "## Solução\n",
    "\n",
    "A expansão do virial truncada no segundo termo é $ Z = 1 + (B_p /RT) p$. Logo, um gráfico de Z em função de p terá coeficiente angular $\\frac{B_p}{RT}$."
   ]
  },
  {
   "cell_type": "code",
   "execution_count": 6,
   "metadata": {
    "colab": {
     "base_uri": "https://localhost:8080/"
    },
    "executionInfo": {
     "elapsed": 910,
     "status": "ok",
     "timestamp": 1603995948242,
     "user": {
      "displayName": "Leonardo Baptista",
      "photoUrl": "https://lh3.googleusercontent.com/a-/AOh14GjRLOphTSKAaa1hk9s-yG76WfgeyIS9u1K4s3iv8A=s64",
      "userId": "16746628627498894795"
     },
     "user_tz": 180
    },
    "id": "OFUkopgtSTXW",
    "outputId": "65860b09-a5d3-4920-8d3c-60c3e794c803"
   },
   "outputs": [
    {
     "name": "stdout",
     "output_type": "stream",
     "text": [
      "Bp (L/mol)= -0.022\n"
     ]
    }
   ],
   "source": [
    "# Inicializando as variáveis\n",
    "R = 0.08314   # bar L / K mol\n",
    "T = 273.15    # K\n",
    "\n",
    "p = np.array([1.,2.00, 3.00, 4.00, 5.00])\n",
    "Z = np.array([1.0000, 0.9990, 0.9980, 0.9971, 0.9961])\n",
    "\n",
    "#Regressão linear\n",
    "deg = 1\n",
    "z = np.polyfit(p, Z, deg)\n",
    "y = np.poly1d(z)\n",
    "\n",
    "#Cálculo de Bp\n",
    "Bp = z[0]*R*T\n",
    "\n",
    "print('Bp (L/mol)= ' + format(Bp , '6.3f'))"
   ]
  },
  {
   "cell_type": "code",
   "execution_count": 7,
   "metadata": {
    "colab": {
     "base_uri": "https://localhost:8080/",
     "height": 296
    },
    "executionInfo": {
     "elapsed": 1374,
     "status": "ok",
     "timestamp": 1603995962272,
     "user": {
      "displayName": "Leonardo Baptista",
      "photoUrl": "https://lh3.googleusercontent.com/a-/AOh14GjRLOphTSKAaa1hk9s-yG76WfgeyIS9u1K4s3iv8A=s64",
      "userId": "16746628627498894795"
     },
     "user_tz": 180
    },
    "id": "Hmri687PSTXb",
    "outputId": "3dbaf092-c5e4-4d81-f6d5-4070aba4ad7f"
   },
   "outputs": [
    {
     "data": {
      "text/plain": [
       "<function matplotlib.pyplot.show>"
      ]
     },
     "execution_count": 7,
     "metadata": {
      "tags": []
     },
     "output_type": "execute_result"
    },
    {
     "data": {
      "image/png": "[encoded data removed]",
      "text/plain": [
       "<Figure size 432x288 with 1 Axes>"
      ]
     },
     "metadata": {
      "needs_background": "light",
      "tags": []
     },
     "output_type": "display_data"
    }
   ],
   "source": [
    "#vamos construir o gráfico só para ilustrar a forma dele.\n",
    "\n",
    "plt.plot(p,Z,'*')\n",
    "plt.plot(p,y(p))\n",
    "plt.xlabel('pressão (bar)')\n",
    "plt.ylabel('Z')\n",
    "plt.show"
   ]
  },
  {
   "cell_type": "markdown",
   "metadata": {
    "id": "1Na_u3QESTXi"
   },
   "source": [
    "## Exemplo 3\n",
    "\n",
    "Na temperatura de Boyle, o gráfico de Z contra p de um gás real é tangente a linha do gás ideal em p = 0, e só aumentará gradualmente acima de Z = 1. Derive uma expressão para a  temperatura de Boyle usando $Z = 1 + \\frac{B_p}{RT}p + \\frac{C_p}{RT}p^2 + ...$ e determine o valor para o $O_2(g)$ usando os dados abaixo.\n",
    "\n",
    "|   |   |   |   |   |   | \n",
    "|---|---|---|---|---|---|\n",
    "|T(K)   |  350 | 400  | 450  | 500  | 550  |\n",
    "|$\\frac{B_v}{RT} (cm^3/mol)$| -7.27  | -1.85  | 1.87  | 4.65  | 7.23  |"
   ]
  },
  {
   "cell_type": "markdown",
   "metadata": {
    "id": "2vCA8LysSTXj"
   },
   "source": [
    "## Solução\n",
    "\n",
    "Truncando a séria acima no segundo termo e derivando em função de p:\n",
    "$$ \\frac{\\partial Z}{\\partial p} = \\frac{B_p}{RT} = \\frac{B_v/RT}{RT} $$\n",
    "Onde foi usado $B_p = \\frac{B_v}{RT}$.\n",
    "\n",
    "Foi informado que $ \\frac{\\partial Z}{\\partial p} = 0 $, logo, na temperatura de Boyle o segundo coeficiente do viral é 0. Podemos ajustar uma função a estes dados e encontrar as raízes da função ajustada. Neste exercício ajustaremos uma função do segundo grau."
   ]
  },
  {
   "cell_type": "code",
   "execution_count": 10,
   "metadata": {
    "colab": {
     "base_uri": "https://localhost:8080/"
    },
    "executionInfo": {
     "elapsed": 892,
     "status": "ok",
     "timestamp": 1603996359653,
     "user": {
      "displayName": "Leonardo Baptista",
      "photoUrl": "https://lh3.googleusercontent.com/a-/AOh14GjRLOphTSKAaa1hk9s-yG76WfgeyIS9u1K4s3iv8A=s64",
      "userId": "16746628627498894795"
     },
     "user_tz": 180
    },
    "id": "zHDicjXDSTXl",
    "outputId": "c723b5da-b853-47d4-e4bb-df5f21b2fd25"
   },
   "outputs": [
    {
     "name": "stdout",
     "output_type": "stream",
     "text": [
      "[676.10774971 426.56601066]\n"
     ]
    }
   ],
   "source": [
    "# Inicializando as variáveis\n",
    "R = 0.08314   # bar L / K mol\n",
    "\n",
    "\n",
    "T = np.array([350., 400.0, 450., 500., 550.])\n",
    "Bv = np.array([-7.27, -1.85, 1.87, 4.65, 7.23])\n",
    "\n",
    "Bp = Bv/(R*T*1000)\n",
    "\n",
    "#Regressão \n",
    "deg = 2\n",
    "z = np.polyfit(T, Bp, deg)\n",
    "y = np.poly1d(z)\n",
    "\n",
    "#Calcula e imprime as raízes da função.\n",
    "print(np.roots(z))\n",
    "\n"
   ]
  },
  {
   "cell_type": "code",
   "execution_count": 12,
   "metadata": {
    "colab": {
     "base_uri": "https://localhost:8080/",
     "height": 296
    },
    "executionInfo": {
     "elapsed": 1081,
     "status": "ok",
     "timestamp": 1603996416916,
     "user": {
      "displayName": "Leonardo Baptista",
      "photoUrl": "https://lh3.googleusercontent.com/a-/AOh14GjRLOphTSKAaa1hk9s-yG76WfgeyIS9u1K4s3iv8A=s64",
      "userId": "16746628627498894795"
     },
     "user_tz": 180
    },
    "id": "XMf9XVckSTXp",
    "outputId": "b510dc05-b9aa-4ebf-b6ed-6b4a7b6e8bd3"
   },
   "outputs": [
    {
     "data": {
      "text/plain": [
       "<function matplotlib.pyplot.show>"
      ]
     },
     "execution_count": 12,
     "metadata": {
      "tags": []
     },
     "output_type": "execute_result"
    },
    {
     "data": {
      "image/png": "[encoded data removed]",
      "text/plain": [
       "<Figure size 432x288 with 1 Axes>"
      ]
     },
     "metadata": {
      "needs_background": "light",
      "tags": []
     },
     "output_type": "display_data"
    }
   ],
   "source": [
    "#vamos construir o gráfico para analisar qual das raízes fornece a temperatura de Boyle.\n",
    "\n",
    "plt.plot(T,Bp,'*')\n",
    "plt.plot(T,y(T))\n",
    "plt.xlabel('Temperatura (K)')\n",
    "plt.ylabel('Bp cm³/mol')\n",
    "plt.show"
   ]
  },
  {
   "cell_type": "markdown",
   "metadata": {
    "id": "K426VamcSTXt"
   },
   "source": [
    "A análise do gráfico mostra que a segunda raíz corresponde a temperatura de Boyle: 426.6 K.\n"
   ]
  },
  {
   "cell_type": "markdown",
   "metadata": {
    "id": "_5J_0CvUSTXu"
   },
   "source": [
    "## Exemplo 4\n",
    "\n",
    "O segundo coeficiente do virial do metano pode ser obtido, de forma aproximada através da equação empírica $B(T) = a + be^{-c/T²}$, em que a=-0,1993 $bar^{-1}$, b=0,2002 $bar^{-1}$, c = 1131$K^2$, com 300K< T < 600 K. Qual o valor de temperatura do Boyle para o metano?"
   ]
  },
  {
   "cell_type": "markdown",
   "metadata": {},
   "source": [
    "## **Solução**\n",
    "\n",
    "Sabe-se que o valor do coeficiente virial é dependente da temperatura. Na temperatura de Boyle, o segundo coeficiente viral é nulo, B=0. Logo, temos o seguinte resultado:\n",
    "\n",
    "$0 = a + be^{-c/T^2}$\n",
    "\n",
    "$T_B = \\sqrt{\\frac{-c}{ln(-a/b)}}$"
   ]
  },
  {
   "cell_type": "code",
   "execution_count": 3,
   "metadata": {
    "id": "lX_KSL0BSTXy"
   },
   "outputs": [
    {
     "name": "stdout",
     "output_type": "stream",
     "text": [
      "Temperatura (K) = 501.0177\n"
     ]
    }
   ],
   "source": [
    "#Definindo variáveis\n",
    "\n",
    "a=-0.1993     #bar^-1\n",
    "b= 0.2002     #bar^-1\n",
    "c= 1131       #K^2\n",
    "\n",
    "T = np.sqrt(-c/(np.log(-a/b)))\n",
    "\n",
    "print('Temperatura (K) = ' + format(T,'6.4f'))"
   ]
  },
  {
   "cell_type": "markdown",
   "metadata": {},
   "source": [
    "## Exemplo 5\n",
    "\n",
    "Estime o volume molar do $CO_2$, a 500 K e 100 atm, admitindo que o gás se comporta como um gás de Van der Waals. "
   ]
  },
  {
   "cell_type": "markdown",
   "metadata": {},
   "source": [
    "## **Solução**\n",
    "\n",
    "É necessário encontrar uma expressão para o volume molar resolvendo a equação de van der Waals. A equação pode ser escrita da seguinte forma:\n",
    "\n",
    "$(p + \\frac{a}{V_m^2})(V_m-b)=RT$\n",
    "\n",
    "A seguinte equação polinomial pode ser obtida:\n",
    "\n",
    "$ pV_m - pb + \\frac{a}{V_m} -\\frac{ab}{V_m^2} = RT$\n",
    "\n",
    "$pV_m^3 - pbV_m^2 + aV_m -ab = RTV_m^2$\n",
    "\n",
    "$ pV_m^3 - (pb+RT)V_m^2 + aV_m -ab = 0 $\n",
    "\n",
    "As raízes da última equação devem ser calculadas\n",
    "\n",
    "\n",
    "    "
   ]
  },
  {
   "cell_type": "code",
   "execution_count": 8,
   "metadata": {},
   "outputs": [
    {
     "name": "stdout",
     "output_type": "stream",
     "text": [
      "Raíz 1 =  3.66141e-01+0.00000e+00j\n",
      "Raíz 2 =  4.35218e-02+4.83282e-02j\n",
      "Raíz 3 =  4.35218e-02-4.83282e-02j\n"
     ]
    }
   ],
   "source": [
    "#Definindo as variáveis segundo dados do livro.\n",
    "\n",
    "a = 3.610       # dm^6 atm mol^-1\n",
    "b = 4.29e-2    # dm^3 mol^-1\n",
    "R = 0.082057    #L · atm · K−1 · mol−1  \n",
    "T = 500         # K\n",
    "p = 100         # atm\n",
    "\n",
    "# 1) Criar um vetor com os coeficientes do polinômio\n",
    "# os valores dos coeficientes foram calculados dentro do vetor \n",
    "\n",
    "coef = np.array([p, -(p*b+R*T), a, -a*b])\n",
    "\n",
    "# 2) Calcular as raízes, no caso de mais de uma raíz real, o valor correto será próximo a volume do gás ideal\n",
    "\n",
    "raiz = np.roots(coef)\n",
    "\n",
    "# Imprimindo as raízes\n",
    "print('Raíz 1 = ' + format(raiz[0] , ' 6.5e')) \n",
    "print('Raíz 2 = ' + format(raiz[1] , ' 6.5e')) \n",
    "print('Raíz 3 = ' + format(raiz[2] , ' 6.5e')) \n"
   ]
  },
  {
   "cell_type": "markdown",
   "metadata": {},
   "source": [
    " O volume molar é 0,366 L, pois só existe uma raíz real. "
   ]
  },
  {
   "cell_type": "markdown",
   "metadata": {},
   "source": [
    "## Exemplo 6\n",
    "\n",
    "Uma substância elementar e bem conhecida como o argônio ainda é objeto de bastante pesquisa. Stewart e Jacobsen publicaram uma revisão das propriedades termodinâmicas do argônio, entre as quais a seguinte isoterma a 300K.\n",
    " \n",
    "     \n",
    "|   |   |   |   |   |   |   |   |   |   |   | \n",
    "|---|---|---|---|---|---|---|---|---|---|---|\n",
    "|p (MPa)   |  0.4000| 0.5000| 0.6000| 0.8000| 1.000| 1.500| 2.000| 2.500| 3.000| 4.000|\n",
    "|$V_m$ (dm³/mol)| 6.2208|4.9736|4.1423|3.1031|2.4795|1.6483|1.2328|0.98357|0.81746|0.60998|\n",
    "     \n",
    "     \n",
    "a) Calcule o segundo coeficiente virial B, na temperatura informada. B)Estime o terceiro coeficiente virial,C, na temperatura mencionada."
   ]
  },
  {
   "cell_type": "markdown",
   "metadata": {},
   "source": [
    "## Solução\n",
    "\n",
    "Podemos escrever a equação de estado da seguinte forma:\n",
    "\n",
    "$ \\frac{pV_m}{RT} = 1 + \\frac{B}{V_m} + \\frac{C}{V_m^2} + ...$\n",
    "\n",
    "Em primeira aproximação pode ser feito uma gráfico de $ \\frac{pV_m}{RT}$ versus $ \\frac{1}{V_m} $ e depois ser ajustada uma função de primeiro grau aos dados. O  coeficiente angular será o segundo coeficiente do virial. O terceiro coeficiente do virial pode ser obtido pelo ajuste de uma função do segundo grau."
   ]
  },
  {
   "cell_type": "code",
   "execution_count": 18,
   "metadata": {},
   "outputs": [
    {
     "name": "stdout",
     "output_type": "stream",
     "text": [
      "coeficiente angular = -0.013239\n",
      "coeficiente linear = 0.999541\n",
      "B =-0.013239\n"
     ]
    }
   ],
   "source": [
    "# Definindo variáveis\n",
    "\n",
    "T = 300      #K\n",
    "R = 8.314e-3    #dm3 · MPa · K−1 · mol−1   \n",
    "\n",
    "\n",
    "p = np.array ([0.4000,0.5000, 0.6000, 0.8000, 1.000, 1.500, 2.000, 2.500, 3.000, 4.000])             #MPa\n",
    "vm =np.array([6.2208,4.9736,4.1423,3.1031,2.4795,1.6483,1.2328,0.98357,0.81746,0.60998])        # Em dm^-3\n",
    "\n",
    "Coef = p*vm / (R * T)\n",
    "\n",
    "# Cálculo de 1/Vm para plotar o  gráfico de interseção \n",
    "\n",
    "InversoVm = 1 / vm\n",
    "\n",
    "deg = 1\n",
    "z = np.polyfit(InversoVm, Coef, deg)\n",
    "y = np.poly1d(z)\n",
    "\n",
    "# O segundo coeficiente do virial está relacionado ao coeficiente linear da regressão\n",
    "\n",
    "print('coeficiente angular =', format(z[0] , 'f'))  \n",
    "print('coeficiente linear =', format(z[1] , 'f')) \n",
    "\n",
    "print ('B =' + format(z[0], 'f'))\n"
   ]
  },
  {
   "cell_type": "markdown",
   "metadata": {},
   "source": [
    "De acordo com os valores acima, a equação da reta é y = -0.013239x + 0,999541\n",
    "A interseção em y é próximo ao valor de 1. De acordo com o valor da reta, temos **B = -0.013239**"
   ]
  },
  {
   "cell_type": "code",
   "execution_count": 19,
   "metadata": {},
   "outputs": [
    {
     "name": "stdout",
     "output_type": "stream",
     "text": [
      "Valor de C (dm^6 mol^-2)= 0.001063\n",
      "Valor de B (dm³ mol^-1) = -0.015026\n"
     ]
    }
   ],
   "source": [
    "#Encontrando o Terceiro Coeficiente da Equação do Virial - C\n",
    "\n",
    "deg = 2\n",
    "z1 = np.polyfit(InversoVm, Coef, deg)\n",
    "y1 = np.poly1d(z1)\n",
    "\n",
    "\n",
    "print('Valor de C (dm^6 mol^-2)=', format(z1[0] , 'f'))  \n",
    "print('Valor de B (dm³ mol^-1) =', format(z1[1] , 'f')) "
   ]
  },
  {
   "cell_type": "markdown",
   "metadata": {},
   "source": [
    "Observe que o segundo coeficiente do virial é modificado de acordo com a função ajustada.\n",
    "Vamos comparar os ajustes olhando para o gráfico."
   ]
  },
  {
   "cell_type": "code",
   "execution_count": 22,
   "metadata": {},
   "outputs": [
    {
     "data": {
      "image/png": "[encoded data removed]",
      "text/plain": [
       "<Figure size 432x288 with 1 Axes>"
      ]
     },
     "metadata": {
      "needs_background": "light"
     },
     "output_type": "display_data"
    }
   ],
   "source": [
    "plt.plot(InversoVm, Coef, \"*\")\n",
    "plt.plot(InversoVm, y(InversoVm), color='red', label='Primeiro Grau')\n",
    "plt.plot(InversoVm, y1(InversoVm), color='blue', label='Segundo Grau')\n",
    "plt.ylabel('PV/RT')\n",
    "plt.xlabel('1/Vm (dm³/mol')\n",
    "plt.legend(handlelength=4,loc='best')\n",
    "plt.show()"
   ]
  },
  {
   "cell_type": "code",
   "execution_count": null,
   "metadata": {},
   "outputs": [],
   "source": []
  }
 ],
 "metadata": {
  "colab": {
   "name": "Gases-Reais.ipynb",
   "provenance": []
  },
  "kernelspec": {
   "display_name": "Python 3",
   "language": "python",
   "name": "python3"
  },
  "language_info": {
   "codemirror_mode": {
    "name": "ipython",
    "version": 3
   },
   "file_extension": ".py",
   "mimetype": "text/x-python",
   "name": "python",
   "nbconvert_exporter": "python",
   "pygments_lexer": "ipython3",
   "version": "3.8.5"
  }
 },
 "nbformat": 4,
 "nbformat_minor": 1
}
