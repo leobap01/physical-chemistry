{
 "cells": [
  {
   "cell_type": "code",
   "execution_count": 1,
   "metadata": {
    "colab": {},
    "colab_type": "code",
    "executionInfo": {
     "elapsed": 546,
     "status": "ok",
     "timestamp": 1597759406483,
     "user": {
      "displayName": "Leonardo Baptista",
      "photoUrl": "https://lh3.googleusercontent.com/a-/AOh14GgUvq2V3SOxhV7JYWonqnLC2okceWVQL5__JHI3sg=s64",
      "userId": "17470973056258090925"
     },
     "user_tz": 180
    },
    "id": "t43skNl0Vcyw"
   },
   "outputs": [],
   "source": [
    "# Tudo começa com a importação dos módulos necessários para fazer as contas\n",
    "import numpy as np\n",
    "import matplotlib.pyplot as plt"
   ]
  },
  {
   "cell_type": "markdown",
   "metadata": {
    "colab_type": "text",
    "id": "bwrS2o8qWK4k"
   },
   "source": [
    "# Exercício 1) \n",
    "Use os dados abaixo de temperatura-pressão de vapor para determinar $\\Delta_{sub} Hº$, $\\Delta_{vap} Hº$ e $\\Delta_{fus} Hº$ para a água a 0ºC:\n",
    "\n",
    "Gelo\n",
    "\n",
    "|   |   |   |   |   |   |   |\n",
    "|---|---|---|---|---|---|---|\n",
    "|p/torr | 3.880 | 4.045 | 4.217 | 4.395 | 4.579\n",
    "|T/ºC | -2.0 | -1.5 | -1.0 | -0.5 | 0.0\n",
    "\n",
    "Água\n",
    "\n",
    "|   |   |   |   |   |   |   |\n",
    "|---|---|---|---|---|---|---|\n",
    "|p/torr | 4.579 | 4.750 | 4.926 | 5.107 | 5.294\n",
    "|T/ºC | 0.0 | 0.5 | 1.0 | 1.5 | 2.0"
   ]
  },
  {
   "cell_type": "markdown",
   "metadata": {
    "colab_type": "text",
    "id": "a7IXD1xzYDyM"
   },
   "source": [
    "### Solução:\n",
    "De acordo com a equação de Clausius-Clayperon ($ \\ln(\\frac{p_2}{p_1}) = - \\frac{\\Delta_{vap} Hº}{R} \\times (\\frac{1}{T_2}-\\frac{1}{T_2})$, um gráfico de ln(P) contra 1/T deve ser linear e apresentar coeficiente angular igual a - $\\frac{\\Delta Hº}{R}$.\n",
    "Resolvendo inicialmente para o gelo:"
   ]
  },
  {
   "cell_type": "code",
   "execution_count": 11,
   "metadata": {
    "colab": {
     "base_uri": "https://localhost:8080/",
     "height": 69
    },
    "colab_type": "code",
    "executionInfo": {
     "elapsed": 801,
     "status": "ok",
     "timestamp": 1597760565209,
     "user": {
      "displayName": "Leonardo Baptista",
      "photoUrl": "https://lh3.googleusercontent.com/a-/AOh14GgUvq2V3SOxhV7JYWonqnLC2okceWVQL5__JHI3sg=s64",
      "userId": "17470973056258090925"
     },
     "user_tz": 180
    },
    "id": "OPna3sQ4Yqsj",
    "outputId": "f4761fd0-ca08-48e9-b7ea-021fa27c5295"
   },
   "outputs": [
    {
     "name": "stdout",
     "output_type": "stream",
     "text": [
      "coeficiente angular = -6129.91617\n",
      "coeficiente linear =  23.97549\n",
      "entalpia de sublimação (J/K*mol)=  50964.12304\n"
     ]
    }
   ],
   "source": [
    "# Definindo os vetores que serão plotados\n",
    "# Resolvendo para o gelo\n",
    "\n",
    "p = np.array([  3.880 , 4.045 , 4.217 , 4.395 , 4.579])\n",
    "t_celsius = np.array([ -2.0 , -1.5 , -1.0 , -0.5 , 0.0]) \n",
    "T = 273 + t_celsius\n",
    "\n",
    "lnP = np.log(p)\n",
    "iT = 1/T\n",
    "\n",
    "\n",
    "deg = 1\n",
    "z = np.polyfit(iT, lnP, deg)\n",
    "y = np.poly1d(z)\n",
    "\n",
    "DH_sub = -8.314*z[0] # calculando deltaH de sublimação\n",
    "\n",
    "print('coeficiente angular = ' + format(z[0] , ' 6.5f'))  \n",
    "print('coeficiente linear = ' + format(z[1] , ' 6.5f'))  \n",
    "print('entalpia de sublimação (J/K*mol)= ' + format(DH_sub , ' 6.5f'))  "
   ]
  },
  {
   "cell_type": "code",
   "execution_count": 14,
   "metadata": {
    "colab": {
     "base_uri": "https://localhost:8080/",
     "height": 296
    },
    "colab_type": "code",
    "executionInfo": {
     "elapsed": 767,
     "status": "ok",
     "timestamp": 1597760607863,
     "user": {
      "displayName": "Leonardo Baptista",
      "photoUrl": "https://lh3.googleusercontent.com/a-/AOh14GgUvq2V3SOxhV7JYWonqnLC2okceWVQL5__JHI3sg=s64",
      "userId": "17470973056258090925"
     },
     "user_tz": 180
    },
    "id": "gVu_UB-vb4P3",
    "outputId": "830a7f37-0fb8-4745-fc32-3b80bbe21753"
   },
   "outputs": [
    {
     "data": {
      "text/plain": [
       "<function matplotlib.pyplot.show>"
      ]
     },
     "execution_count": 14,
     "metadata": {
      "tags": []
     },
     "output_type": "execute_result"
    },
    {
     "data": {
      "image/png": "[encoded data removed]",
      "text/plain": [
       "<Figure size 432x288 with 1 Axes>"
      ]
     },
     "metadata": {
      "needs_background": "light",
      "tags": []
     },
     "output_type": "display_data"
    }
   ],
   "source": [
    "plt.plot(iT,lnP,'*')\n",
    "plt.plot(iT,y(iT), color='blue', linewidth=1)\n",
    "plt.xlabel('1/Temperatura (1/K)')\n",
    "plt.ylabel('ln(P)(torr)')\n",
    "plt.show"
   ]
  },
  {
   "cell_type": "code",
   "execution_count": 15,
   "metadata": {
    "colab": {
     "base_uri": "https://localhost:8080/",
     "height": 69
    },
    "colab_type": "code",
    "executionInfo": {
     "elapsed": 641,
     "status": "ok",
     "timestamp": 1597760679381,
     "user": {
      "displayName": "Leonardo Baptista",
      "photoUrl": "https://lh3.googleusercontent.com/a-/AOh14GgUvq2V3SOxhV7JYWonqnLC2okceWVQL5__JHI3sg=s64",
      "userId": "17470973056258090925"
     },
     "user_tz": 180
    },
    "id": "NGN5e9U1aaiP",
    "outputId": "73ddc414-0ebf-4829-ea5a-f0adfb10b447"
   },
   "outputs": [
    {
     "name": "stdout",
     "output_type": "stream",
     "text": [
      "coeficiente angular = -5445.28900\n",
      "coeficiente linear =  21.46772\n",
      "entalpia de sublimação (J/K*mol)=  45272.13274\n"
     ]
    }
   ],
   "source": [
    "# Resolvendo para água \n",
    "#Definindo os vetores que serão plotados\n",
    "\n",
    "p = np.array([  4.579 , 4.750 , 4.926 , 5.107 , 5.294])\n",
    "t_celsius = np.array([ 0.0 , 0.5 , 1.0 , 1.5 , 2.0]) \n",
    "T = 273 + t_celsius\n",
    "\n",
    "lnP = np.log(p)\n",
    "iT = 1/T\n",
    "\n",
    "\n",
    "deg = 1\n",
    "z2 = np.polyfit(iT, lnP, deg)\n",
    "y1 = np.poly1d(z2)\n",
    "DH_vap = -8.314*z2[0] # calculando deltaH de vaporização\n",
    "\n",
    "print('coeficiente angular = ' + format(z2[0] , ' 6.5f'))  \n",
    "print('coeficiente linear = ' + format(z2[1] , ' 6.5f'))  \n",
    "print('entalpia de sublimação (J/K*mol)= ' + format(DH_vap , ' 6.5f'))  "
   ]
  },
  {
   "cell_type": "code",
   "execution_count": 17,
   "metadata": {
    "colab": {
     "base_uri": "https://localhost:8080/",
     "height": 296
    },
    "colab_type": "code",
    "executionInfo": {
     "elapsed": 856,
     "status": "ok",
     "timestamp": 1597760755416,
     "user": {
      "displayName": "Leonardo Baptista",
      "photoUrl": "https://lh3.googleusercontent.com/a-/AOh14GgUvq2V3SOxhV7JYWonqnLC2okceWVQL5__JHI3sg=s64",
      "userId": "17470973056258090925"
     },
     "user_tz": 180
    },
    "id": "h9ucZ5Qgbqep",
    "outputId": "2055cc17-57a3-4ecc-bb3d-2f4de575e931"
   },
   "outputs": [
    {
     "data": {
      "text/plain": [
       "<function matplotlib.pyplot.show>"
      ]
     },
     "execution_count": 17,
     "metadata": {
      "tags": []
     },
     "output_type": "execute_result"
    },
    {
     "data": {
      "image/png": "[encoded data removed]",
      "text/plain": [
       "<Figure size 432x288 with 1 Axes>"
      ]
     },
     "metadata": {
      "needs_background": "light",
      "tags": []
     },
     "output_type": "display_data"
    }
   ],
   "source": [
    "plt.plot(iT,lnP,'*')\n",
    "plt.plot(iT,y1(iT), color='green', linewidth=1)\n",
    "plt.xlabel('1/Temperatura (1/K)')\n",
    "plt.ylabel('ln(P)(torr)')\n",
    "plt.show"
   ]
  },
  {
   "cell_type": "markdown",
   "metadata": {
    "colab_type": "text",
    "id": "JIWAoHfyjKqy"
   },
   "source": [
    "Sabendo que: $ \\Delta_{sub} Hº = \\Delta_{vap} Hº + \\Delta_{fus} Hº$ "
   ]
  },
  {
   "cell_type": "code",
   "execution_count": 18,
   "metadata": {
    "colab": {
     "base_uri": "https://localhost:8080/",
     "height": 34
    },
    "colab_type": "code",
    "executionInfo": {
     "elapsed": 644,
     "status": "ok",
     "timestamp": 1597760790149,
     "user": {
      "displayName": "Leonardo Baptista",
      "photoUrl": "https://lh3.googleusercontent.com/a-/AOh14GgUvq2V3SOxhV7JYWonqnLC2okceWVQL5__JHI3sg=s64",
      "userId": "17470973056258090925"
     },
     "user_tz": 180
    },
    "id": "q5G4kcDsjeyg",
    "outputId": "8e665f62-b6e0-4baa-eb95-5e5c948b1c54"
   },
   "outputs": [
    {
     "name": "stdout",
     "output_type": "stream",
     "text": [
      "entalpia de fusão (J/K*mol)=  5691.99029\n"
     ]
    }
   ],
   "source": [
    "DH_fus = DH_sub - DH_vap\n",
    "print('entalpia de fusão (J/K*mol)= ' + format(DH_fus , ' 6.5f'))  "
   ]
  },
  {
   "cell_type": "code",
   "execution_count": 24,
   "metadata": {
    "colab": {
     "base_uri": "https://localhost:8080/",
     "height": 296
    },
    "colab_type": "code",
    "executionInfo": {
     "elapsed": 726,
     "status": "ok",
     "timestamp": 1597760996393,
     "user": {
      "displayName": "Leonardo Baptista",
      "photoUrl": "https://lh3.googleusercontent.com/a-/AOh14GgUvq2V3SOxhV7JYWonqnLC2okceWVQL5__JHI3sg=s64",
      "userId": "17470973056258090925"
     },
     "user_tz": 180
    },
    "id": "PSJB23fZmWj7",
    "outputId": "2c0db991-4797-41cd-f5bc-7083b7443747"
   },
   "outputs": [
    {
     "data": {
      "text/plain": [
       "<function matplotlib.pyplot.show>"
      ]
     },
     "execution_count": 24,
     "metadata": {
      "tags": []
     },
     "output_type": "execute_result"
    },
    {
     "data": {
      "image/png": "[encoded data removed]",
      "text/plain": [
       "<Figure size 432x288 with 1 Axes>"
      ]
     },
     "metadata": {
      "needs_background": "light",
      "tags": []
     },
     "output_type": "display_data"
    }
   ],
   "source": [
    "T = np.arange(270,276,0.5) #criando um intervalo de temperaturas\n",
    "iT = 1/T\n",
    "plt.plot(T,y1(iT), color='red', linewidth=1,label='solido')\n",
    "plt.plot(T,y(iT), color='green', linewidth=1,label='liquido')\n",
    "plt.xlabel('Temperatura (/K)')\n",
    "plt.ylabel('ln(P)(torr)')\n",
    "plt.legend(handlelength=4,loc='best')\n",
    "plt.show"
   ]
  },
  {
   "cell_type": "code",
   "execution_count": null,
   "metadata": {
    "colab": {},
    "colab_type": "code",
    "id": "uPOTO4h10Nay"
   },
   "outputs": [],
   "source": []
  }
 ],
 "metadata": {
  "colab": {
   "name": "Exercícios-Fis-Qui2-Eq-Fases.ipynb",
   "provenance": []
  },
  "kernelspec": {
   "display_name": "Python 3",
   "language": "python",
   "name": "python3"
  },
  "language_info": {
   "codemirror_mode": {
    "name": "ipython",
    "version": 3
   },
   "file_extension": ".py",
   "mimetype": "text/x-python",
   "name": "python",
   "nbconvert_exporter": "python",
   "pygments_lexer": "ipython3",
   "version": "3.8.5"
  }
 },
 "nbformat": 4,
 "nbformat_minor": 1
}
