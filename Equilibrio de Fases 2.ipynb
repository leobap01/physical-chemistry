{
 "cells": [
  {
   "cell_type": "markdown",
   "metadata": {
    "id": "uVdzhDxquQJ5"
   },
   "source": [
    "# Exemplos simples de equilíbrio de fases"
   ]
  },
  {
   "cell_type": "code",
   "execution_count": null,
   "metadata": {
    "id": "b-hVr2kAuQJ7"
   },
   "outputs": [],
   "source": [
    "import math\n",
    "import numpy as np"
   ]
  },
  {
   "cell_type": "markdown",
   "metadata": {
    "id": "I-_X2RzsuQKD"
   },
   "source": [
    "## Exemplo 1\n",
    "Estime a fração molar de vapor d'água no ar atmosférico em equilíbrio com água líquida a 20ºC e 1 atm. "
   ]
  },
  {
   "cell_type": "markdown",
   "metadata": {
    "id": "PVOETl8UuQKI"
   },
   "source": [
    "## Solução \n",
    "\n",
    "A resolução deste exercídio fará uso da Lei de Raoult: \n",
    "\n",
    "$$ p_{H_2 O} = x_{H_2 O}p_{vap} ^*$$\n",
    "$$ y_{H_2 O}p_{total} = x_{H_2 O}p_{vap} ^*$$\n",
    "\n",
    "Nestas condições: $p_{vap} ^* = 0.023 atm$\n",
    "Assume-se que o ar é composto de oxigênio e nitrogênio e que estes são pouco solúveis em água: $x_{H_2 O} = 1$"
   ]
  },
  {
   "cell_type": "code",
   "execution_count": null,
   "metadata": {
    "colab": {
     "base_uri": "https://localhost:8080/",
     "height": 52
    },
    "executionInfo": {
     "elapsed": 731,
     "status": "ok",
     "timestamp": 1599926728730,
     "user": {
      "displayName": "Leonardo Baptista",
      "photoUrl": "https://lh3.googleusercontent.com/a-/AOh14GjbU4VJykcNXBUbYVc_hHe6AtHG07aImWtddXbw=s64",
      "userId": "16746628627498894795"
     },
     "user_tz": 180
    },
    "id": "8SsPr13JuQKJ",
    "outputId": "c77bbac2-1524-4fe7-d41a-e05f05d90937"
   },
   "outputs": [
    {
     "name": "stdout",
     "output_type": "stream",
     "text": [
      "A fração molar de vapor d'água em equilíbrio com líquido é 0.023000\n",
      "Umidade relativa nestas condições  100.000000\n"
     ]
    }
   ],
   "source": [
    "P = 1.          #[atm]\n",
    "p_vap = 0.023     #[atm]\n",
    "x_water = 1\n",
    "\n",
    "y_water = x_water*p_vap/P\n",
    "\n",
    "print( \"A fração molar de vapor d'água em equilíbrio com líquido é %f\"%(y_water))\n",
    "\n",
    "# umidade relativa\n",
    "\n",
    "Um = (y_water * P / p_vap)*100\n",
    "print( \"Umidade relativa nestas condições  %f\"%(Um))"
   ]
  },
  {
   "cell_type": "markdown",
   "metadata": {
    "id": "S-Id3utRuQKQ"
   },
   "source": [
    "## Exemplo 2\n",
    "Estime a concentração de oxigênio dissolvido em água quando água e ar atmosférico estão em equilíbrio a 20 ºC e 1 atm. Utilize os resultados do exemplo anterior. Dados: $ \\rho (H_2O)= 998.2  g/L $ e  $H(O_2) = 40100 atm $ a 1 atm e 20ºC"
   ]
  },
  {
   "cell_type": "markdown",
   "metadata": {
    "id": "0S-tu5ZLuQKS"
   },
   "source": [
    "## Solução\n",
    "\n",
    "De acordo com o exercício anterior, $y_{(H_2 O)} = 0.023$. O ar seco é composto por 21% de $O_2$ e 79% de $N_2$, logo, $ y_{(N_2 )} +  y_{(O_2 )} = 1 - y_{(H_2 O)}$. Devemos assumir que a solução aquosa é majoritariamente água, devido a baixa solubilidade dos gases."
   ]
  },
  {
   "cell_type": "code",
   "execution_count": null,
   "metadata": {
    "colab": {
     "base_uri": "https://localhost:8080/",
     "height": 34
    },
    "executionInfo": {
     "elapsed": 694,
     "status": "ok",
     "timestamp": 1599927442590,
     "user": {
      "displayName": "Leonardo Baptista",
      "photoUrl": "https://lh3.googleusercontent.com/a-/AOh14GjbU4VJykcNXBUbYVc_hHe6AtHG07aImWtddXbw=s64",
      "userId": "16746628627498894795"
     },
     "user_tz": 180
    },
    "id": "x1zJJOYZuQKS",
    "outputId": "310c0fe3-5da4-4b38-8214-ff9876791ab8"
   },
   "outputs": [
    {
     "name": "stdout",
     "output_type": "stream",
     "text": [
      "Concentração de oxigênio dissolvido em água no equilíbrio é 6.817043 mL O2)/L solução)\n"
     ]
    }
   ],
   "source": [
    "#Inicialização ads variáveis do problema\n",
    "\n",
    "P = 1.          #[atm]\n",
    "H_O2 = 40100    #[atm] Constante da Lei de Henry do O2\n",
    "y_agua = 0.023\n",
    "\n",
    "#Calculando a fração molar de O2 no vapor\n",
    "y = 1-y_agua\n",
    "y_O2 = y*0.21\n",
    "\n",
    "x_O2 = y_O2*P/H_O2 # fração molar de O2 dissolvido em água\n",
    "\n",
    "c = x_O2*998.2/18   #[(mol O2)/(L solução)]\n",
    "\n",
    "#Assumindo comportamento de gás ideal para o O2\n",
    "V = c*0.082*293         #[(L O2)/(L solução)]\n",
    "V = V*1000              #[(ml O2)/(L solução)]\n",
    "\n",
    "print( \"Concentração de oxigênio dissolvido em água no equilíbrio é %f mL O2)/L solução)\"%(V))\n"
   ]
  },
  {
   "cell_type": "markdown",
   "metadata": {
    "id": "I3gUYeROuQKY"
   },
   "source": [
    "## Exemplo 3\n",
    "\n",
    "Repita o primeiro exercício, mas levando em consideração os três equilíbrios existentes simultaneamente:a) Equilíbrio líquido-vapor da água, b) Dissolução de $O_2$ do ar em água e c) Dissolução de $N_2$ do ar em água. Dado:  $H(N_2) = 80400 $ atm a 1 atm e 20ºC."
   ]
  },
  {
   "cell_type": "markdown",
   "metadata": {
    "id": "dfsrAxLtuQKa"
   },
   "source": [
    "## Solução\n",
    "\n",
    "Para resolver o problema devemos montar um sistema de equações lineares que descreve o problema. Os três equilíbrios existentes são:\n",
    "\n",
    "$$ y_{agua}P = x_{agua}p_{vap}(H_2 O) $$\n",
    "$$ y_{O_2}P = x_{O_2}H_{O_2} $$\n",
    "$$ y_{N_2}P = x_{N_2}H_{N_2} $$\n",
    "\n",
    "Temos um conjunto de 3 equações com 6 incógnitas. As três equações que completam o sistema são:\n",
    "\n",
    "$$ y_{agua} + y_{O_2} + y_{N_2} = 1 $$\n",
    "$$ x_{agua} + x_{O_2} + x_{N_2} = 1 $$\n",
    "$$ \\frac{y_{O_2}}{y_{N_2}} = 0.21/0.79 = 0.266 $$\n",
    "\n",
    "A resolução deste sistema pode ser feita pela regra de Cramer: $ A = A^{-1} B $. Escrevendo as equações acima no formato de um sistema de equações, temos:\n",
    "\n",
    "$$ x_{agua}p_{vap}(H_2 O) + 0x_{O_2} + 0x_{N_2} - y_{agua}P + 0y_{O_2} + 0y_{N_2}= 0$$\n",
    "$$ 0x_{agua} + x_{O_2}H_{O_2} + 0x_{N_2} + 0y_{agua} -y_{O_2}P + 0y_{N_2} = 0 $$\n",
    "$$ 0x_{agua} + 0x_{O_2} + x_{N_2}H_{N_2} + 0y_{agua} +0y_{O_2}P - y_{N_2}P = 0 $$\n",
    "$$ 0x_{agua} + 0x_{O_2} + 0x_{N_2} + y_{agua} + y_{O_2} + y_{N_2} = 1 $$\n",
    "$$ x_{agua} + x_{O_2} + x_{N_2} + 0y_{agua} + 0y_{O_2} + 0y_{N_2}= 1 $$\n",
    "$$ 0x_{agua} + 0x_{O_2} + 0x_{N_2} + 0y_{agua} + 079y_{O_2} - 0.21y_{N_2} = 0 $$\n"
   ]
  },
  {
   "cell_type": "code",
   "execution_count": null,
   "metadata": {
    "colab": {
     "base_uri": "https://localhost:8080/",
     "height": 139
    },
    "executionInfo": {
     "elapsed": 1052,
     "status": "ok",
     "timestamp": 1599928308385,
     "user": {
      "displayName": "Leonardo Baptista",
      "photoUrl": "https://lh3.googleusercontent.com/a-/AOh14GjbU4VJykcNXBUbYVc_hHe6AtHG07aImWtddXbw=s64",
      "userId": "16746628627498894795"
     },
     "user_tz": 180
    },
    "id": "mJCn0YACuQKa",
    "outputId": "97974764-37e7-4052-a8b4-d67629ae350b"
   },
   "outputs": [
    {
     "name": "stdout",
     "output_type": "stream",
     "text": [
      " A composição nas fases líquidas e vapor são :\n",
      "    y_agua       \t 0.023000\n",
      "    y_O2         \t 0.205170\n",
      "    y_N2          \t 0.771830\n",
      "    x_agua       \t 0.999985\n",
      "    x_O2         \t 5.116461e-06\n",
      "    x_N2         \t 9.599879e-06\n"
     ]
    }
   ],
   "source": [
    "#Inicializando as variáveis:\n",
    "\n",
    "P = 1.0             #[atm]\n",
    "p_agua = 0.023      #[atm] Pressão de vapor da água\n",
    "H_o = 40100         #[atm] Constante da Lei de Henry\n",
    "H_n = 80400.        #[atm] Constante da Lei de Henry\n",
    "\n",
    "\n",
    "\n",
    "\n",
    "A = np.array([[0.023, 0, 0, -1, 0, 0],[0, 40100, 0, 0, -1, 0],[0, 0 ,80400, 0, 0, -1],[0, 0, 0, 1, 1 ,1],[1 ,1, 1, 0, 0 ,0],[0, 0, 0, 0, 0.79, -0.21]])\n",
    "\n",
    "B = np.array([[0],[0],[0],[1],[1],[0]])\n",
    "\n",
    "#X = np.linalg.inv(A)\n",
    "\n",
    "#C = np.dot(X, B) # produto das duas matrizes\n",
    "\n",
    "C = np.linalg.solve(A, B)\n",
    "\n",
    "\n",
    "\n",
    "print( \" A composição nas fases líquidas e vapor são :\")\n",
    "\n",
    "print( \"    y_agua       \\t %f\"%(C[3]))\n",
    "print( \"    y_O2         \\t %f\"%(C[4]))\n",
    "print(\"    y_N2          \\t %f\"%(C[5]))\n",
    "print( \"    x_agua       \\t %f\"%(C[0]))\n",
    "print( \"    x_O2         \\t %e\"%(C[1]))\n",
    "print( \"    x_N2         \\t %e\"%(C[2]))"
   ]
  },
  {
   "cell_type": "markdown",
   "metadata": {
    "id": "53bOug53uQKh"
   },
   "source": [
    "## Exemplo 4\n",
    "Estime a pressão de vapor e a composição do vapor em equilíbrio com o líquido de composição 80%, em mol, de benzeno e 20% de tolueno a 20ºC, assumindo que a solução é ideal. Use a equação de Antoine para calcular a pressão de vapor das substâncias puras.\n"
   ]
  },
  {
   "cell_type": "markdown",
   "metadata": {
    "id": "nwYr7D1GuQKh"
   },
   "source": [
    "## Solução\n",
    "Uma solução ideal é aquela que solvente e soluto obedecem a Lei de Raoult. Para isso é necessário saber a pressão de vapor das substâncias puras, que será cálculada pela equação de Antoine: $ log(p(torr)) = A - \\frac{B}{T(ºC)+C} $.\n",
    "Os parâmetros A, B e C são tabelados para cada substância.\n",
    "\n",
    "Benzeno:\n",
    "A = 6.90565\n",
    "B = 1211.033\n",
    "C = 220.79\n",
    "\n",
    "Tolueno:\n",
    "A = 6.95334\n",
    "B = 1343.943\n",
    "C = 219.377"
   ]
  },
  {
   "cell_type": "code",
   "execution_count": null,
   "metadata": {
    "colab": {
     "base_uri": "https://localhost:8080/",
     "height": 69
    },
    "executionInfo": {
     "elapsed": 703,
     "status": "ok",
     "timestamp": 1599928609517,
     "user": {
      "displayName": "Leonardo Baptista",
      "photoUrl": "https://lh3.googleusercontent.com/a-/AOh14GjbU4VJykcNXBUbYVc_hHe6AtHG07aImWtddXbw=s64",
      "userId": "16746628627498894795"
     },
     "user_tz": 180
    },
    "id": "Ok3_i0A0uQKj",
    "outputId": "6fb6d3cf-f3b6-49de-d223-3b548cc8785f"
   },
   "outputs": [
    {
     "name": "stdout",
     "output_type": "stream",
     "text": [
      "75.2028546776027\n",
      "21.780372531252823\n",
      " Pressão da mistura na fase vapor         64.518358 torr\n",
      " Fração molar do benzeno na fase vapor    0.932483\n",
      " Fração molar do tolueno na fase vapor    0.067517\n"
     ]
    }
   ],
   "source": [
    "#Inicializando as variáveis\n",
    "T = 20.         #[C]\n",
    "x_b = 0.80\n",
    "x_t = 0.20\n",
    "A_b = 6.90565\n",
    "B_b = 1211.033\n",
    "C_b = 220.79\n",
    "\n",
    "p_b = 10**(A_b-B_b/(T+C_b)) #pressão de vapor do benzeno em torr\n",
    "\n",
    "\n",
    "A_t = 6.95334\n",
    "B_t = 1343.943\n",
    "C_t = 219.337\n",
    "\n",
    "p_t = 10**(A_t-B_t/(T+C_t)) # pressão de vapor do tolueno em torr\n",
    "\n",
    "p_1 = x_b*p_b # pressão parcial do benzeno no vapor\n",
    "p_2 = x_t*p_t # pressão parcial do tolueno no vapor\n",
    "\n",
    "\n",
    "P = p_1+p_2 #cálculo da pressão total\n",
    "\n",
    "#composição do vapor\n",
    "y_b = x_b*p_b/P\n",
    "y_t = x_t*p_t/P\n",
    "\n",
    "\n",
    "\n",
    "print( \" Pressão da mistura na fase vapor         %f torr\"%(P))\n",
    "print( \" Fração molar do benzeno na fase vapor    %f\"%(y_b))\n",
    "print( \" Fração molar do tolueno na fase vapor    %f\"%(y_t))"
   ]
  },
  {
   "cell_type": "markdown",
   "metadata": {
    "id": "9ox53GRxuQKp"
   },
   "source": [
    "## Exemplo 5\n",
    "\n",
    "Em qual temperatura a mistura anterior de benzeno e tolueno terá pressão de vapor de uma atmosfera? Assuma qua a solução é ideal.\n"
   ]
  },
  {
   "cell_type": "markdown",
   "metadata": {
    "id": "X-r-Q4QnuQKp"
   },
   "source": [
    "## Solução\n",
    "\n",
    "Podemos escrever a lei de Raoult para mistura:\n",
    "\n",
    "$$ (y_{benzeno} + y_{tolueno}) P = x_{benzeno}p_{vap}(b) + x_{tolueno}p_{vap}(t) $$\n",
    "\n",
    "É possível calcular a composição do vapor que que tem pressão de 1 atm, a partir do valor da pressão de vapor de cada substância pura, pois esta é função da temperatura. No entanto, as equações usadas para o cálculo da pressão de vapor são equações logarítmicas e equações contendo dois logaritmos diferentes não tem solução analítica. Logo, este é um problema de tentativa e erro, que é resolvido facilmente com auxílio de computadores. "
   ]
  },
  {
   "cell_type": "code",
   "execution_count": null,
   "metadata": {
    "colab": {
     "base_uri": "https://localhost:8080/",
     "height": 34
    },
    "executionInfo": {
     "elapsed": 737,
     "status": "ok",
     "timestamp": 1599929253342,
     "user": {
      "displayName": "Leonardo Baptista",
      "photoUrl": "https://lh3.googleusercontent.com/a-/AOh14GjbU4VJykcNXBUbYVc_hHe6AtHG07aImWtddXbw=s64",
      "userId": "16746628627498894795"
     },
     "user_tz": 180
    },
    "id": "liKI0WADuQKq",
    "outputId": "e4d392e7-1c12-4574-ce0a-1319933a7ada"
   },
   "outputs": [
    {
     "name": "stdout",
     "output_type": "stream",
     "text": [
      "A temperatura no qual a mistura benzeno-tolueno tem pressão de vapor de 1 atm é 84.360 deg C\n"
     ]
    }
   ],
   "source": [
    "P = 760.            #[mm Hg]\n",
    "x_b = 0.8           # Fração molar de benzeno no líquido\n",
    "x_t = 0.2           # Fração molar de tolueno no líquido\n",
    "\n",
    "#parâmetros da equação de Antoine para benzeno\n",
    "A_b = 6.90565\n",
    "B_b = 1211.003\n",
    "C_b = 220.79\n",
    "\n",
    "#parâmetros da equação de Antoine para tolueno\n",
    "A_t = 6.95334\n",
    "B_t = 1343.943\n",
    "C_t = 219.337\n",
    "\n",
    "\n",
    "\n",
    "#vamos criar um loop para ir testando diferentes valores de temperatura\n",
    "#Inicialmente criaremos um parâmetro de erro que será testado a cada iteração\n",
    "\n",
    "err = 1.\n",
    "T = 50.              #[C] temperatura inicial\n",
    "\n",
    "\n",
    "while err > 10**(-3):\n",
    "    p_b = 10**(6.90565 - 1211.003/(T + 220.79))\n",
    "    p_t = 10**(6.95334 - 1343.943/(T + 219.337))\n",
    "    y_b = x_b*p_b/P\n",
    "    y_t = x_t*p_t/P\n",
    "    err = abs((y_b + y_t) - 1) # este valor deveria ser zero, mas o tempo de computação seria muito longo\n",
    "    T = T + 0.01 # se escolher mal este incremento terá um erro considerável ou não conseguirá encontrar a solução.\n",
    "\n",
    "print( \"A temperatura no qual a mistura benzeno-tolueno tem pressão de vapor de 1 atm é %0.3f deg C\"%(T))\n"
   ]
  },
  {
   "cell_type": "markdown",
   "metadata": {
    "id": "qPltmK68uQKu"
   },
   "source": [
    "## Exemplo 6\n",
    "\n",
    "O sangue de um mergulhador está saturado com nitrogênio a 5 atm de pressão e fração molar de 0.79. Assim que o mergulhador se direciona a superfície, seu sangue precisa expelir o nitrogênio a medida que seu corpo entra em equlíbrio com a atmosfera. Quanto nitrogênio o corpo deve expelir? Assuma que o mergulhador pese 55 kg, que 75% de seu corpo seja água, com temperatura corporal de 37 ºC, e que a solubilidade do nitrogênio nos fluidos corporais é a mesma que em água pura. Dados: $ H(N_2) = 10.05 \\times 10^4$ atm a 37ºC."
   ]
  },
  {
   "cell_type": "markdown",
   "metadata": {
    "id": "koknEy6-uQKw"
   },
   "source": [
    "## Solução\n",
    "\n",
    "O número de mols de nitrogênio expelido do corpo do mergulhador é  proporcional diferença entre a fração molar de nitrogênio dissolvido a 5 atm e a fração molar a 1 atm. É necessário calcular a quantidade de matéria dos fluidos corporais e multiplicá-lo pela fração de nitrogênio expelida pelo corpo para encontrar a quantidade total de nitrogênio expelido.\n",
    "\n",
    "$$ N_2(expelido) = n_{fluidos} (x_{N_2, 5atm} - x_{N_2, 1atm} )$$\n",
    "\n",
    "Consideraremos que a fração molar de $N_2$ (0.79), não é alterada com a variação e pressão.\n"
   ]
  },
  {
   "cell_type": "code",
   "execution_count": null,
   "metadata": {
    "colab": {
     "base_uri": "https://localhost:8080/",
     "height": 52
    },
    "executionInfo": {
     "elapsed": 688,
     "status": "ok",
     "timestamp": 1599929774099,
     "user": {
      "displayName": "Leonardo Baptista",
      "photoUrl": "https://lh3.googleusercontent.com/a-/AOh14GjbU4VJykcNXBUbYVc_hHe6AtHG07aImWtddXbw=s64",
      "userId": "16746628627498894795"
     },
     "user_tz": 180
    },
    "id": "kyy5bwWVuQKw",
    "outputId": "04f659de-5c41-43c6-f5a7-61202e715409"
   },
   "outputs": [
    {
     "name": "stdout",
     "output_type": "stream",
     "text": [
      " Massa de nirogênio expelida pelo corpo 2.02 g\n",
      " Volume de nirogênio expelida pelo corpo 1.73 L\n"
     ]
    }
   ],
   "source": [
    "\n",
    "P_1 = 5.                #[atm]\n",
    "y_n = 0.79              # Fração molar de N2 na atmosfera\n",
    "P_2 = 1.0               #[atm]\n",
    "M = 55.                 #[kg] Massa do mergulhador\n",
    "x_w = 0.75              # fração de água no corpo humano\n",
    "T = 37                  #[C] Temperatura corporal do mergulhador \n",
    "\n",
    "H_n = 10.05*10**4       # [atm]\n",
    "\n",
    "n_rej = (M*1000*x_w/18)*( P_1*y_n/H_n - P_2*y_n/H_n)         #[mol]\n",
    "\n",
    "M_rej = n_rej * 28\n",
    "\n",
    "V_n = n_rej*0.082*293/1            #[L]\n",
    "\n",
    "print(\" Massa de nirogênio expelida pelo corpo %0.2f g\"%(M_rej))\n",
    "print(\" Volume de nirogênio expelida pelo corpo %0.2f L\"%(V_n))"
   ]
  }
 ],
 "metadata": {
  "colab": {
   "name": "Equilibrio de Fases 2.ipynb",
   "provenance": []
  },
  "kernelspec": {
   "display_name": "Python 3",
   "language": "python",
   "name": "python3"
  },
  "language_info": {
   "codemirror_mode": {
    "name": "ipython",
    "version": 3
   },
   "file_extension": ".py",
   "mimetype": "text/x-python",
   "name": "python",
   "nbconvert_exporter": "python",
   "pygments_lexer": "ipython3",
   "version": "3.8.5"
  }
 },
 "nbformat": 4,
 "nbformat_minor": 1
}
