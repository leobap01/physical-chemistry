{
 "cells": [
  {
   "cell_type": "markdown",
   "metadata": {
    "id": "rC6mAfbs-TB6"
   },
   "source": [
    "# **Exercises about the First Law of Thermodynamics**"
   ]
  },
  {
   "cell_type": "code",
   "execution_count": 1,
   "metadata": {
    "executionInfo": {
     "elapsed": 1313,
     "status": "ok",
     "timestamp": 1607796550252,
     "user": {
      "displayName": "Leonardo Baptista",
      "photoUrl": "https://lh3.googleusercontent.com/a-/AOh14GjRLOphTSKAaa1hk9s-yG76WfgeyIS9u1K4s3iv8A=s64",
      "userId": "16746628627498894795"
     },
     "user_tz": 180
    },
    "id": "bDGWgt1Fbc8W"
   },
   "outputs": [],
   "source": [
    "# Loading the necessary packages to solve the exercises\n",
    "import numpy as np\n"
   ]
  },
  {
   "cell_type": "markdown",
   "metadata": {
    "id": "wAtwvBq3bc8f"
   },
   "source": [
    "## Exercise 1)\n",
    "\n",
    "In general, $\\Delta$H for any process can be calculated by  $dH = C_p dT + \\left ( \\frac{\\partial H}{\\partial p} \\right)_p dp$. Calculate $\\Delta$H for the heating followed by expansion of 1.00 mol of $O_2(g)$ from 25ºC, 5.00 L and 4.93 bar, to 125ºC, 6.75L and 4.90 bar. Assume the ideal gas behavior.\n",
    "\n",
    "Dado: $C_{p,m} = 29.355 J K^{-1} mol^{-1}$.\n"
   ]
  },
  {
   "cell_type": "markdown",
   "metadata": {
    "id": "DPwQxftObc8g"
   },
   "source": [
    "## Solution\n",
    "\n",
    "The energy of ideal gas does not depend on pressure: $\\left ( \\frac{\\partial H}{\\partial p} \\right)_p = 0 $. The solution demands only the integration of $ d H = n \\times C_p dT $."
   ]
  },
  {
   "cell_type": "code",
   "execution_count": 2,
   "metadata": {
    "colab": {
     "base_uri": "https://localhost:8080/"
    },
    "executionInfo": {
     "elapsed": 2961,
     "status": "ok",
     "timestamp": 1607796551917,
     "user": {
      "displayName": "Leonardo Baptista",
      "photoUrl": "https://lh3.googleusercontent.com/a-/AOh14GjRLOphTSKAaa1hk9s-yG76WfgeyIS9u1K4s3iv8A=s64",
      "userId": "16746628627498894795"
     },
     "user_tz": 180
    },
    "id": "Ws3hcO1pbc8j",
    "outputId": "beeeea19-5b4d-43d9-eae2-3a6f459b3d44"
   },
   "outputs": [
    {
     "name": "stdout",
     "output_type": "stream",
     "text": [
      "Delta H (J/mol)= 2935.500\n"
     ]
    }
   ],
   "source": [
    "# Defining the variables \n",
    "\n",
    "n = 1.0            # mol \n",
    "Cp = 29.355        # J/ K mol\n",
    "Ti = 25.0          # ºC\n",
    "Tf = 125.0         # ºC\n",
    "\n",
    "#Calculation\n",
    "DH = n * Cp * (Tf - Ti) \n",
    "\n",
    "print('Delta H (J/mol)= ' + format(DH , '6.3f'))"
   ]
  },
  {
   "cell_type": "markdown",
   "metadata": {
    "id": "2It1rDn8bc8q"
   },
   "source": [
    "## Exercise 2)\n",
    "\n",
    "Repeat the calculation of the first exercise assuming  that $O_2(g)$ obeys the  van der Waals equation of state. In this case, $\\left ( \\frac{\\partial H}{\\partial p} \\right)_p = n \\left ( b - \\frac{2a}{RT} \\right) $."
   ]
  },
  {
   "cell_type": "markdown",
   "metadata": {
    "id": "UoxGYSW9bc8s"
   },
   "source": [
    "The integral that should be solved is: \n",
    "$$ \\Delta H = n \\times \\int_{298 K}^{398 K} C_p dT  + n \\times \\int_{4.93 }^{4.90} \\left ( b - \\frac{2a}{RT} \\right ) dp  $$\n",
    "\n",
    "\n",
    "However, the integration cannot be performed directly since the pressure is function temperature and volume. The above integral is a line integral. Since  $\\Delta$H is a thermodynamic state function, the problem will be divided in two:\n",
    "\n",
    "1) Assume heating at p = cte from 25ºC até 125ºC;\n",
    "\n",
    "2) After the heating, the system suffers an isothermic transformation from  4.93 bar to 4.90 bar."
   ]
  },
  {
   "cell_type": "code",
   "execution_count": 3,
   "metadata": {
    "colab": {
     "base_uri": "https://localhost:8080/"
    },
    "executionInfo": {
     "elapsed": 2957,
     "status": "ok",
     "timestamp": 1607796551919,
     "user": {
      "displayName": "Leonardo Baptista",
      "photoUrl": "https://lh3.googleusercontent.com/a-/AOh14GjRLOphTSKAaa1hk9s-yG76WfgeyIS9u1K4s3iv8A=s64",
      "userId": "16746628627498894795"
     },
     "user_tz": 180
    },
    "id": "GUZ1W0odbc8t",
    "outputId": "9b449437-7586-4398-b2f6-91ae67130ef4"
   },
   "outputs": [
    {
     "name": "stdout",
     "output_type": "stream",
     "text": [
      "Delta H (J/mol)= 2935.655\n"
     ]
    }
   ],
   "source": [
    "# Difinition of the variables\n",
    "\n",
    "n = 1.0            # mol \n",
    "Cp = 29.355        # J/ K mol\n",
    "Ti = 25.0          # ºC\n",
    "Tf = 125.0         # ºC\n",
    "pi = 4.93          # bar\n",
    "pf = 4.90          # bar\n",
    "a = 0.1380         # m^3 Pa / mol^2\n",
    "b = 0.0319e-3      # m^3 / mol \n",
    "R = 8.314          # J/ K mol  \n",
    "\n",
    "\n",
    "#First transformation\n",
    "DH1 = n * Cp * (Tf - Ti) \n",
    "\n",
    "#Second transformation\n",
    "DH2 = n * (b - 2*a/(R*(Tf+273)))*(pf-pi)*1e5\n",
    "\n",
    "DH = DH1 + DH2\n",
    "\n",
    "print('Delta H (J/mol)= ' + format(DH , '6.3f'))"
   ]
  },
  {
   "cell_type": "markdown",
   "metadata": {
    "id": "NFGRyPbAbc8y"
   },
   "source": [
    "## Exercise 3)\n",
    "\n",
    "Often the second integral of the sencond exercise is approximated by : $\\left ( \\frac{\\partial H}{\\partial p} \\right)_p = -C_p \\times \\mu_{JT} $. Assuming  $ \\mu_{JT}(O_2 ) = 0.25  K  bar^{-1}$, Repeat the calculation of the first exercise."
   ]
  },
  {
   "cell_type": "markdown",
   "metadata": {
    "id": "wwOZdb8Jbc8z"
   },
   "source": [
    "## Solution\n",
    "\n",
    "To keep the formalism, the procedure adopted in the last exercise will be repeated:\n",
    "\n",
    "1) Assume heating at p = cte from 25ºC até 125ºC;\n",
    "\n",
    "2) After the heating, the system suffers an isothermic transformation from  4.93 bar to 4.90 bar.\n"
   ]
  },
  {
   "cell_type": "code",
   "execution_count": 4,
   "metadata": {
    "colab": {
     "base_uri": "https://localhost:8080/"
    },
    "executionInfo": {
     "elapsed": 2952,
     "status": "ok",
     "timestamp": 1607796551920,
     "user": {
      "displayName": "Leonardo Baptista",
      "photoUrl": "https://lh3.googleusercontent.com/a-/AOh14GjRLOphTSKAaa1hk9s-yG76WfgeyIS9u1K4s3iv8A=s64",
      "userId": "16746628627498894795"
     },
     "user_tz": 180
    },
    "id": "TUyNheINbc81",
    "outputId": "5e013102-af1e-49c2-b317-96b4c2c4bc6b"
   },
   "outputs": [
    {
     "name": "stdout",
     "output_type": "stream",
     "text": [
      "Delta H (J/mol)= 2935.720\n"
     ]
    }
   ],
   "source": [
    "# All variables were defined in the script cell of the last exercise, by this reason, only the calculation of DH2 will be conducted.\n",
    "\n",
    "\n",
    "mu = 0.25    # K/bar\n",
    "\n",
    "#Second transformation\n",
    "DH2 = -n * Cp * mu*(pf-pi)\n",
    "\n",
    "#Overall entalphy change\n",
    "#DH1 wil be the same of the last exercise\n",
    "\n",
    "DH = DH1 + DH2\n",
    "\n",
    "print('Delta H (J/mol)= ' + format(DH , '6.3f'))"
   ]
  },
  {
   "cell_type": "markdown",
   "metadata": {
    "id": "xVbBjqrJbc86"
   },
   "source": [
    "## Exercise 4)\n",
    "\n",
    "Assume a reversible compression of a 1.0 mol of an ideal gas, from 22.4 L to 10.0 L, at a constant temperature of 0 ºC. Calculate the work done in this process. Repeat the calculations for a second compression from 10.0 L to 1.0 L,  at 0ºC. "
   ]
  },
  {
   "cell_type": "markdown",
   "metadata": {
    "id": "BS4O4ypGbc87"
   },
   "source": [
    "## Solution\n",
    "\n",
    "The first step is to obtain an equation for the p-V work of an ideal gas.\n",
    " \n",
    "$$ dW = -pdV $$\n",
    "$$ p = nRT/V $$\n",
    "$$ \\int dW = -nRT \\int \\frac{dV}{V} $$\n",
    "$$ W = -nRT ln(V_2/V_1) $$"
   ]
  },
  {
   "cell_type": "code",
   "execution_count": 5,
   "metadata": {
    "colab": {
     "base_uri": "https://localhost:8080/"
    },
    "executionInfo": {
     "elapsed": 2949,
     "status": "ok",
     "timestamp": 1607796551921,
     "user": {
      "displayName": "Leonardo Baptista",
      "photoUrl": "https://lh3.googleusercontent.com/a-/AOh14GjRLOphTSKAaa1hk9s-yG76WfgeyIS9u1K4s3iv8A=s64",
      "userId": "16746628627498894795"
     },
     "user_tz": 180
    },
    "id": "NPRUGNSGbc88",
    "outputId": "8cba6750-cc1e-4193-c053-2cd1a1bbd8e7"
   },
   "outputs": [
    {
     "name": "stdout",
     "output_type": "stream",
     "text": [
      "W (J)= 1831.482\n"
     ]
    }
   ],
   "source": [
    "#First compression\n",
    "\n",
    "R = 8.314          # J/K mol\n",
    "n = 1.0            # mol\n",
    "T = 273.15         # K\n",
    "V1 = 22.4          # L\n",
    "V2 = 10.0            \n",
    "\n",
    "# Calculation\n",
    "\n",
    "W1 = -n*R*T*np.log(V2/V1)\n",
    "\n",
    "print('W (J)= ' + format(W1 , '6.3f'))"
   ]
  },
  {
   "cell_type": "code",
   "execution_count": 6,
   "metadata": {
    "colab": {
     "base_uri": "https://localhost:8080/"
    },
    "executionInfo": {
     "elapsed": 2944,
     "status": "ok",
     "timestamp": 1607796551922,
     "user": {
      "displayName": "Leonardo Baptista",
      "photoUrl": "https://lh3.googleusercontent.com/a-/AOh14GjRLOphTSKAaa1hk9s-yG76WfgeyIS9u1K4s3iv8A=s64",
      "userId": "16746628627498894795"
     },
     "user_tz": 180
    },
    "id": "UXZETnXjbc9C",
    "outputId": "d2fbede4-d15b-47f6-b23a-b4dfdeb3191a"
   },
   "outputs": [
    {
     "name": "stdout",
     "output_type": "stream",
     "text": [
      "W (J)= 5229.100\n"
     ]
    }
   ],
   "source": [
    "# Second Compression\n",
    "\n",
    "V3 = 1.0       # L\n",
    "\n",
    "# Calculation\n",
    "\n",
    "W2 = -n*R*T*np.log(V3/V2)\n",
    "\n",
    "print('W (J)= ' + format(W2 , '6.3f'))"
   ]
  },
  {
   "cell_type": "markdown",
   "metadata": {
    "id": "awNs99Xsbc9G"
   },
   "source": [
    "The total work is the summation of the work performed in each step. It is illustrative to make a comparison between the total work produced in two steps with the work produced in a single step transformation, from  22.4 L to 1 L."
   ]
  },
  {
   "cell_type": "code",
   "execution_count": 7,
   "metadata": {
    "colab": {
     "base_uri": "https://localhost:8080/"
    },
    "executionInfo": {
     "elapsed": 2935,
     "status": "ok",
     "timestamp": 1607796551922,
     "user": {
      "displayName": "Leonardo Baptista",
      "photoUrl": "https://lh3.googleusercontent.com/a-/AOh14GjRLOphTSKAaa1hk9s-yG76WfgeyIS9u1K4s3iv8A=s64",
      "userId": "16746628627498894795"
     },
     "user_tz": 180
    },
    "id": "iTP0ZMJAbc9H",
    "outputId": "fe1b72f5-2f6e-4888-a4b3-d70aef9d6407"
   },
   "outputs": [
    {
     "name": "stdout",
     "output_type": "stream",
     "text": [
      "W in two steps(J)= 7060.581\n",
      "W in a single step transformation(J)= 7060.581\n"
     ]
    }
   ],
   "source": [
    "# Total two steps  work\n",
    "\n",
    "Wtotal = W1 + W2\n",
    "\n",
    "print('W in two steps(J)= ' + format(Wtotal , '6.3f'))\n",
    "\n",
    "# Singel step work\n",
    "\n",
    "W = -n*R*T*np.log(V3/V1)\n",
    "\n",
    "print('W in a single step transformation(J)= ' + format(W , '6.3f'))\n"
   ]
  },
  {
   "cell_type": "markdown",
   "metadata": {
    "id": "gO5WL_kHbc9L"
   },
   "source": [
    "## Exercise 5)\n",
    "\n",
    "Repeat the last exercise, assuming that $O_2$ obeys the van der Waals equation of state. \n"
   ]
  },
  {
   "cell_type": "markdown",
   "metadata": {
    "id": "vv6KLox6bc9M"
   },
   "source": [
    "## Solution\n",
    "\n",
    "Again, our problem demands the definition of an equation to calculate the work performed by a van der Waals gas.\n",
    "$$ dW = -pdV $$\n",
    "$$ p = \\frac{RT}{V_m-b} - \\frac{a}{V^2_m} $$\n",
    "$$ \\int dW = - \\int \\left (\\frac{RT}{V_m-b} - \\frac{a}{V^2_m} \\right)dV $$\n",
    "$$ W = -RT ln \\left( \\frac{V_{m,2} -b}{V_{m,1} -b} \\right) -a \\left( \\frac{1}{V_{m,2}} - \\frac{1}{V_{m,1}} \\right) $$\n"
   ]
  },
  {
   "cell_type": "code",
   "execution_count": 8,
   "metadata": {
    "colab": {
     "base_uri": "https://localhost:8080/"
    },
    "executionInfo": {
     "elapsed": 2932,
     "status": "ok",
     "timestamp": 1607796551922,
     "user": {
      "displayName": "Leonardo Baptista",
      "photoUrl": "https://lh3.googleusercontent.com/a-/AOh14GjRLOphTSKAaa1hk9s-yG76WfgeyIS9u1K4s3iv8A=s64",
      "userId": "16746628627498894795"
     },
     "user_tz": 180
    },
    "id": "dcRXKc2ybc9N",
    "outputId": "67dc33b9-cfa9-4290-ab8c-9794ab9b8846"
   },
   "outputs": [
    {
     "name": "stdout",
     "output_type": "stream",
     "text": [
      "W (J/mol)= 1827.862\n"
     ]
    }
   ],
   "source": [
    "#First compression\n",
    "\n",
    "R = 8.314          # J/K mol\n",
    "n = 1.0            # mol\n",
    "T = 273.15         # K\n",
    "V1 = 22.4e-3        # m^3\n",
    "V2 = 10.0e-3            \n",
    "a = 0.1380         # m^3 Pa / mol^2\n",
    "b = 0.0319e-3      # m^3 / mol \n",
    "\n",
    "#Calculation\n",
    "\n",
    "W1 = -R*T*np.log((V2-b)/(V1-b)) -a*(1/V2 - 1/V1)\n",
    "\n",
    "print('W (J/mol)= ' + format(W1 , '6.3f'))"
   ]
  },
  {
   "cell_type": "code",
   "execution_count": 9,
   "metadata": {
    "colab": {
     "base_uri": "https://localhost:8080/"
    },
    "executionInfo": {
     "elapsed": 2928,
     "status": "ok",
     "timestamp": 1607796551923,
     "user": {
      "displayName": "Leonardo Baptista",
      "photoUrl": "https://lh3.googleusercontent.com/a-/AOh14GjRLOphTSKAaa1hk9s-yG76WfgeyIS9u1K4s3iv8A=s64",
      "userId": "16746628627498894795"
     },
     "user_tz": 180
    },
    "id": "aB3imj0Pbc9R",
    "outputId": "871e3ba3-c4c6-487e-f109-40c815e7d0ce"
   },
   "outputs": [
    {
     "name": "stdout",
     "output_type": "stream",
     "text": [
      "W (J/mol)= 5171.268\n"
     ]
    }
   ],
   "source": [
    "# Second compression\n",
    "\n",
    "V3 = 1.0e-3    # L\n",
    "\n",
    "W2 = -R*T*np.log((V3-b)/(V2-b)) -a*(1/V3 - 1/V2)\n",
    "\n",
    "print('W (J/mol)= ' + format(W2 , '6.3f'))"
   ]
  },
  {
   "cell_type": "markdown",
   "metadata": {
    "id": "BXO3fJEUbc9V"
   },
   "source": [
    "We will redo the last comparison, between a two-stage transformation with a single-stage transformation."
   ]
  },
  {
   "cell_type": "code",
   "execution_count": 11,
   "metadata": {
    "colab": {
     "base_uri": "https://localhost:8080/"
    },
    "executionInfo": {
     "elapsed": 2925,
     "status": "ok",
     "timestamp": 1607796551923,
     "user": {
      "displayName": "Leonardo Baptista",
      "photoUrl": "https://lh3.googleusercontent.com/a-/AOh14GjRLOphTSKAaa1hk9s-yG76WfgeyIS9u1K4s3iv8A=s64",
      "userId": "16746628627498894795"
     },
     "user_tz": 180
    },
    "id": "0hefQzPJbc9W",
    "outputId": "e82711ef-6c3c-46ec-92f7-b050c219e86d"
   },
   "outputs": [
    {
     "name": "stdout",
     "output_type": "stream",
     "text": [
      "W in two steps(J)= 6999.130\n",
      "W in a single step transformation(J)= 6999.130\n"
     ]
    }
   ],
   "source": [
    "# Total two-stage work\n",
    "\n",
    "Wtotal = W1 + W2\n",
    "\n",
    "print('W in two steps(J)= ' + format(Wtotal , '6.3f'))\n",
    "\n",
    "# Total single-stage work\n",
    "\n",
    "W = -R*T*np.log((V3-b)/(V1-b)) -a*(1/V3 - 1/V1)\n",
    "\n",
    "print('W in a single step transformation(J)= ' + format(W , '6.3f'))"
   ]
  },
  {
   "cell_type": "markdown",
   "metadata": {
    "id": "Nkz-cUiibc9a"
   },
   "source": [
    "## Exercise 6)\n",
    "\n",
    "The equation of state for gases can be written in the virial form, $ pV_m = RT \\left( 1 + \\frac{B}{V_{m,}} + \\frac{C}{V^2_{m}} + ...\\right)$. Repeat the last calculations, assuming that the  $O_2$ follow the virial equation. The virial constants (B, C, ...) are liste in any physical-chemistry textbook.   "
   ]
  },
  {
   "cell_type": "code",
   "execution_count": null,
   "metadata": {
    "executionInfo": {
     "elapsed": 2925,
     "status": "ok",
     "timestamp": 1607796551925,
     "user": {
      "displayName": "Leonardo Baptista",
      "photoUrl": "https://lh3.googleusercontent.com/a-/AOh14GjRLOphTSKAaa1hk9s-yG76WfgeyIS9u1K4s3iv8A=s64",
      "userId": "16746628627498894795"
     },
     "user_tz": 180
    },
    "id": "PkB76fsRbc9c"
   },
   "outputs": [],
   "source": []
  },
  {
   "cell_type": "markdown",
   "metadata": {
    "id": "WjSb5gFcbc9f"
   },
   "source": [
    "## Exercise 7)\n",
    "\n",
    "The equation of state for gases can be written as the  Redlich-Kwong equation of state, $ \\left (p +\\frac{a}{V_m(V_m +b)T^{1/2}} \\right) (V_m - b) = RT $.  Repeat the last calculations, assuming that the  $O_2$ obeys this equation and made a comparison between the work evaluated in all exercises. Given: a = 17.16 $L² K^{1/2} atm. mol^{-2}$, b = 0.0221 L/mol."
   ]
  },
  {
   "cell_type": "code",
   "execution_count": null,
   "metadata": {
    "executionInfo": {
     "elapsed": 2923,
     "status": "ok",
     "timestamp": 1607796551925,
     "user": {
      "displayName": "Leonardo Baptista",
      "photoUrl": "https://lh3.googleusercontent.com/a-/AOh14GjRLOphTSKAaa1hk9s-yG76WfgeyIS9u1K4s3iv8A=s64",
      "userId": "16746628627498894795"
     },
     "user_tz": 180
    },
    "id": "w8le9M_Tbc9g"
   },
   "outputs": [],
   "source": []
  }
 ],
 "metadata": {
  "colab": {
   "name": "Primeira Lei_paper.ipynb",
   "provenance": []
  },
  "kernelspec": {
   "display_name": "Python 3",
   "language": "python",
   "name": "python3"
  },
  "language_info": {
   "codemirror_mode": {
    "name": "ipython",
    "version": 3
   },
   "file_extension": ".py",
   "mimetype": "text/x-python",
   "name": "python",
   "nbconvert_exporter": "python",
   "pygments_lexer": "ipython3",
   "version": "3.8.5"
  }
 },
 "nbformat": 4,
 "nbformat_minor": 1
}
