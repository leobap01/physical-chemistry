{
 "cells": [
  {
   "cell_type": "markdown",
   "metadata": {
    "id": "4w-viVb_1eiU"
   },
   "source": [
    "## Exercício 1\n",
    "\n",
    "A tabela abaixo apresenta os valores de $Cº_{p,m} (J mol^{-1} K^{-1})$ para  $O_2(g)$ no intervalo de tempertaura de 298K até 1500K. a) Ajuste um polinômio de terceiro grau ao dados de capacidade calorífica em função da temperatura e construa o gráfico de $Cº_{p,m}$ versus temperatura. b) Uma segunda alternativa é ajustar uma função do tipo $Cº_{p,m} = A + BT + CT^2 + D/T^2 $ aos dados fornecidos. Ajuste esta função aos dados fornecidos e construa o gráfico de $Cº_{p,m}$ versus temperatura. c) Compare os resultados obtidos.\n",
    "\n",
    "|   |   |   |   |   |   |   |   |   |   |   |   |   |   |\n",
    "|---|---|---|---|---|---|---|---|---|---|---|---|---|---|\n",
    "|T (K)|298.15|400.|500.|600.|700.|800.|900.|1000.|1100.|1200.|1300.|1400.|1500.\n",
    "|Cp (J/K mol)|29.376| 30.106| 31.091| 32.090| 32.981| 33.733| 34.355| 34.870| 35.300| 35.667| 35.988| 36.277| 36.544\n"
   ]
  },
  {
   "cell_type": "code",
   "execution_count": null,
   "metadata": {
    "id": "x8m_Xf281eiV"
   },
   "outputs": [],
   "source": [
    "# Tudo começa com a importação dos módulos necessários para fazer as contas\n",
    "import numpy as np\n",
    "from scipy.optimize import curve_fit\n",
    "import matplotlib.pyplot as plt\n",
    "from scipy.integrate import quad\n"
   ]
  },
  {
   "cell_type": "code",
   "execution_count": null,
   "metadata": {
    "id": "oCanuCJP1eiY",
    "outputId": "49f6532e-d177-4594-d934-be1c6d0a8ed0"
   },
   "outputs": [
    {
     "name": "stdout",
     "output_type": "stream",
     "text": [
      "Cºp,m =  25.66508 + 0.01304T-3.81147e-06T²-5.57560e-11T³\n"
     ]
    },
    {
     "data": {
      "text/plain": [
       "array([-5.57559849e-11, -3.81147086e-06,  1.30449460e-02,  2.56650822e+01])"
      ]
     },
     "execution_count": 2,
     "metadata": {
      "tags": []
     },
     "output_type": "execute_result"
    }
   ],
   "source": [
    "T = np.array([298.15,400.,500.,600.,700.,800.,900.,1000.,1100.,1200.,1300.,1400.,1500.])\n",
    "Cp = np.array([29.376, 30.106, 31.091, 32.090, 32.981, 33.733, 34.355, 34.870, 35.300, 35.667,35.988, 36.277, 36.544])\n",
    "\n",
    "deg = 3\n",
    "z = np.polyfit(T, Cp, deg)\n",
    "y = np.poly1d(z)\n",
    "\n",
    "\n",
    "print('Cºp,m = ' + format(z[3] , ' 6.5f') + ' +' + format(z[2] , ' 6.5f') + 'T' + format(z[1] , ' 6.5e') + 'T²' + format(z[0] , ' 6.5e') + 'T³')   \n",
    "\n",
    "#imprimir só os coeficientes na forma de vetor\n",
    "z\n",
    "\n"
   ]
  },
  {
   "cell_type": "code",
   "execution_count": null,
   "metadata": {
    "id": "Tv6hqjy81eie",
    "outputId": "461672bf-595b-4431-e5ff-010f9e6572f4"
   },
   "outputs": [
    {
     "data": {
      "text/plain": [
       "<function matplotlib.pyplot.show(*args, **kw)>"
      ]
     },
     "execution_count": 3,
     "metadata": {
      "tags": []
     },
     "output_type": "execute_result"
    },
    {
     "data": {
      "image/png": "[encoded data removed]",
      "text/plain": [
       "<Figure size 432x288 with 1 Axes>"
      ]
     },
     "metadata": {
      "needs_background": "light",
      "tags": []
     },
     "output_type": "display_data"
    }
   ],
   "source": [
    "plt.plot(T,Cp,'*')\n",
    "plt.plot(T,y(T), color='green', linewidth=1)\n",
    "plt.xlabel('Temperatura (K)')\n",
    "plt.ylabel('Cºp,m (J/mol K)')\n",
    "plt.show"
   ]
  },
  {
   "cell_type": "code",
   "execution_count": null,
   "metadata": {
    "id": "BJx5ZncO1eig",
    "outputId": "7f1e6cbf-7f2e-41eb-ff62-a175082b4d14"
   },
   "outputs": [
    {
     "name": "stdout",
     "output_type": "stream",
     "text": [
      "Cºp,m =  2.483e+01 + 1.456e-02T -4.560e-06T²  + 4.90797e+04/T²\n"
     ]
    },
    {
     "data": {
      "text/plain": [
       "array([ 2.48294824e+01,  1.45554447e-02, -4.55956846e-06,  4.90796782e+04])"
      ]
     },
     "execution_count": 4,
     "metadata": {
      "tags": []
     },
     "output_type": "execute_result"
    }
   ],
   "source": [
    "# Definir a função que será ajustada\n",
    "def func(T, a, b, c, d):\n",
    "\n",
    "    return a + b*T + c*T**2 + d/T**2\n",
    "\n",
    "# ajuste da função usando mínimos quadrados\n",
    "# popt são os parâmetros do modelo obtidos após ajuste\n",
    "# pcov é a matriz de covariância de popt. A partir dela pode ser calculado o desvio padrão de cada parâmetro do ajuste\n",
    "popt, pcov = curve_fit(func, T, Cp)\n",
    "\n",
    "\n",
    "print('Cºp,m = ' + format(popt[0] , ' 6.3e') + ' +' + format(popt[1] , ' 6.3e') + 'T ' + format(popt[2] , ' 6.3e') + 'T²  +' + format(popt[3] , ' 6.5e') + '/T²')   \n",
    "\n",
    "#imprimir só os coeficientes na forma de vetor\n",
    "popt"
   ]
  },
  {
   "cell_type": "code",
   "execution_count": null,
   "metadata": {
    "id": "9WmF5tXN1eij",
    "outputId": "c33af5cb-dc2e-4425-f4af-3abeb7c887f8"
   },
   "outputs": [
    {
     "data": {
      "text/plain": [
       "<function matplotlib.pyplot.show(*args, **kw)>"
      ]
     },
     "execution_count": 5,
     "metadata": {
      "tags": []
     },
     "output_type": "execute_result"
    },
    {
     "data": {
      "image/png": "[encoded data removed]",
      "text/plain": [
       "<Figure size 432x288 with 1 Axes>"
      ]
     },
     "metadata": {
      "needs_background": "light",
      "tags": []
     },
     "output_type": "display_data"
    }
   ],
   "source": [
    "plt.plot(T,Cp,'*')\n",
    "plt.plot(T,func(T, *popt), color='green', linewidth=1)\n",
    "plt.xlabel('Temperatura (K)')\n",
    "plt.ylabel('Cºp,m (J/mol K)')\n",
    "plt.show"
   ]
  },
  {
   "cell_type": "markdown",
   "metadata": {
    "id": "CtnAunUN1eil"
   },
   "source": [
    "## Exercício 2\n",
    "\n",
    "Gráficos de Cp/T versus T são usados para determinar a entropia de um material, uma vez que o valor de entropia é igual a área sob a curva. A tabela abaixo apresenta a variação de Cp do $Na_2SO_4$ em função da temperatura. a) Ajuste um polinômio de terceira ordem que passa pela origem aos dados fornecidos e calcule a entropia do $Na_2SO_4$ a 90 K. b) Em baixas temperaturas é possível ajustar uma função do tipo aT³ aos valores de Cp/T (“a” é uma constante). Investigue em qual intervalo de temperaturas esta aproximação é válida. c) Ajuste uma função do tipo $ Cº_{p,m} = A + BT + CT^2 + \\frac{D}{T^2} $ e calcule a entropia a 90 K. d) Ajuste uma função do tipo $ Cº_{p,m} = A + BT + CT^2 + DT^3 $ e calcule a entropia a 90 K. Compare os ajustes dos itens (c) e (d).\n",
    "\n",
    "|   |   |   |   |   |   |   |   |   |  \n",
    "|---|---|---|---|---|---|---|---|---|\n",
    "|Cp($cal K^{-1}$ )|0.171|0.286|0.626|1.615|4.346|7.032|10.48|13.28|15.33\n",
    "|T(K)|13.74|16.25|20.43|27.73|41.11|52.72|68.15|82.96|95.71\n"
   ]
  },
  {
   "cell_type": "markdown",
   "metadata": {
    "id": "BfTySfc91eil"
   },
   "source": [
    "### Solução (a)"
   ]
  },
  {
   "cell_type": "code",
   "execution_count": null,
   "metadata": {
    "id": "B0nEK58q1eim",
    "outputId": "2ab77df0-165b-470d-ff76-7c298a2c34b5"
   },
   "outputs": [
    {
     "name": "stdout",
     "output_type": "stream",
     "text": [
      "Cºp,m = -5.746e-02T  + 5.167e-03T² -3.03363e-05T³\n"
     ]
    },
    {
     "data": {
      "text/plain": [
       "array([-5.74633196e-02,  5.16679456e-03, -3.03363216e-05])"
      ]
     },
     "execution_count": 6,
     "metadata": {
      "tags": []
     },
     "output_type": "execute_result"
    }
   ],
   "source": [
    "T = np.array([13.74,16.25,20.43,27.73,41.11,52.72,68.15,82.96,95.71])\n",
    "Cp = np.array([0.171,0.286,0.626,1.615,4.346,7.032,10.48,13.28,15.33])\n",
    "\n",
    "# Definir a função que será ajustada\n",
    "def func(T, b, c, d):\n",
    "\n",
    "    return b*T + c*T**2 + d*T**3\n",
    "\n",
    "# ajuste da função usando mínimos quadrados\n",
    "# popt são os parâmetros do modelo obtidos após ajuste\n",
    "# pcov é a matriz de covariância de popt. A partir dela pode ser calculado o desvio padrão de cada parâmetro do ajuste\n",
    "popt, pcov = curve_fit(func, T, Cp)\n",
    "\n",
    "\n",
    "print('Cºp,m = ' + format(popt[0] , ' 6.3e') + 'T  +' + format(popt[1] , ' 6.3e') + 'T² ' + format(popt[2] , ' 6.5e') + 'T³')   \n",
    "\n",
    "#imprimir só os coeficientes na forma de vetor\n",
    "popt"
   ]
  },
  {
   "cell_type": "code",
   "execution_count": null,
   "metadata": {
    "id": "faLoRz2a1eio",
    "outputId": "4a054856-27e6-40c7-95fa-b87e7ac836bd"
   },
   "outputs": [
    {
     "data": {
      "text/plain": [
       "<function matplotlib.pyplot.show(*args, **kw)>"
      ]
     },
     "execution_count": 7,
     "metadata": {
      "tags": []
     },
     "output_type": "execute_result"
    },
    {
     "data": {
      "image/png": "[encoded data removed]",
      "text/plain": [
       "<Figure size 432x288 with 1 Axes>"
      ]
     },
     "metadata": {
      "needs_background": "light",
      "tags": []
     },
     "output_type": "display_data"
    }
   ],
   "source": [
    "plt.plot(T,Cp,'*')\n",
    "plt.plot(T,func(T, *popt), color='green', linewidth=1)\n",
    "plt.xlabel('Temperatura (K)')\n",
    "plt.ylabel('Cºp,m (J/mol K)')\n",
    "plt.show"
   ]
  },
  {
   "cell_type": "code",
   "execution_count": null,
   "metadata": {
    "id": "KJFVadQj1eir",
    "outputId": "e61fb873-b487-49b7-a9ef-0bb21df78abd"
   },
   "outputs": [
    {
     "name": "stdout",
     "output_type": "stream",
     "text": [
      "Delta S (J/K mol)=  8.382\n",
      "erro da integração = 1.006e-13\n"
     ]
    }
   ],
   "source": [
    "# Fazendo a integração no intervalo desejado\n",
    "\n",
    "def func(T):\n",
    "\n",
    "    return popt[0] + popt[1]*T + popt[2]*T**2\n",
    "\n",
    "ans, err = quad(func, 0, 90) #calcula a integral da função da acima e o erro da integração\n",
    "print('Delta S (J/K mol)= ' + format(ans , '6.3f'))\n",
    "print('erro da integração = ' + format(err, '6.3e'))"
   ]
  },
  {
   "cell_type": "markdown",
   "metadata": {
    "id": "qrCXZFn41eiu"
   },
   "source": [
    "### Solução (b)\n",
    "É preciso analisar o intervalo no qual o ajusto pedido é válido."
   ]
  },
  {
   "cell_type": "code",
   "execution_count": null,
   "metadata": {
    "id": "eNbxXVsf1eiv",
    "outputId": "e2105af7-ac4f-4bc0-9579-923b5c38b530"
   },
   "outputs": [
    {
     "name": "stdout",
     "output_type": "stream",
     "text": [
      "a= 6.383e-05\n",
      "desvio padrão do ajuste = 1.919e-06\n"
     ]
    },
    {
     "data": {
      "text/plain": [
       "<function matplotlib.pyplot.show(*args, **kw)>"
      ]
     },
     "execution_count": 26,
     "metadata": {
      "tags": []
     },
     "output_type": "execute_result"
    },
    {
     "data": {
      "image/png": "[encoded data removed]",
      "text/plain": [
       "<Figure size 432x288 with 1 Axes>"
      ]
     },
     "metadata": {
      "needs_background": "light",
      "tags": []
     },
     "output_type": "display_data"
    }
   ],
   "source": [
    "\n",
    "Ti = T[:5] \n",
    "Cpi = Cp[:5]\n",
    "# Definir a função que será ajustada\n",
    "def func(Ti, a):\n",
    "\n",
    "    return a*Ti**3\n",
    "\n",
    "a, pcov = curve_fit(func, Ti, Cpi) # faz o ajuste do modelo\n",
    "\n",
    "perr = np.sqrt(np.diag(pcov)) # calcula o desvio padrão do modelo\n",
    "\n",
    "#imprimir só os coeficientes na forma de vetor\n",
    "print('a= ' + format(a[0] , '6.3e'))\n",
    "print('desvio padrão do ajuste = ' + format(perr[0], '6.3e'))\n",
    "\n",
    "plt.plot(Ti,Cpi,'*')\n",
    "plt.plot(Ti,func(Ti, *a), color='green', linewidth=1)\n",
    "plt.xlabel('Temperatura (K)')\n",
    "plt.ylabel('Cºp,m (J/mol K)')\n",
    "plt.show"
   ]
  },
  {
   "cell_type": "markdown",
   "metadata": {
    "id": "k57fhhQK1eix"
   },
   "source": [
    "### Solução conjunta dos itens (c) e (d)"
   ]
  },
  {
   "cell_type": "code",
   "execution_count": null,
   "metadata": {
    "id": "-skiuH1z1eiy",
    "outputId": "723e361f-9f24-4bf3-ebf8-8bbaf88eb325"
   },
   "outputs": [
    {
     "name": "stdout",
     "output_type": "stream",
     "text": [
      "Cºp,m = -6.436e+00 + 2.829e-01T -5.728e-04T²  + 5.61810e+02/T²\n",
      "Delta S (J/K mol)= -36.947\n",
      "erro da integração = 2.677e+01\n"
     ]
    },
    {
     "name": "stderr",
     "output_type": "stream",
     "text": [
      "/usr/local/lib/python3.6/dist-packages/ipykernel_launcher.py:25: IntegrationWarning: The integral is probably divergent, or slowly convergent.\n"
     ]
    }
   ],
   "source": [
    "# Considerando a primeira função\n",
    "\n",
    "\n",
    "# Definir a função que será ajustada\n",
    "def func(T, a, b, c, d):\n",
    "\n",
    "    return a + b*T + c*T**2 + d/T**2\n",
    "\n",
    "# ajuste da função usando mínimos quadrados\n",
    "# popt são os parâmetros do modelo obtidos após ajuste\n",
    "# pcov é a matriz de covariância de popt. A partir dela pode ser calculado o desvio padrão de cada parâmetro do ajuste\n",
    "popt, pcov = curve_fit(func, T, Cp)\n",
    "\n",
    "\n",
    "print('Cºp,m = ' + format(popt[0] , ' 6.3e') + ' +' + format(popt[1] , ' 6.3e') + 'T ' + format(popt[2] , ' 6.3e') + 'T²  +' + format(popt[3] , ' 6.5e') + '/T²')   \n",
    "\n",
    "#imprimir só os coeficientes na forma de vetor\n",
    "popt\n",
    "\n",
    "\n",
    "def func(T):\n",
    "\n",
    "    return popt[0]/T + popt[1] + popt[2]*T + popt[3]/T**3\n",
    "\n",
    "ans, err = quad(func, 0, 90)\n",
    "\n",
    "print('Delta S (J/K mol)= ' + format(ans , '6.3f'))\n",
    "print('erro da integração = ' + format(err, '6.3e'))"
   ]
  },
  {
   "cell_type": "code",
   "execution_count": null,
   "metadata": {
    "id": "6llZALVb1ei0",
    "outputId": "c80cb920-3c0c-450f-c712-bfa6419c6787"
   },
   "outputs": [
    {
     "name": "stdout",
     "output_type": "stream",
     "text": [
      "Cºp,m = -0.20558-0.04189T +  4.85438e-03T² -2.85176e-05T³\n",
      "[-2.85176338e-05  4.85438172e-03 -4.18860690e-02 -2.05576078e-01]\n",
      "\n",
      "Delta S (J/K mol)=  0.393\n",
      "erro da integração = 1.922e+00\n"
     ]
    },
    {
     "name": "stderr",
     "output_type": "stream",
     "text": [
      "/usr/local/lib/python3.6/dist-packages/ipykernel_launcher.py:20: IntegrationWarning: The maximum number of subdivisions (50) has been achieved.\n",
      "  If increasing the limit yields no improvement it is advised to analyze \n",
      "  the integrand in order to determine the difficulties.  If the position of a \n",
      "  local difficulty can be determined (singularity, discontinuity) one will \n",
      "  probably gain from splitting up the interval and calling the integrator \n",
      "  on the subranges.  Perhaps a special-purpose integrator should be used.\n"
     ]
    }
   ],
   "source": [
    "# Considerando o polinômio do terceiro grau\n",
    "\n",
    "\n",
    "deg = 3\n",
    "z = np.polyfit(T, Cp, deg)\n",
    "y = np.poly1d(z)\n",
    "\n",
    "\n",
    "print('Cºp,m = ' + format(z[3] , ' 6.5f') + format(z[2] , ' 6.5f') + 'T + ' + format(z[1] , ' 6.5e') + 'T² ' + format(z[0] , ' 6.5e') + 'T³')   \n",
    "\n",
    "#imprimir só os coeficientes na forma de vetor\n",
    "print(z)\n",
    "print()\n",
    "\n",
    "\n",
    "def func(T):\n",
    "\n",
    "    return z[3]/T + z[2] + z[1]*T + z[0]*T**2\n",
    "\n",
    "ans, err = quad(func, 0, 90)\n",
    "\n",
    "print('Delta S (J/K mol)= ' + format(ans , '6.3f'))\n",
    "print('erro da integração = ' + format(err, '6.3e'))"
   ]
  },
  {
   "cell_type": "markdown",
   "metadata": {
    "id": "ALYvg45p1ei3"
   },
   "source": [
    "Os três valores de entropia calculados nos itens (a), (c) e (d) diferem quanto ao valor e sinal. Não havendo acordo entre os métodos empregados. Era de se esperar que os três resultados apresentassem uma pequena diferença e não o desacordo observado. O erro ocorre porque as funções utilizadas nos itens (c) e (d) apresentam uma idneterminação na origem, o que levará a problemas de integração. Nestes casos, a integral deve ser separada em dois intervalos:\n",
    "\n",
    "$$ \\Delta Sº = \\int_{0}^{90} \\frac{C_p}{T} dT = \\int_{0}^{T_{baixa}} \\frac{C_p}{T} dT + \\int_{T_{baixa}}^{90} \\frac{C_p}{T} dT $$\n",
    "\n",
    "Como visto no item (b), Cp pode ser ajustado a uma função do tipo $ aT^3$, de forma que a integração se torna:  \n",
    "\n",
    "$$ \\Delta Sº = \\int_{0}^{T_{baixa}} \\frac{aT^3}{T} dT + \\int_{T_{baixa}}^{90} \\frac{C_p}{T} dT $$ \n",
    "\n",
    "ou \n",
    "\n",
    "$$ \\Delta Sº = \\frac{aT^3}{3} + \\int_{T_{baixa}}^{90} \\frac{C_p}{T} dT = \\frac{C_p}{3} + \\int_{T_{baixa}}^{90} \\frac{C_p}{T} dT$$ \n",
    "\n",
    "Onde $C_p$ da primeira integral da direita se refere ao valor da capacidade calorífica em $T_{baixa}$. Em nosso caso, é maior valor T para o qual é válido o ajuste da função aT³ usada no item (c).\n",
    "Vamos resolver os problemas com as modificações necessárias. "
   ]
  },
  {
   "cell_type": "code",
   "execution_count": null,
   "metadata": {
    "id": "Cax0z-_m1ei3",
    "outputId": "77af2564-7016-433d-fdf8-c0d189db2e17"
   },
   "outputs": [
    {
     "name": "stdout",
     "output_type": "stream",
     "text": [
      "Delta S (J/K mol)=  8.565\n",
      "erro da integração = 9.509e-14\n"
     ]
    }
   ],
   "source": [
    "# Considerando a primeira função\n",
    "# Não é preciso refazer o ajuste, pois os coeficientes já estão salvos.\n",
    "\n",
    "def func1(T):\n",
    "\n",
    "    return a[0]*T**2\n",
    "\n",
    "ans1, err1 = quad(func1, 0, 40)\n",
    "\n",
    "\n",
    "def func2(T):\n",
    "\n",
    "    return popt[0]/T + popt[1] + popt[2]*T + popt[3]/T**3\n",
    "\n",
    "ans2, err2 = quad(func2, 40, 90)\n",
    "\n",
    "DS = ans1 + ans2\n",
    "erro = err1 + err2\n",
    "\n",
    "print('Delta S (J/K mol)= ' + format(DS , '6.3f'))\n",
    "print('erro da integração = ' + format(erro, '6.3e'))"
   ]
  },
  {
   "cell_type": "code",
   "execution_count": null,
   "metadata": {
    "id": "GEBrAdm91ei6",
    "outputId": "f16e3c57-b6e5-4ba7-9579-b3e5aa818ba3"
   },
   "outputs": [
    {
     "name": "stdout",
     "output_type": "stream",
     "text": [
      "Delta S (J/K mol)=  8.556\n",
      "erro da integração = 9.499e-14\n"
     ]
    }
   ],
   "source": [
    "# Considerando a primeira função\n",
    "# Não é preciso refazer o ajuste, pois os coeficientes já estão salvos.\n",
    "# Esta primeira integração não precisa ser repetida, pois os resultado será o mesmo. Mas calcularemos de novo a integral\n",
    "# para fixar a necessidade da separação dos cálculos\n",
    "\n",
    "def func1(T):\n",
    "\n",
    "    return a[0]*T**2\n",
    "\n",
    "ans1, err1 = quad(func1, 0, 40)\n",
    "\n",
    "\n",
    "def func2(T):\n",
    "\n",
    "    return z[3]/T + z[2] + z[1]*T + z[0]*T**2\n",
    "\n",
    "ans2, err2 = quad(func2, 40, 90)\n",
    "\n",
    "\n",
    "DS = ans1 + ans2\n",
    "erro = err1 + err2\n",
    "\n",
    "print('Delta S (J/K mol)= ' + format(DS , '6.3f'))\n",
    "print('erro da integração = ' + format(erro, '6.3e'))"
   ]
  },
  {
   "cell_type": "markdown",
   "metadata": {
    "id": "vCGsgonx1ei8"
   },
   "source": [
    "Verifiquem que o resultado dos itens (a), (c) e (d) são similares. A escolha do modelo matemático implica nos cálculos que pretende realizar e as propriedades que pretende calcular."
   ]
  }
 ],
 "metadata": {
  "colab": {
   "name": "Exercicio-Fis-Qui3-Entropia.ipynb",
   "provenance": []
  },
  "kernelspec": {
   "display_name": "Python 3",
   "language": "python",
   "name": "python3"
  },
  "language_info": {
   "codemirror_mode": {
    "name": "ipython",
    "version": 3
   },
   "file_extension": ".py",
   "mimetype": "text/x-python",
   "name": "python",
   "nbconvert_exporter": "python",
   "pygments_lexer": "ipython3",
   "version": "3.8.5"
  }
 },
 "nbformat": 4,
 "nbformat_minor": 1
}
