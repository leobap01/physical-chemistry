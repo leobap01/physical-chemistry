{
 "cells": [
  {
   "cell_type": "markdown",
   "metadata": {
    "id": "B8OZp35jIudr"
   },
   "source": [
    "# **Exercises about ideal gases**"
   ]
  },
  {
   "cell_type": "code",
   "execution_count": 1,
   "metadata": {
    "executionInfo": {
     "elapsed": 930,
     "status": "ok",
     "timestamp": 1609088928834,
     "user": {
      "displayName": "Leonardo Baptista",
      "photoUrl": "https://lh3.googleusercontent.com/a-/AOh14GjRLOphTSKAaa1hk9s-yG76WfgeyIS9u1K4s3iv8A=s64",
      "userId": "16746628627498894795"
     },
     "user_tz": 180
    },
    "id": "iNl7SWE2DqXn"
   },
   "outputs": [],
   "source": [
    "# Modules necessary to solve the problems\n",
    "import numpy as np\n",
    "import matplotlib.pyplot as plt\n"
   ]
  },
  {
   "cell_type": "markdown",
   "metadata": {
    "id": "9IJV9-C1_JmZ"
   },
   "source": [
    "# Exercise 1) \n",
    "The following volume values in functions of  pressure, for the $N_2$ at 0.00ºC, are observed:\n",
    "\n",
    "\n",
    "|   |   |   |   |\n",
    "|---|---|---|---|\n",
    "|p/atm | 1.000 | 3.0000 | 5.000\n",
    "|V/$cm^3$ | 22405 | 7461.4 | 4473.1\n",
    "\n",
    "Considering these data, plot pV/nT versus pressure and estimate the value of the universal gas constant when p = 0."
   ]
  },
  {
   "cell_type": "code",
   "execution_count": 2,
   "metadata": {
    "colab": {
     "base_uri": "https://localhost:8080/"
    },
    "executionInfo": {
     "elapsed": 951,
     "status": "ok",
     "timestamp": 1609088932779,
     "user": {
      "displayName": "Leonardo Baptista",
      "photoUrl": "https://lh3.googleusercontent.com/a-/AOh14GjRLOphTSKAaa1hk9s-yG76WfgeyIS9u1K4s3iv8A=s64",
      "userId": "16746628627498894795"
     },
     "user_tz": 180
    },
    "id": "cZvcCdvP-Z0m",
    "outputId": "945e21d1-4644-48b9-d5cb-16f6379aec74"
   },
   "outputs": [
    {
     "name": "stdout",
     "output_type": "stream",
     "text": [
      "R (atm L/K mol) =  0.08206\n"
     ]
    }
   ],
   "source": [
    "# Writing the arrays containing the values that will be plotted\n",
    "\n",
    "p = np.array([ 1.000, 3.0000, 5.000])\n",
    "V = np.array([ 22.405, 7.4614, 4.4731]) # Já alterado para litros\n",
    "\n",
    "T = 273.15 # Kelvin\n",
    "\n",
    "pV_nT = (p * V) / T\n",
    "\n",
    "#linear fit\n",
    "deg = 1\n",
    "z = np.polyfit(p, pV_nT, deg)\n",
    "y = np.poly1d(z)\n",
    "\n",
    "\n",
    "#The gas constant is related to the linear coefficient of the linear fit.\n",
    "#We will print directly the R value with the desired units\n",
    "print('R (atm L/K mol) = ' + format(z[1] , ' 6.5f'))\n",
    "\n"
   ]
  },
  {
   "cell_type": "code",
   "execution_count": 3,
   "metadata": {
    "colab": {
     "base_uri": "https://localhost:8080/",
     "height": 279
    },
    "executionInfo": {
     "elapsed": 808,
     "status": "ok",
     "timestamp": 1609088938507,
     "user": {
      "displayName": "Leonardo Baptista",
      "photoUrl": "https://lh3.googleusercontent.com/a-/AOh14GjRLOphTSKAaa1hk9s-yG76WfgeyIS9u1K4s3iv8A=s64",
      "userId": "16746628627498894795"
     },
     "user_tz": 180
    },
    "id": "OBYy8pf1FRxL",
    "outputId": "e80f0a0e-1de3-4162-bab0-3adc899a560c"
   },
   "outputs": [
    {
     "data": {
      "image/png": "[encoded data removed]",
      "text/plain": [
       "<Figure size 432x288 with 1 Axes>"
      ]
     },
     "metadata": {
      "needs_background": "light",
      "tags": []
     },
     "output_type": "display_data"
    }
   ],
   "source": [
    "#Creating the desired plot with matplotlib\n",
    "\n",
    "plt.plot(p, pV_nT, \"*\")\n",
    "plt.plot(p, y(p), \"-\")\n",
    "plt.ylabel('pV/nT')\n",
    "plt.xlabel('p (atm)')\n",
    "plt.show()"
   ]
  },
  {
   "cell_type": "markdown",
   "metadata": {
    "id": "GRWBCI4s0BKu"
   },
   "source": [
    "# Exercise 2) \n",
    "The specific mass of a certain gaseous amine, at  0ºC, in function of the pressure is:\n",
    "\n",
    "|   |   |   |   |\n",
    "|---|---|---|---|\n",
    "|p/atm | 0.2000 | 0.5000 | 0.8000\n",
    "|$\\rho$ /(g/L)  | 0.2796 | 0.7080 | 1.1476\n",
    "\n",
    "Plot p/$\\rho$ versus p and extrapolate to p = 0, in order to calculate the exact molar mass. Identify the gas. "
   ]
  },
  {
   "cell_type": "code",
   "execution_count": 6,
   "metadata": {
    "colab": {
     "base_uri": "https://localhost:8080/"
    },
    "executionInfo": {
     "elapsed": 961,
     "status": "ok",
     "timestamp": 1609089575628,
     "user": {
      "displayName": "Leonardo Baptista",
      "photoUrl": "https://lh3.googleusercontent.com/a-/AOh14GjRLOphTSKAaa1hk9s-yG76WfgeyIS9u1K4s3iv8A=s64",
      "userId": "16746628627498894795"
     },
     "user_tz": 180
    },
    "id": "sNDpttFF1qWt",
    "outputId": "e91c2197-9b4a-4d89-8bc2-ad819b25d2d4"
   },
   "outputs": [
    {
     "name": "stdout",
     "output_type": "stream",
     "text": [
      "slope = -0.03033\n",
      "linear coefficient =  0.72138\n"
     ]
    }
   ],
   "source": [
    "#  Writing the arrays containing the values that will be plotted\n",
    "\n",
    "p = np.array([ 0.2000, 0.5000, 0.8000])\n",
    "rho = np.array([ 0.2796, 0.7080, 1.1476]) \n",
    "\n",
    "T = 273.15 # Kelvin\n",
    "R = 0.082 # L * atm/ (K * mol)\n",
    "p_rho = p / rho\n",
    "\n",
    "#Linear fit\n",
    "\n",
    "deg = 1\n",
    "z = np.polyfit(p, p_rho, deg)\n",
    "y = np.poly1d(z)\n",
    "\n",
    "#Printing the coefficients of the linear fit\n",
    "print('slope = ' + format(z[0] , ' 6.5f'))  \n",
    "print('linear coefficient = ' + format(z[1] , ' 6.5f'))  \n",
    "\n",
    "\n"
   ]
  },
  {
   "cell_type": "code",
   "execution_count": 12,
   "metadata": {
    "colab": {
     "base_uri": "https://localhost:8080/",
     "height": 279
    },
    "executionInfo": {
     "elapsed": 1244,
     "status": "ok",
     "timestamp": 1609089733285,
     "user": {
      "displayName": "Leonardo Baptista",
      "photoUrl": "https://lh3.googleusercontent.com/a-/AOh14GjRLOphTSKAaa1hk9s-yG76WfgeyIS9u1K4s3iv8A=s64",
      "userId": "16746628627498894795"
     },
     "user_tz": 180
    },
    "id": "HHC1R7Q42GqY",
    "outputId": "2d232d23-315c-4eca-ee3a-4646ae696358"
   },
   "outputs": [
    {
     "data": {
      "image/png": "[encoded data removed]",
      "text/plain": [
       "<Figure size 432x288 with 1 Axes>"
      ]
     },
     "metadata": {
      "needs_background": "light",
      "tags": []
     },
     "output_type": "display_data"
    }
   ],
   "source": [
    "#Creating the plot with matplotlib\n",
    "\n",
    "plt.plot(p, p_rho, \".\")\n",
    "plt.plot(p, y(p), \"-\")\n",
    "plt.ylabel(r'p/$\\rho$')\n",
    "plt.xlabel('p (atm)')\n",
    "plt.show()"
   ]
  },
  {
   "cell_type": "markdown",
   "metadata": {
    "id": "x_fjTrXSVVAa"
   },
   "source": [
    "The relationship $ Mm = \\frac {\\rho}{p} RT $ it is valid only when p $ \\rightarrow $  0. By this reason we will consider  $ \\frac {1}{linear ~~coefficient} $ of the linear fit to estimate the molar mass."
   ]
  },
  {
   "cell_type": "code",
   "execution_count": 13,
   "metadata": {
    "colab": {
     "base_uri": "https://localhost:8080/"
    },
    "executionInfo": {
     "elapsed": 1078,
     "status": "ok",
     "timestamp": 1609089992355,
     "user": {
      "displayName": "Leonardo Baptista",
      "photoUrl": "https://lh3.googleusercontent.com/a-/AOh14GjRLOphTSKAaa1hk9s-yG76WfgeyIS9u1K4s3iv8A=s64",
      "userId": "16746628627498894795"
     },
     "user_tz": 180
    },
    "id": "y1vzNDfmVRGE",
    "outputId": "cdb6aa7f-bc87-4849-97cb-d8273ecadb2b"
   },
   "outputs": [
    {
     "name": "stdout",
     "output_type": "stream",
     "text": [
      "molar mass = 31.05 g/mol\n"
     ]
    }
   ],
   "source": [
    "Mm = 1 / z[1] * R * T\n",
    "\n",
    "print(\"molar mass = \" + format(Mm, '4.2f') + \" g/mol\")"
   ]
  },
  {
   "cell_type": "markdown",
   "metadata": {
    "id": "R0eE5imR_EPE"
   },
   "source": [
    "# Exercise 3) \n",
    "The Charles' Law can be wrtten as  $ V = V_0 (1 + \\alpha \\theta)$, with the temperature ($\\theta$) in Celsius degrees, where $\\alpha$ is a constant and $V_0$ the volume at 0ºC. The follwoing values of  $\\alpha$ for the nitrogen at 0 ºC were reported\n",
    "\n",
    "|             |   |   |   |   | \n",
    "|-------------|---|---|---|---|\n",
    "|p/torr | 749.7 | 599.6 | 333.1  | 98.6\n",
    "|$ \\alpha 10^{-3} $  ($º C^{-1}$)| 3.6717 | 3.6697 | 3.6665 |3.6643\n",
    "\n",
    "From these values, estimate the best value of the absolute zero in the Celsius scale."
   ]
  },
  {
   "cell_type": "code",
   "execution_count": 14,
   "metadata": {
    "colab": {
     "base_uri": "https://localhost:8080/"
    },
    "executionInfo": {
     "elapsed": 748,
     "status": "ok",
     "timestamp": 1609090455924,
     "user": {
      "displayName": "Leonardo Baptista",
      "photoUrl": "https://lh3.googleusercontent.com/a-/AOh14GjRLOphTSKAaa1hk9s-yG76WfgeyIS9u1K4s3iv8A=s64",
      "userId": "16746628627498894795"
     },
     "user_tz": 180
    },
    "id": "Wa7Zo7O9-z7r",
    "outputId": "4dc69bf9-6b73-4cf8-e0ae-7411578936c8"
   },
   "outputs": [
    {
     "name": "stdout",
     "output_type": "stream",
     "text": [
      "slope =  1.13926e-08\n",
      "linear coefficient =  0.00366\n"
     ]
    }
   ],
   "source": [
    "# Writing the arrays containing the values that will be plotted\n",
    "\n",
    "p = np.array([  749.7, 599.6, 333.1, 98.6])\n",
    "alpha = np.array([ 3.6717e-3, 3.6697e-3, 3.6665e-3,3.6643e-3]) \n",
    "\n",
    "#linear fit\n",
    "deg = 1\n",
    "z = np.polyfit(p, alpha, deg)\n",
    "y = np.poly1d(z)\n",
    "\n",
    "#Printing the coefficients of the linear fit\n",
    "print('slope = ' + format(z[0] , ' 6.5e'))  \n",
    "print('linear coefficient = ' + format(z[1] , ' 6.5f'))  \n",
    "\n"
   ]
  },
  {
   "cell_type": "code",
   "execution_count": 16,
   "metadata": {
    "colab": {
     "base_uri": "https://localhost:8080/",
     "height": 281
    },
    "executionInfo": {
     "elapsed": 784,
     "status": "ok",
     "timestamp": 1609090657771,
     "user": {
      "displayName": "Leonardo Baptista",
      "photoUrl": "https://lh3.googleusercontent.com/a-/AOh14GjRLOphTSKAaa1hk9s-yG76WfgeyIS9u1K4s3iv8A=s64",
      "userId": "16746628627498894795"
     },
     "user_tz": 180
    },
    "id": "BOEWpAsf_hE6",
    "outputId": "6779ee38-2cc7-4c6e-e41b-1cd0885ab364"
   },
   "outputs": [
    {
     "data": {
      "image/png": "[encoded data removed]",
      "text/plain": [
       "<Figure size 432x288 with 1 Axes>"
      ]
     },
     "metadata": {
      "needs_background": "light",
      "tags": []
     },
     "output_type": "display_data"
    }
   ],
   "source": [
    "#Plotting the data for illustrative purposes\n",
    "plt.plot(p, alpha, \"*\")\n",
    "plt.plot(p, y(p), \"-\")\n",
    "plt.ylabel(r'$\\alpha$')\n",
    "plt.xlabel('p (torr)')\n",
    "plt.show()"
   ]
  },
  {
   "cell_type": "markdown",
   "metadata": {
    "id": "udvLkG6G_6uS"
   },
   "source": [
    "The volume can be expressed in terms of the gas volume at 0 degrees and a constant, $\\alpha_0$, which is the same for each gas at p = 0 (ideal gas limit). The equation can be used to define a new temperature scale:\n",
    "\n",
    "$ V = V_0 (1 + \\alpha_0 \\theta)$\n",
    "\n",
    "$V = V_0 \\alpha_0( \\frac {1}{\\alpha_0} + \\theta)$\n",
    "\n",
    "A coordinate change can be performed to obtain the new origin in the temperature scale ( T = 0 ), known as the ideal gas temperature scale.\n",
    "\n",
    "$T = ( \\frac {1}{\\alpha_0} + \\theta)$\n",
    "\n",
    "$ 0 = ( \\frac {1}{0.00366} + \\theta)$\n",
    "\n",
    "$ \\theta = -  \\frac {1}{0.00366} = -273.22 ºC$ \n",
    "\n",
    "The absolute zero is obtained nearly at -273.22 ºC.\n"
   ]
  },
  {
   "cell_type": "code",
   "execution_count": null,
   "metadata": {},
   "outputs": [],
   "source": []
  }
 ],
 "metadata": {
  "colab": {
   "name": "Cópia de Exercícios-Fis-Qui-Gases.ipynb",
   "provenance": []
  },
  "kernelspec": {
   "display_name": "Python 3",
   "language": "python",
   "name": "python3"
  },
  "language_info": {
   "codemirror_mode": {
    "name": "ipython",
    "version": 3
   },
   "file_extension": ".py",
   "mimetype": "text/x-python",
   "name": "python",
   "nbconvert_exporter": "python",
   "pygments_lexer": "ipython3",
   "version": "3.8.5"
  }
 },
 "nbformat": 4,
 "nbformat_minor": 1
}
