{
 "cells": [
  {
   "cell_type": "code",
   "execution_count": 9,
   "metadata": {
    "executionInfo": {
     "elapsed": 615,
     "status": "ok",
     "timestamp": 1630946521032,
     "user": {
      "displayName": "Leonardo Baptista",
      "photoUrl": "https://lh3.googleusercontent.com/a-/AOh14GjRLOphTSKAaa1hk9s-yG76WfgeyIS9u1K4s3iv8A=s64",
      "userId": "16746628627498894795"
     },
     "user_tz": 180
    },
    "id": "DVTZybuySN0c"
   },
   "outputs": [],
   "source": [
    "#bibliotecas necessárias para resolução de exercícios\n",
    "import numpy as np\n",
    "from scipy.optimize import curve_fit\n",
    "import matplotlib.pyplot as plt"
   ]
  },
  {
   "cell_type": "markdown",
   "metadata": {
    "id": "YVih_fVJSi4h"
   },
   "source": [
    "## Exemplo 1\n",
    "\n",
    "De formar geral, $\\Delta$H para qualquer processo pode ser calculado via $dH = C_p dT + \\left ( \\frac{\\partial H}{\\partial p} \\right)_p dp$. Calcule $\\Delta$H para expansão de 1.00 mol de $O_2(g)$ de 25ºC, 5.00 L e 4.93 bar, para 125ºC, 6.75L e 4.90 bar. Considere comportamento de gás ideal. Dado: $C_{p,m} = 29.355 J K^{-1} mol^{-1}$.\n"
   ]
  },
  {
   "cell_type": "markdown",
   "metadata": {
    "id": "xz1gkl9kSkC_"
   },
   "source": [
    "## Solução\n",
    "\n",
    "Para um gás ideal $\\left ( \\frac{\\partial H}{\\partial p} \\right)_p = 0 $. Logo, o problema se resume a integrar a capacidade calorífica. $ \\Delta H = n \\times C_p \\Delta T $."
   ]
  },
  {
   "cell_type": "code",
   "execution_count": 2,
   "metadata": {
    "colab": {
     "base_uri": "https://localhost:8080/"
    },
    "executionInfo": {
     "elapsed": 267,
     "status": "ok",
     "timestamp": 1630934852722,
     "user": {
      "displayName": "Leonardo Baptista",
      "photoUrl": "https://lh3.googleusercontent.com/a-/AOh14GjRLOphTSKAaa1hk9s-yG76WfgeyIS9u1K4s3iv8A=s64",
      "userId": "16746628627498894795"
     },
     "user_tz": 180
    },
    "id": "MKCkEM1dSpp2",
    "outputId": "9e534b3b-e2bf-493f-cba7-d061df0cf40b"
   },
   "outputs": [
    {
     "name": "stdout",
     "output_type": "stream",
     "text": [
      "Delta H (J/mol)= 2935.500\n"
     ]
    }
   ],
   "source": [
    "# Inicialização das variáveis\n",
    "\n",
    "n = 1.0            # mol \n",
    "Cp = 29.355        # J/ K mol\n",
    "Ti = 25.0          # ºC\n",
    "Tf = 125.0         # ºC\n",
    "\n",
    "#Cálculo\n",
    "DH = n * Cp * (Tf - Ti) \n",
    "\n",
    "print('Delta H (J/mol)= ' + format(DH , '6.3f'))"
   ]
  },
  {
   "cell_type": "markdown",
   "metadata": {
    "id": "G3EFwnxjSwGL"
   },
   "source": [
    "## Exemplo 2\n",
    "\n",
    "Repita o cálculo anterior, assumindo que o $O_2(g)$ é um gas de van der Waals. Nestes casos, $\\left ( \\frac{\\partial H}{\\partial p} \\right)_p = n \\left ( b - \\frac{2a}{RT} \\right) $."
   ]
  },
  {
   "cell_type": "markdown",
   "metadata": {
    "id": "W9zOazkoS0qW"
   },
   "source": [
    "Neste caso, a integral a equação a ser resolvida é: \n",
    "$$ \\Delta H = n \\times \\int_{298 K}^{398 K} C_p dT  + n \\times \\int_{4.93 }^{4.90} \\left ( b - \\frac{2a}{RT} \\right ) dp  $$\n",
    "\n",
    "\n",
    "No entanto a integração não pode ser resolvida diretamente porque a pressão é função da temperatura e vice-versa. Logo, a integral acima é uma integral de linha. Como $\\Delta$H é uma função de estado termodinâmico, vamos separar o problema em dois:\n",
    "\n",
    "1) Considerar uma transformação a p = cte de 25ºC até 125ºC;\n",
    "\n",
    "2) Depois do sistema ser aquecido, vamos considerar uma transformação a T = cte de 4.93 bar até 4.90 bar."
   ]
  },
  {
   "cell_type": "code",
   "execution_count": 3,
   "metadata": {
    "colab": {
     "base_uri": "https://localhost:8080/"
    },
    "executionInfo": {
     "elapsed": 243,
     "status": "ok",
     "timestamp": 1630934957356,
     "user": {
      "displayName": "Leonardo Baptista",
      "photoUrl": "https://lh3.googleusercontent.com/a-/AOh14GjRLOphTSKAaa1hk9s-yG76WfgeyIS9u1K4s3iv8A=s64",
      "userId": "16746628627498894795"
     },
     "user_tz": 180
    },
    "id": "dMkbV4TFTCk8",
    "outputId": "a9b1bac1-7502-4088-8f47-bd7bd0405951"
   },
   "outputs": [
    {
     "name": "stdout",
     "output_type": "stream",
     "text": [
      "Delta H (J/mol)= 2935.655\n"
     ]
    }
   ],
   "source": [
    "# Inicialização das variáveis\n",
    "\n",
    "n = 1.0            # mol \n",
    "Cp = 29.355        # J/ K mol\n",
    "Ti = 25.0          # ºC\n",
    "Tf = 125.0         # ºC\n",
    "pi = 4.93          # bar\n",
    "pf = 4.90          # bar\n",
    "a = 0.1380         # m^3 Pa / mol^2\n",
    "b = 0.0319e-3      # m^3 / mol \n",
    "R = 8.314          # J/ K mol  \n",
    "\n",
    "\n",
    "#Transformação 1\n",
    "DH1 = n * Cp * (Tf - Ti) \n",
    "\n",
    "#Transformação 2\n",
    "DH2 = n * (b - 2*a/(R*(Tf+273)))*(pf-pi)*1e5\n",
    "\n",
    "DH = DH1 + DH2\n",
    "\n",
    "print('Delta H (J/mol)= ' + format(DH , '6.3f'))"
   ]
  },
  {
   "cell_type": "markdown",
   "metadata": {
    "id": "C6YYscGITK-b"
   },
   "source": [
    "## Exemplo 3\n",
    "\n",
    "É comum fazer a seguinte a proximação: $\\left ( \\frac{\\partial H}{\\partial p} \\right)_p = -C_p \\mu$. Considerando $ \\mu(O_2 ) = 0.25  K  bar^{-1}$. Repita os cálculos do problema anterior."
   ]
  },
  {
   "cell_type": "markdown",
   "metadata": {
    "id": "QF0FAll-TMa3"
   },
   "source": [
    "## Solução\n",
    "\n",
    "Por questões de formalismo, o procedimento adotado será o mesmo adotado do segundo exemplo:\n",
    "\n",
    "1) Considerar uma transformação a p = cte de 25ºC até 125ºC;\n",
    "\n",
    "2) Depois do sistema ser aquecido, vamos considerar uma transformação a T = cte de 4.93 bar até 4.90 bar."
   ]
  },
  {
   "cell_type": "code",
   "execution_count": 4,
   "metadata": {
    "colab": {
     "base_uri": "https://localhost:8080/"
    },
    "executionInfo": {
     "elapsed": 265,
     "status": "ok",
     "timestamp": 1630935026712,
     "user": {
      "displayName": "Leonardo Baptista",
      "photoUrl": "https://lh3.googleusercontent.com/a-/AOh14GjRLOphTSKAaa1hk9s-yG76WfgeyIS9u1K4s3iv8A=s64",
      "userId": "16746628627498894795"
     },
     "user_tz": 180
    },
    "id": "OIT4W3tuTUdp",
    "outputId": "cae62295-4dd3-48e5-888e-cfb1b8f69e3f"
   },
   "outputs": [
    {
     "name": "stdout",
     "output_type": "stream",
     "text": [
      "Delta H (J/mol)= 2935.720\n"
     ]
    }
   ],
   "source": [
    "# Como todas as variáveis já foram definidas, só repetiremos o cálcul de DH2\n",
    "\n",
    "mu = 0.25    # K/bar\n",
    "\n",
    "#Transformação 2\n",
    "DH2 = -n * Cp * mu*(pf-pi)\n",
    "\n",
    "#Variação da entalpia total\n",
    "\n",
    "DH = DH1 + DH2\n",
    "\n",
    "print('Delta H (J/mol)= ' + format(DH , '6.3f'))"
   ]
  },
  {
   "cell_type": "markdown",
   "metadata": {
    "id": "la-_MndGTek2"
   },
   "source": [
    "## Exemplo 4\n",
    "\n",
    "Considere a compressão de 1.0 mol de um gás ideal, de 22.4 L para 10.0L mantendo T constante a 0ºC. Calcule o trabalho realizado neste processo. Repita os cáclulos para uma segunda compressão de 10.0 L até 1.0 L mantendo a temperatura a 0ºC. "
   ]
  },
  {
   "cell_type": "markdown",
   "metadata": {
    "id": "rWKvlotdTfWR"
   },
   "source": [
    "## Solução \n",
    "\n",
    "Em primeiro lugar é preciso encontrar um expressão para o trabalho p-V de um gás ideal. \n",
    "$$ dW = -pdV $$\n",
    "$$ p = nRT/V $$\n",
    "$$ \\int dW = -nRT \\int \\frac{dV}{V} $$\n",
    "$$ W = -nRT ln(V_2/V_1) $$"
   ]
  },
  {
   "cell_type": "code",
   "execution_count": 5,
   "metadata": {
    "colab": {
     "base_uri": "https://localhost:8080/"
    },
    "executionInfo": {
     "elapsed": 281,
     "status": "ok",
     "timestamp": 1630935085903,
     "user": {
      "displayName": "Leonardo Baptista",
      "photoUrl": "https://lh3.googleusercontent.com/a-/AOh14GjRLOphTSKAaa1hk9s-yG76WfgeyIS9u1K4s3iv8A=s64",
      "userId": "16746628627498894795"
     },
     "user_tz": 180
    },
    "id": "rsGEgyjITjVx",
    "outputId": "9d8ced1c-9c4f-4bef-bd5c-c613e06a91fc"
   },
   "outputs": [
    {
     "name": "stdout",
     "output_type": "stream",
     "text": [
      "W (J)= 1831.482\n"
     ]
    }
   ],
   "source": [
    "#Primeira compressão\n",
    "\n",
    "R = 8.314          # J/K mol\n",
    "n = 1.0            # mol\n",
    "T = 273.15         # K\n",
    "V1 = 22.4          # L\n",
    "V2 = 10.0            \n",
    "\n",
    "# Cálculo\n",
    "\n",
    "W1 = -n*R*T*np.log(V2/V1)\n",
    "\n",
    "print('W (J)= ' + format(W1 , '6.3f'))"
   ]
  },
  {
   "cell_type": "code",
   "execution_count": 6,
   "metadata": {
    "colab": {
     "base_uri": "https://localhost:8080/"
    },
    "executionInfo": {
     "elapsed": 455,
     "status": "ok",
     "timestamp": 1630935100146,
     "user": {
      "displayName": "Leonardo Baptista",
      "photoUrl": "https://lh3.googleusercontent.com/a-/AOh14GjRLOphTSKAaa1hk9s-yG76WfgeyIS9u1K4s3iv8A=s64",
      "userId": "16746628627498894795"
     },
     "user_tz": 180
    },
    "id": "1okA_liETpyR",
    "outputId": "16e100f2-773b-4b30-e2f5-8e5eab03bcd9"
   },
   "outputs": [
    {
     "name": "stdout",
     "output_type": "stream",
     "text": [
      "W (J)= 5229.100\n"
     ]
    }
   ],
   "source": [
    "# Segunda Compressão\n",
    "\n",
    "V3 = 1.0       # L\n",
    "\n",
    "# Cálculo\n",
    "\n",
    "W2 = -n*R*T*np.log(V3/V2)\n",
    "\n",
    "print('W (J)= ' + format(W2 , '6.3f'))"
   ]
  },
  {
   "cell_type": "markdown",
   "metadata": {
    "id": "N2qANzhETuCL"
   },
   "source": [
    "O trabalho total é a soma dos trabalhos realizados em cada etapa. Neste ponto é ilustrativo comparar o trabalho total realizado em duas etapas, com o trabalho realizado em uma única etapa de 22.4 L até 1 L."
   ]
  },
  {
   "cell_type": "code",
   "execution_count": 7,
   "metadata": {
    "colab": {
     "base_uri": "https://localhost:8080/"
    },
    "executionInfo": {
     "elapsed": 241,
     "status": "ok",
     "timestamp": 1630935128449,
     "user": {
      "displayName": "Leonardo Baptista",
      "photoUrl": "https://lh3.googleusercontent.com/a-/AOh14GjRLOphTSKAaa1hk9s-yG76WfgeyIS9u1K4s3iv8A=s64",
      "userId": "16746628627498894795"
     },
     "user_tz": 180
    },
    "id": "yqzfiEqkTvDJ",
    "outputId": "07acf721-201d-4067-99dd-4e3b2a8a4f09"
   },
   "outputs": [
    {
     "name": "stdout",
     "output_type": "stream",
     "text": [
      "W em duas etapas(J)= 7060.581\n",
      "W em uma única etapa (J)= 7060.581\n"
     ]
    }
   ],
   "source": [
    "# Trabalho total em 2 etapas\n",
    "\n",
    "Wtotal = W1 + W2\n",
    "\n",
    "print('W em duas etapas(J)= ' + format(Wtotal , '6.3f'))\n",
    "\n",
    "# Trabalho total em uma etapa\n",
    "\n",
    "W = -n*R*T*np.log(V3/V1)\n",
    "\n",
    "print('W em uma única etapa (J)= ' + format(W , '6.3f'))\n"
   ]
  },
  {
   "cell_type": "markdown",
   "metadata": {
    "id": "KWNCSgshT0iu"
   },
   "source": [
    "## Exemplo 5\n",
    "\n",
    "Repita o exercício anterior para o $O_2$, assumindo que este se comporta como um gás de van der Waals. "
   ]
  },
  {
   "cell_type": "markdown",
   "metadata": {
    "id": "ARYYZ2y2T1rN"
   },
   "source": [
    "## Solução\n",
    "\n",
    "Novamente nosso problema se resume a encotrar uma equação com a qual podemos calcular o trabalho feito por um gás de van der Waals.\n",
    "$$ dW = -pdV $$\n",
    "$$ p = \\frac{RT}{V_m-b} - \\frac{a}{V^2_m} $$\n",
    "$$ \\int dW = - \\int \\left (\\frac{RT}{V_m-b} - \\frac{a}{V^2_m} \\right)dV $$\n",
    "$$ W = -RT ln \\left( \\frac{V_{m,2} -b}{V_{m,1} -b} \\right) -a \\left( \\frac{1}{V_{m,2}} - \\frac{1}{V_{m,1}} \\right) $$"
   ]
  },
  {
   "cell_type": "code",
   "execution_count": 12,
   "metadata": {
    "colab": {
     "base_uri": "https://localhost:8080/"
    },
    "executionInfo": {
     "elapsed": 265,
     "status": "ok",
     "timestamp": 1630935546071,
     "user": {
      "displayName": "Leonardo Baptista",
      "photoUrl": "https://lh3.googleusercontent.com/a-/AOh14GjRLOphTSKAaa1hk9s-yG76WfgeyIS9u1K4s3iv8A=s64",
      "userId": "16746628627498894795"
     },
     "user_tz": 180
    },
    "id": "T7JeA3mJT5pt",
    "outputId": "6ee62db9-53ee-4003-9e88-1f070f65bd1b"
   },
   "outputs": [
    {
     "name": "stdout",
     "output_type": "stream",
     "text": [
      "W (J)= 1827.862\n"
     ]
    }
   ],
   "source": [
    "#Primeira compressão\n",
    "\n",
    "R = 8.314          # J/K mol\n",
    "n = 1.0            # mol\n",
    "T = 273.15         # K\n",
    "V1 = 22.4e-3        # m^3\n",
    "V2 = 10.0e-3            \n",
    "a = 0.1380         # m^3 Pa / mol^2\n",
    "b = 0.0319e-3      # m^3 / mol \n",
    "\n",
    "#Cálculo\n",
    "\n",
    "W1 = -R*T*np.log((V2-b)/(V1-b)) -a*(1/V2 - 1/V1)\n",
    "\n",
    "print('W (J)= ' + format(W1 , '6.3f'))"
   ]
  },
  {
   "cell_type": "code",
   "execution_count": 13,
   "metadata": {
    "colab": {
     "base_uri": "https://localhost:8080/"
    },
    "executionInfo": {
     "elapsed": 264,
     "status": "ok",
     "timestamp": 1630935550245,
     "user": {
      "displayName": "Leonardo Baptista",
      "photoUrl": "https://lh3.googleusercontent.com/a-/AOh14GjRLOphTSKAaa1hk9s-yG76WfgeyIS9u1K4s3iv8A=s64",
      "userId": "16746628627498894795"
     },
     "user_tz": 180
    },
    "id": "YEY7TKVHUA3o",
    "outputId": "85bde77b-9987-49f2-f00f-bd4f3de05376"
   },
   "outputs": [
    {
     "name": "stdout",
     "output_type": "stream",
     "text": [
      "W (J)= 5171.268\n"
     ]
    }
   ],
   "source": [
    "# Segunda Compressão\n",
    "\n",
    "V3 = 1.0e-3    # L\n",
    "\n",
    "W2 = -R*T*np.log((V3-b)/(V2-b)) -a*(1/V3 - 1/V2)\n",
    "\n",
    "print('W (J)= ' + format(W2 , '6.3f'))"
   ]
  },
  {
   "cell_type": "markdown",
   "metadata": {
    "id": "yRrhU33oURgn"
   },
   "source": [
    "Agora será calculado o trabalho total realizado na compressão em dois estágios. Para fins de comparação, o trabalho total será calculado em uma compressão em um estágio, considerando os mesmos estados finais e iniciais."
   ]
  },
  {
   "cell_type": "code",
   "execution_count": 14,
   "metadata": {
    "colab": {
     "base_uri": "https://localhost:8080/"
    },
    "executionInfo": {
     "elapsed": 249,
     "status": "ok",
     "timestamp": 1630935569396,
     "user": {
      "displayName": "Leonardo Baptista",
      "photoUrl": "https://lh3.googleusercontent.com/a-/AOh14GjRLOphTSKAaa1hk9s-yG76WfgeyIS9u1K4s3iv8A=s64",
      "userId": "16746628627498894795"
     },
     "user_tz": 180
    },
    "id": "oypy5ZoqVHFt",
    "outputId": "3ef986a9-331a-4026-9e20-40fab52c277f"
   },
   "outputs": [
    {
     "name": "stdout",
     "output_type": "stream",
     "text": [
      "W em duas etapas(J)= 6999.130\n",
      "W em uma única etapa (J)= 6999.130\n"
     ]
    }
   ],
   "source": [
    "# Trabalho total em 2 etapas\n",
    "\n",
    "Wtotal = W1 + W2\n",
    "\n",
    "print('W em duas etapas(J)= ' + format(Wtotal , '6.3f'))\n",
    "\n",
    "# Trabalho total em uma etapa\n",
    "\n",
    "W = -R*T*np.log((V3-b)/(V1-b)) -a*(1/V3 - 1/V1)\n",
    "\n",
    "print('W em uma única etapa (J)= ' + format(W , '6.3f'))"
   ]
  },
  {
   "cell_type": "markdown",
   "metadata": {
    "id": "g2KSEobvVi0N"
   },
   "source": [
    "## Exemplo 6\n",
    "\n",
    "A equação de estado dos gases pode ser escrita na forma de uma expansão do virial, $ pV_m = RT \\left( 1 + \\frac{B}{V_{m,}} + \\frac{C}{V^2_{m}} + ...\\right)$. Repita os exercícios anteriores para compressão do $O_2$ e compare os resultados. "
   ]
  },
  {
   "cell_type": "code",
   "execution_count": null,
   "metadata": {
    "id": "Yo6BuDRrVhon"
   },
   "outputs": [],
   "source": [
    "# Resolução"
   ]
  },
  {
   "cell_type": "markdown",
   "metadata": {
    "id": "OsrLG5uTVlvF"
   },
   "source": [
    "## Exemplo 7\n",
    "\n",
    "O estado de um gás pode ser descrito pela equação de Redlich-Kwong, $ \\left (p +\\frac{a}{V_m(V_m +b)T^{1/2}} \\right) (V_m - b) = RT $. Repita os exercícios anteriores para compressão do $O_2$ e compare os resultados. Dados: a = 17.16 $L² K^{1/2} atm. mol^{-2}$, b = 0.0221 L/mol."
   ]
  },
  {
   "cell_type": "code",
   "execution_count": null,
   "metadata": {
    "id": "glGN9i0yVqpk"
   },
   "outputs": [],
   "source": [
    "# Resolução"
   ]
  },
  {
   "cell_type": "markdown",
   "metadata": {
    "id": "z7XsA2HcWIve"
   },
   "source": [
    "### Este notebook apresenta uma maneira de reolver os exercícios propostos pelo livro Físico-Química, v. 1/10 ed., Atkins, Peter W."
   ]
  },
  {
   "cell_type": "markdown",
   "metadata": {
    "id": "nc8EPiMOWkdB"
   },
   "source": [
    "##Exemplo 2B.1) \n",
    "A variação de energia interna molar quando $CaCO_3$, na forma de calcita, se converte em aragonita é de +0,21kJ/mol. Calcule a diferença entre a variação da entalpia molar e a variação de energia interna molar quando a pressão é de 1,0 bar, sabendo que as massas dos polimorfos são 2,71 g/cm³ e 2,93 g/cm³, respectivamente."
   ]
  },
  {
   "cell_type": "code",
   "execution_count": 16,
   "metadata": {
    "colab": {
     "base_uri": "https://localhost:8080/"
    },
    "executionInfo": {
     "elapsed": 255,
     "status": "ok",
     "timestamp": 1630935996193,
     "user": {
      "displayName": "Leonardo Baptista",
      "photoUrl": "https://lh3.googleusercontent.com/a-/AOh14GjRLOphTSKAaa1hk9s-yG76WfgeyIS9u1K4s3iv8A=s64",
      "userId": "16746628627498894795"
     },
     "user_tz": 180
    },
    "id": "I7vufNt1WsKR",
    "outputId": "b3c7690a-3404-44bb-aebf-6a0c9592b84a"
   },
   "outputs": [
    {
     "name": "stdout",
     "output_type": "stream",
     "text": [
      "Variação entre a Entalpia e Energia Interna (Pa*cm³ mol-¹)=-2.80e+05\n",
      "Variação entre a Entalpia e Energia Interna (J mol-¹)= -0.28\n"
     ]
    }
   ],
   "source": [
    "#Definindo variáveis\n",
    "\n",
    "DeltaUcalcilta  = 0.21    #KJmol^-1\n",
    "p = 1e5                   #Pa (Valor convertido de bar para Pa)\n",
    "Mmolar = 100.9            #g/mol\n",
    "rhoa = 2.93               #g/cm³ (densidade aragonita)\n",
    "rhoc = 2.71               #g/cm³ (densidade calcita)\n",
    "\n",
    "#Usando as equações, temos:\n",
    "#DeltaHm = U + pV\n",
    "\n",
    "#DeltaHm = Hm(aragonita) - Hm(calcita)\n",
    "#DeltaHm = {Um(a)+ pVm(a) - Um(c) + pVm(c)}\n",
    "#DeltaHm = DeltaUm + p{Vm(a) - Vm(c)}\n",
    "\n",
    "#Variação= Delta Hm-Delta Um\n",
    "\n",
    "Variação = p*Mmolar*((1/rhoa) - (1/rhoc))\n",
    "\n",
    "print(\"Variação entre a Entalpia e Energia Interna (Pa*cm³ mol-¹)=\" + format(Variação,'6.2e'))\n",
    "\n",
    "#Convertendo os de cm³ para m³, temos:\n",
    "\n",
    "var = Variação/1000000\n",
    "\n",
    "print('Variação entre a Entalpia e Energia Interna (J mol-¹)=' + format(var,'6.2f'))\n",
    "\n",
    "\n",
    "\n"
   ]
  },
  {
   "cell_type": "markdown",
   "metadata": {
    "id": "BlodM5NUXGmr"
   },
   "source": [
    "## Exemplo 2.B2) \n",
    "\n",
    "Qual a variação da entalpia molar do $N_2$ quando ele é aquecido de 25°C até 100°C? Considere $C_{p,m} (J K^{-1} mol^{-1}) = 28,58 + 3,77 \\times 10^{-3} T - \\frac{0,50 \\times 10^5}{T^2}$."
   ]
  },
  {
   "cell_type": "markdown",
   "metadata": {
    "id": "f4JlXA_PXLAW"
   },
   "source": [
    "### Solução\n",
    "\n",
    "Este problema é solucionado resolvendo a seguinte equação:\n",
    "\n",
    "$$\\Delta Hº_m = \\int_{298 K}^{373 K} C_{p,m}dT $$\n",
    "\n",
    "$$\\Delta Hº_m = \\int_{298 K}^{373 K} (28,58 + 3,77 \\times 10^{-3} T - \\frac{0,50 \\times 10^5}{T^2} )dT $$"
   ]
  },
  {
   "cell_type": "code",
   "execution_count": 17,
   "metadata": {
    "colab": {
     "base_uri": "https://localhost:8080/"
    },
    "executionInfo": {
     "elapsed": 253,
     "status": "ok",
     "timestamp": 1630936100315,
     "user": {
      "displayName": "Leonardo Baptista",
      "photoUrl": "https://lh3.googleusercontent.com/a-/AOh14GjRLOphTSKAaa1hk9s-yG76WfgeyIS9u1K4s3iv8A=s64",
      "userId": "16746628627498894795"
     },
     "user_tz": 180
    },
    "id": "RycjrSwJXPvi",
    "outputId": "36b1e57c-1de8-4af0-fbce-443feed95765"
   },
   "outputs": [
    {
     "name": "stdout",
     "output_type": "stream",
     "text": [
      " Diferença de entalpia (J K-¹ mol-¹) =2.2047e+03\n"
     ]
    }
   ],
   "source": [
    "#Definindo variáveis (Como a capacidade calorífica do N2 se altera com a temperatura, logo, usaremos a equação 1)\n",
    "\n",
    "T1 = 298        #K\n",
    "T2 = 373        #K\n",
    "a = 28.58   \n",
    "b = 3.771e-3    #K-1\n",
    "c= -0.50e5      #K²\n",
    "\n",
    "# a, b e c são valores tabelados e de acordo com cada composto estudado\n",
    "\n",
    "# Escrevendo o resultado analítico da integral:\n",
    "\n",
    "\n",
    "DeltaH = (a*(T2-T1)) + (1/2*b*(T2**2-T1**2)) - c*((1/T2)-(1/T1))\n",
    "\n",
    "print(\" Diferença de entalpia (J K-¹ mol-¹) =\" + format(DeltaH,'6.4e'))"
   ]
  },
  {
   "cell_type": "markdown",
   "metadata": {
    "id": "xANbiVhbXoKz"
   },
   "source": [
    "### Exemplo 2.C2)\n",
    "\n",
    "A entalpia-padrão de formação do $H_2 O(g)$ a 298K  é -241,82 kJ/mol. Estime seu valor a 100°C dadas as seguintes capacidades caloríficas molares, a pressão constante: $H_2 O(g):33,58 ~J K^{-1} mol^{-1}; H_2 (g): 28,84 ~J K^{-1} mol^{-1}; O_2(g): 29,37 ~J K^{-1} mol^{-1}$. Admita que as capacidades caloríficas sejam independentes da temperatura."
   ]
  },
  {
   "cell_type": "markdown",
   "metadata": {
    "id": "w5TceWzI51DX"
   },
   "source": [
    "### Solução\n",
    "\n",
    "É possível estimar a variação de entalpia em uma determinada temperatura a partir da entalpia e capacidades caloríficas em uma temperatura de referência. Nestes casos, é aplicada a Lei de Kirchhoff:\n",
    "\n",
    "$$ \\int d\\Delta H = \\int_{T_1}^{T_2} \\Delta C_{p} dT$$\n",
    "\n",
    "$$ \\Delta H(T_2) -  \\Delta H(T_1) = \\int_{T_1}^{T_2} \\Delta C_{p} dT$$\n",
    "\n",
    "Onde $\\Delta C_{p}$ é a diferença das capacidades caloríficas entre produtos e reagentes."
   ]
  },
  {
   "cell_type": "code",
   "execution_count": 1,
   "metadata": {
    "colab": {
     "base_uri": "https://localhost:8080/"
    },
    "executionInfo": {
     "elapsed": 10,
     "status": "ok",
     "timestamp": 1630945136180,
     "user": {
      "displayName": "Leonardo Baptista",
      "photoUrl": "https://lh3.googleusercontent.com/a-/AOh14GjRLOphTSKAaa1hk9s-yG76WfgeyIS9u1K4s3iv8A=s64",
      "userId": "16746628627498894795"
     },
     "user_tz": 180
    },
    "id": "lljZ5Ndg5w6t",
    "outputId": "d66fc3a4-3aa1-42c0-de53-4f2d91202c35"
   },
   "outputs": [
    {
     "name": "stdout",
     "output_type": "stream",
     "text": [
      "Entalpia-padrão de formação a 373K (J)=-242565.88\n"
     ]
    }
   ],
   "source": [
    "#Definindo variáveis\n",
    "T1 = 298          #K\n",
    "T2 = 373          #K\n",
    "cpH20 = 33.58     # J K-¹ mol-¹\n",
    "cpH2 = 28.84      # J K-¹ mol-¹\n",
    "cpO2 = 29.37      # J K-¹ mol-¹\n",
    "HH20 = -241820    # J/mol\n",
    "\n",
    "#Cálculos\n",
    "\n",
    "#Reação:  H2(g) + 1/2* O2(g) ----> H2O (g)\n",
    "\n",
    "DeltaCp = cpH20 - (cpH2 + (1/2*cpO2))\n",
    "\n",
    "DeltaH2 = HH20 + DeltaCp*(T2-T1)\n",
    "\n",
    "print(\"Entalpia-padrão de formação a 373K (J)=\" + format(DeltaH2,'6.2f'))\n"
   ]
  },
  {
   "cell_type": "markdown",
   "metadata": {
    "id": "LRttDEwp6A02"
   },
   "source": [
    "### Exercício 2A.3a)\n",
    "\n",
    "Uma reação química ocorre num vaso de seção reta uniforme de 50 cm², provido de um pistão. Em virtude de reação, o pistão se desloca 15 cm contra a pressão externa de 1 atm. Calcule o trabalho feito pelo sistema."
   ]
  },
  {
   "cell_type": "markdown",
   "metadata": {
    "id": "KV2g7Anb6DWu"
   },
   "source": [
    "### Solução \n",
    "\n",
    "O trabalho é $ W = -\\int p_{ext} dV = - p_{ext} \\Delta V $, onde a variação do volume é dado pela distância de deslocamento do pistão multiplicado pela área seção reta do mesmo."
   ]
  },
  {
   "cell_type": "code",
   "execution_count": 2,
   "metadata": {
    "colab": {
     "base_uri": "https://localhost:8080/"
    },
    "executionInfo": {
     "elapsed": 261,
     "status": "ok",
     "timestamp": 1630945209140,
     "user": {
      "displayName": "Leonardo Baptista",
      "photoUrl": "https://lh3.googleusercontent.com/a-/AOh14GjRLOphTSKAaa1hk9s-yG76WfgeyIS9u1K4s3iv8A=s64",
      "userId": "16746628627498894795"
     },
     "user_tz": 180
    },
    "id": "x05Riy8Q595G",
    "outputId": "5418c117-c702-4a7b-d49b-91c145bceb0a"
   },
   "outputs": [
    {
     "name": "stdout",
     "output_type": "stream",
     "text": [
      "Trabalho (J)=-75.994\n"
     ]
    }
   ],
   "source": [
    "# Definindo variáveis\n",
    "\n",
    "A= 0.0050     #m² (Valor já convertido de cm² para m²) \n",
    "x = 0.15      #m (Valor já convertido de cm para m)\n",
    "P = 101325    #Pa (Valor convertido de 1 atm para Pascal)\n",
    "\n",
    "#Cálculos (Como o pistão se desloca contra a pressão externa, o valor do trabalho será negativo)\n",
    "\n",
    "Volume = A*x\n",
    "\n",
    "W= - P*Volume\n",
    "\n",
    "print(\"Trabalho (J)=\" + format(W,'6.3f'))"
   ]
  },
  {
   "cell_type": "markdown",
   "metadata": {
    "id": "j_UZaZb06UCB"
   },
   "source": [
    "### Exercício 2A.5(a) \n",
    "\n",
    "Uma amostra de 1,00 mol de um gás perfeito monoatômico, Cv = 3/2R, inicialmente a $p_1$ = 1,00 atm e $T_1$ = 300 K, é aquecida reversivelmente, até 400 K, a volume constante. Calcule a pressão final, ΔU, q e w."
   ]
  },
  {
   "cell_type": "markdown",
   "metadata": {
    "id": "9h7qb5bt6WAy"
   },
   "source": [
    "### Solução\n",
    "\n",
    "Para este caso, W = 0, pois V = cte, e dU = dQ. Logo:\n",
    "\n",
    "$$ \\Delta U = Q = \\int_{T_1}^{T_2} C_V dT $$"
   ]
  },
  {
   "cell_type": "code",
   "execution_count": 3,
   "metadata": {
    "colab": {
     "base_uri": "https://localhost:8080/"
    },
    "executionInfo": {
     "elapsed": 260,
     "status": "ok",
     "timestamp": 1630945264608,
     "user": {
      "displayName": "Leonardo Baptista",
      "photoUrl": "https://lh3.googleusercontent.com/a-/AOh14GjRLOphTSKAaa1hk9s-yG76WfgeyIS9u1K4s3iv8A=s64",
      "userId": "16746628627498894795"
     },
     "user_tz": 180
    },
    "id": "AUv5LHRY6ZzX",
    "outputId": "452dfbff-3af7-45b0-8315-7be0812edd38"
   },
   "outputs": [
    {
     "name": "stdout",
     "output_type": "stream",
     "text": [
      "ΔU (J) =1247.1750\n",
      "q (J) =1247.1750\n"
     ]
    }
   ],
   "source": [
    "#Definindo variáveis\n",
    "\n",
    "p = 1   #atm\n",
    "\n",
    "T1 = 300    #K\n",
    "T2 = 400    #K\n",
    "R=8.3145    #J K-¹ mol-¹\n",
    "Cv= 3/2*R\n",
    "n = 1       #mol\n",
    "\n",
    "# Primeiro passo - Integração: dU = ∫ Cv*dT\n",
    "\n",
    "ΔU = Cv*(T2-T1)       #Após a integração.\n",
    "\n",
    "print('ΔU (J) =' + format(ΔU,'6.4f'))\n",
    "\n",
    "Q = ΔU\n",
    "\n",
    "print('q (J) =' + format(Q,'6.4f'))\n"
   ]
  },
  {
   "cell_type": "markdown",
   "metadata": {
    "id": "urfnTUw46i6d"
   },
   "source": []
  },
  {
   "cell_type": "markdown",
   "metadata": {
    "id": "C0jy6bpI6jLc"
   },
   "source": [
    "### Exercício 2B.2(a) \n",
    "\n",
    "A capacidade calorífica a pressão constante de uma amostra de gás perfeito varia com a temperatura de acordo com a expressão $C_p (J K^{-1}) = 20,17 + 0,3655 (T/K)$. Calcule q, w e ΔH, quando a temperatura é elevada de 25°C a 200°C (i) a pressão constante e (ii) a volume constante."
   ]
  },
  {
   "cell_type": "markdown",
   "metadata": {
    "id": "nkGbA-by6kMV"
   },
   "source": [
    "### Solução do problema a p = cte\n",
    "\n",
    "Sabe-se que nessas condições de pressão constante q = $ \\Delta H $. Portanto, temos realizar apenas uma integração:\n",
    "\n",
    "$$ \\Delta H = q= \\int_{T_1}^{T_2} C_p dT$$ \n",
    "\n",
    "$$ \\Delta H = q =  \\int_{298 K}^{473 K} 20,17 + 0,3665(T/K)   dT  $$\n",
    "\n",
    "O trabalho é calculado a partir da primeira Lei da Termodinâmica: $ \\Delta U = Q + W $.\n",
    "Como é um gás ideal, $ C_p - C_V = nR $, precisaremos integrar a seguinte equação, assumindo 1 mol de gás ideal:\n",
    "\n",
    "$$ \\Delta U =  \\int_{298 K}^{473 K} (20,17 + 0,3665(T/K) -R)   dT  $$"
   ]
  },
  {
   "cell_type": "markdown",
   "metadata": {
    "id": "Iqh4VhIJ6sRM"
   },
   "source": [
    "### Solução do problema a V = cte\n",
    "\n",
    "A volume constante W = 0, logo, o cálculo da entalpia se dará pela seguinte integração :\n",
    "\n",
    "$$ \\Delta H = \\int_{T_1}^{T_2} C_p dT$$ \n",
    "\n",
    "$$ \\Delta H =  \\int_{298 K}^{473 K} 20,17 + 0,3665(T/K)   dT  $$\n",
    "\n",
    "O calor será calculado a partir da primeira Lei da Termodinâmica: $ \\Delta U = Q  $.\n",
    "Como é um gás ideal, $ C_p - C_V = nR $, precisaremos integrar a seguinte equação, assumindo 1 mol de gás ideal:\n",
    "\n",
    "$$ \\Delta U =  \\int_{298 K}^{473 K} (20,17 + 0,3665(T/K) -R)   dT  $$"
   ]
  },
  {
   "cell_type": "code",
   "execution_count": 5,
   "metadata": {
    "colab": {
     "base_uri": "https://localhost:8080/"
    },
    "executionInfo": {
     "elapsed": 240,
     "status": "ok",
     "timestamp": 1630945517394,
     "user": {
      "displayName": "Leonardo Baptista",
      "photoUrl": "https://lh3.googleusercontent.com/a-/AOh14GjRLOphTSKAaa1hk9s-yG76WfgeyIS9u1K4s3iv8A=s64",
      "userId": "16746628627498894795"
     },
     "user_tz": 180
    },
    "id": "Z1nNEPrl6n9z",
    "outputId": "707e901a-cb07-4439-f4ab-bff596b2c38c"
   },
   "outputs": [
    {
     "name": "stdout",
     "output_type": "stream",
     "text": [
      "a) q (J) =28254.7562\n",
      "a) ΔH (J)=28254.7562\n",
      "a) W (J) = -4964.6175\n",
      "b) ΔH (J)=28254.7562\n",
      "b) W (J) = 0.0000\n",
      "b) q (J) = 23290.1387\n"
     ]
    }
   ],
   "source": [
    "#Definindo variáveis\n",
    "\n",
    "T2 = 473    #K  \n",
    "T1 = 298    #K  \n",
    "n = 1       #mol\n",
    "R = 8.3145  #J-¹mol-¹\n",
    "\n",
    "# (i) = Pressão Constante\n",
    "# cálculo do calor\n",
    "q = (20.17 * (T2 - T1)) + ((0.5*0.3665)*(T2**2-T1**2))\n",
    "\n",
    "print(\"a) q (J) =\" + format(q,'6.4f'))\n",
    "\n",
    "#Como temos a pressão constante, sabe-se que q = ΔH. Portanto:\n",
    "\n",
    "ΔH = q\n",
    "print (\"a) ΔH (J)=\" + format(ΔH,'6.4f'))\n",
    "\n",
    "\n",
    "# Calculando trabalho: \n",
    "\n",
    "DeltaU = (20.17-R * (T2 - T1)) + (0.5*0.3665)*(T2**2-T1**2)\n",
    "\n",
    "W = DeltaU - q\n",
    "\n",
    "print(\"a) W (J) = \" + format(W,'6.4f'))\n",
    "\n",
    "\n",
    "#(ii) Volume Constante\n",
    "\n",
    "#cálculo da entalpia\n",
    "\n",
    "ΔH = 20.17 * (T2 - T1) + (0.5*0.3665)*(T2**2-T1**2)\n",
    "\n",
    "print(\"b) ΔH (J)=\" + format(ΔH,'6.4f'))\n",
    "\n",
    "\n",
    "# O trabalho depende da variação de volume, portanto:\n",
    "\n",
    "W1 = 0\n",
    "\n",
    "print (\"b) W (J) = \" + format(W1,'6.4f'))\n",
    "\n",
    "#Calculando o calor.\n",
    "#Primeiro é obtido a variação da energia interna\n",
    "\n",
    "DeltaU = (20.17-R * (T2 - T1)) + (0.5*0.3665)*(T2**2-T1**2)\n",
    "\n",
    "q = DeltaU\n",
    "\n",
    "print (\"b) q (J) = \" + format(q,'6.4f'))\n"
   ]
  },
  {
   "cell_type": "markdown",
   "metadata": {
    "id": "pOJ1JxTe69BY"
   },
   "source": [
    "### Exercício 2B.3(b)\n",
    "\n",
    "Quando se aquecem 2 mols de $CO_2$, à pressão constante de 1,25 atm, sua temperatura passa de 250 K a 277 K. A capacidade calorífica molar de $CO_2$, a pressão constante, é 37,11 JK-¹ mol-¹. Calcule q, ΔH e ΔU."
   ]
  },
  {
   "cell_type": "markdown",
   "metadata": {
    "id": "dCTCaVbk6zL6"
   },
   "source": [
    "### Solução \n",
    "\n",
    "Sabe-se que nessas condições de pressão constante q = $ \\Delta H $. Portanto, temos realizar apenas uma integração:\n",
    "\n",
    "$$ \\Delta H = q= \\int_{250}^{277} C_p dT$$ \n",
    "\n",
    "\n",
    "Como é um gás ideal, $ C_p - C_V = nR $, precisaremos integrar a seguinte equação\n",
    "\n",
    "$$ \\Delta U =  \\int_{250}^{277} (C_p - 2R) dT   dT  $$"
   ]
  },
  {
   "cell_type": "code",
   "execution_count": 6,
   "metadata": {
    "colab": {
     "base_uri": "https://localhost:8080/"
    },
    "executionInfo": {
     "elapsed": 271,
     "status": "ok",
     "timestamp": 1630945639115,
     "user": {
      "displayName": "Leonardo Baptista",
      "photoUrl": "https://lh3.googleusercontent.com/a-/AOh14GjRLOphTSKAaa1hk9s-yG76WfgeyIS9u1K4s3iv8A=s64",
      "userId": "16746628627498894795"
     },
     "user_tz": 180
    },
    "id": "PmRqhNWp7vGy",
    "outputId": "42fe51c8-3510-49e5-d285-df65879b8556"
   },
   "outputs": [
    {
     "name": "stdout",
     "output_type": "stream",
     "text": [
      "ΔH (J) =1484.40\n",
      "q (J) =1484.40\n",
      "ΔU (J) =819.2800\n"
     ]
    }
   ],
   "source": [
    "#Definindo variáveis\n",
    "\n",
    "p = 1.25    #atm\n",
    "T1 = 250    #K\n",
    "T2 = 270    #K\n",
    "cp = 37.11  #J K-¹ mol-¹ \n",
    "n = 2       #mol\n",
    "R = 8.314   # J K-¹ mol-¹\n",
    "\n",
    "\n",
    "\n",
    "ΔH = n * cp * (T2-T1)\n",
    "\n",
    "print(\"ΔH (J) =\" + format(ΔH,'6.2f'))\n",
    "\n",
    "q = ΔH \n",
    "\n",
    "print(\"q (J) =\" + format(q,'6.2f'))\n",
    "\n",
    "# Como temos somente o Cp, podemos achar o cv através de: R = Cp - Cv\n",
    "\n",
    "Cv = cp - n*R\n",
    "\n",
    "ΔU = n * Cv * (T2 - T1)\n",
    "\n",
    "print(\"ΔU (J) =\" + format(ΔU,'6.4f'))\n"
   ]
  },
  {
   "cell_type": "markdown",
   "metadata": {
    "id": "w3seUl1p76MO"
   },
   "source": [
    "### Exercícios 2C.2(a)\n",
    "\n",
    "A entalpia-padrão de formação do etilbenzeno é -12,5 kJ/mol. Calcule a entalpia-padrão de combustão do etilbenzeno."
   ]
  },
  {
   "cell_type": "markdown",
   "metadata": {
    "id": "VdxrsIZK8ZYT"
   },
   "source": [
    "### Solução\n",
    "\n",
    "Para este exercício será necessário escrever a equação química para combustão completa do etilbenzeno e usar as tabelas de dados termodinâmicos discponíveis nos livros.\n",
    "\n",
    "Reação:\n",
    "$$ C_8 H_{18(l)} + \\frac{21}{2} O_{2(g)} \\rightarrow 8CO_{2(g)} + 5H_2 O_{(l)} $$\n",
    "\n",
    "\n",
    "$$ \\Delta_{com} H^0 = 8 \\Delta_{f} H^0(CO_{2(g)}) + 5 \\Delta_{f} H^0(H_2 O_{(l)}) - \\Delta_{f} H^0(C_8 H_{18(l)})$$  "
   ]
  },
  {
   "cell_type": "code",
   "execution_count": 7,
   "metadata": {
    "colab": {
     "base_uri": "https://localhost:8080/"
    },
    "executionInfo": {
     "elapsed": 238,
     "status": "ok",
     "timestamp": 1630945812863,
     "user": {
      "displayName": "Leonardo Baptista",
      "photoUrl": "https://lh3.googleusercontent.com/a-/AOh14GjRLOphTSKAaa1hk9s-yG76WfgeyIS9u1K4s3iv8A=s64",
      "userId": "16746628627498894795"
     },
     "user_tz": 180
    },
    "id": "f3W4deDs8dn3",
    "outputId": "02129e8a-c206-48ca-d198-3c696458d4b3"
   },
   "outputs": [
    {
     "name": "stdout",
     "output_type": "stream",
     "text": [
      "Entalpia de combustão (kJ/mol) =-4561.5\n"
     ]
    }
   ],
   "source": [
    "# Definindo variáveis\n",
    "\n",
    "H_H2O = -286   #kJ (Entalpia-padrão de formação da água - retirada de valor tabelado)\n",
    "H_CO2 =  -393  #kJ (Entalpia-padrão de formação do dióxido de carbono - retirada de valor tabelado)\n",
    "H_etilbenzeno = -12.5   #kJ\n",
    "\n",
    "# Cálculo da entalpia de combustão\n",
    "# Sabe-se que a entalpia do O2 é nula, já que é uma substância simples na forma alotrópica. Portanto, usamos apenas a entalpia do etilbenzeno para os cálculos.\n",
    "\n",
    "DeltaH_c = 8*H_CO2 + 5*H_H2O - H_etilbenzeno\n",
    "\n",
    "print(\"Entalpia de combustão (kJ/mol) =\" + format(DeltaH_c,'6.1f'))\n",
    "\n"
   ]
  },
  {
   "cell_type": "markdown",
   "metadata": {
    "id": "bF2PB9_B-gzA"
   },
   "source": [
    "## Exercício 2C3(b)\n",
    "\n",
    "A partir dos dados que são apresentados a seguir, determine a $ \\Delta_f H^0$ do diborano, $B_2H_{6(g)}$, a 298 K.\n",
    "\n",
    "$$(1)~~ B_2H_{6(g)} + 3 O_{2(g)} \\rightarrow B_2O_{3(s)} + 3 H_2O_{(g)} ~~   \\Delta H = -1941 kJ/mol$$\n",
    "\n",
    "\n",
    "$$(2)~~  2 B_{(s)} + 3/2 O_{2(g)} \\rightarrow B_2O_{3(s)} ~~  \\Delta H = -2368 kJ/mol$$\n",
    "\n",
    "\n",
    "$$(3) ~~ H_{2(g)} + 1/2 O_{2(g)} \\rightarrow H_2 O_{(g)}   ~~  \\Delta H = -241,8 kJ/mol $$\n",
    "\n",
    "\n"
   ]
  },
  {
   "cell_type": "code",
   "execution_count": null,
   "metadata": {
    "id": "7LGaoe2y8qvo"
   },
   "outputs": [],
   "source": [
    "# Definindo variáveis\n",
    "\n",
    "DH1 = -1941    #kJ/mol\n",
    "DH2 = -2368    #kJ/mol\n",
    "DH3 = -241.8   #kJ/mol\n",
    "\n",
    "# Definindo as reações\n",
    "\n",
    "# 1) Multiplicar a reação (3) por 3, a fim de igualar a equação (2) em relação ao O2.\n",
    "\n",
    "# 3H₂(g) + 3/2 O₂(g) → 3H₂O(g) \n",
    "\n",
    "DH3 = DH3*3\n",
    "\n",
    "# (2) 2 B(s) + 3/2 O₂(g) → B₂O₃(s) ΔH = -2368 kJ/mol\n",
    "\n",
    "# Inverter a reação (1):\n",
    "\n",
    "# (1) B₂O₃(s) + 3 H₂O(g) → B₂H₆(g) + 3 O₂(g)             HΔ = 1941 kJ/mol\n",
    "\n",
    "DH1invertido =  1941 #kJ/mol\n",
    "\n",
    "# O próximo passado é cortar as reações.\n",
    "\n",
    "#3H₂(g) + 3/2 O₂(g) → 3H₂O(g)\n",
    "#2 B(s) + 3/2 O₂(g) → B₂O₃(s)\n",
    "#B₂O₃(s) + 3 H₂O(g) → B₂H₆(g) + 3 O₂(g)\n",
    "#-------------------------------------------\n",
    "\n",
    "# 2B + 3 H₂ → B₂H₆    \n",
    "\n",
    "DHdiborano = DH3 + DH2 + DH1invertido\n",
    "\n",
    "print(\"Entalpia-padrão de formação do B₂H₆ (kJ/mol)=\" + format(DHdiborano,'6.4f'))\n"
   ]
  },
  {
   "cell_type": "markdown",
   "metadata": {
    "id": "IoOnBGAg-nmb"
   },
   "source": [
    "## Problemas 2C.1) \n",
    "\n",
    "Uma amostra de 0,727 g do áçucar D-ribose ($C_5H_{10}O_5$) foi posta numa bomba calorimétrica e queimada na presença de oxigênio, em excesso. A temperatura se elevou de 0,910 K. Numa outra experiência, no mesmo calorímetro, a combustão foi de 0,825 g de ácido benzóico, cuja energia interna de combustão é -3251 kJ/mol, provocou uma elevação de temperatura de 1,940 K. Calcule a entalpia de formação da D-ribose. "
   ]
  },
  {
   "cell_type": "code",
   "execution_count": null,
   "metadata": {
    "id": "2Qst0VKh-sgb"
   },
   "outputs": [],
   "source": [
    "#Definindo variáveis\n",
    "\n",
    "m2 = 0.727      #g\n",
    "m1 = 0.825      #g\n",
    "T2 = 0.910      #K\n",
    "T1 = 1.940      #K\n",
    "qv = -3251      #kJ/mol\n",
    "MM1 = 122.12    #K\n",
    "MM2 = 150.13    #K\n",
    "\n",
    "#Cálculos :  Iniciamos com os valores do ácido benzóico, já que temos o valor da energia interna.\n",
    "\n",
    "n1 = m1 / MM1\n",
    "\n",
    "# Delta U = q * n\n",
    "\n",
    "DU = qv * n1\n",
    "\n",
    "\n",
    "#Cálculo para encontrar a  capacidade calorífica que posteriormente será usado para encontrarmos o ΔU da D-ribose.\n",
    "\n",
    "C = DU / T1\n",
    "\n",
    "\n",
    "#Para D-ribose:\n",
    "\n",
    "DU_rib = C* T2\n",
    "\n",
    "print ('energia interna de combustão da amostra de D-Ribose(kJ) =' + format(DU_rib,'6.4f'))\n",
    "\n",
    "n2 = m2 / MM2\n",
    "\n",
    "DUr = DU_rib / n2\n",
    "print(\"A energia interna de combustão da D-Ribose (kJ/mol) =\" + format(DUr,'6.4f'))\n",
    "\n",
    "#Combustão da D-ribose:  C5H10O5 +   5O₂    --->  5CO₂  +   5H₂O\n",
    "\n",
    "# Como é um sólido, vamos assumir que DeltaU = Delta H\n",
    "\n",
    "# A partir, vamos separar as entalpias de formações para calcularmos a entalpia de formação:\n",
    "\n",
    "# 1)  5CO₂(g) + 5H₂O(l)  ------>   C5H10O5(s) +  5O2(g) \n",
    "DHf1 = 2130    #kJ/mol\n",
    "\n",
    "# 2) 5C(s) + 5O₂(g)    ------> 5CO₂(g)           (Esta reação já está multiplicada por 5 para cortarmos na reação posteriomente)\n",
    "DHf2 = -391.51    #kJ/mol\n",
    "DHf2 = 5 * DHf2 \n",
    "\n",
    "# 3) 5H₂(g) + 5/2O₂(g)  ------> 5H₂O (l)           (Esta reação já está multiplicada por 5 para cortarmos na reação posteriomente)\n",
    "DHf3 = -285.83    #kJ/mol\n",
    "DHf3 = 5 * DHf3\n",
    "\n",
    "# ------------------------------------------------\n",
    "\n",
    "#5C + 5H₂ + 5/2 O₂ -----> C5H10O5\n",
    "\n",
    "DHff = DHf2 + DHf3 + DHf1\n",
    "\n",
    "print('Entalpia de Formação do D-Ribose (kJ/mol) = ' + format(DHff,'6.4f'))\n",
    "\n"
   ]
  },
  {
   "cell_type": "markdown",
   "metadata": {
    "id": "ChJE0Ozl-wJE"
   },
   "source": [
    "## Problemas 2.B1) \n",
    "\n",
    "Os dados a seguir mostram como a capacidade calorífica molar padrão a pressão constante do dióxido de enxofre varia com a temperatura. De quanto aumenta a entalpia molar padrão do $SO_{2(g)}$ quando a temperatura varia de 298,15 até 1500 K?\n",
    "\n",
    "|   |   |   |   |    |   |    |    |\n",
    "|----|----|----|----|----|----|----|----|\n",
    "|T/K | 300 | 500 | 700 | 900 | 1100 | 1300 | 1500\n",
    "|$C_{p,m} (J K^{-1} mol^{-1})$    | 39,909 | \t46,490 | 50,829| 53,407| 54,993 |56,033|56,759\n"
   ]
  },
  {
   "cell_type": "markdown",
   "metadata": {
    "id": "qV4SGlwv_FGK"
   },
   "source": [
    "## Solução\n",
    "\n",
    "Em primeiro lugar é preciso encontrar uma equação que relacione Cp com temperatura, pois esta é função de T no intervalo de valores estudado. A princípio uma regressão polinomial será usada para encontrar a relação entre Cp e T."
   ]
  },
  {
   "cell_type": "code",
   "execution_count": 10,
   "metadata": {
    "colab": {
     "base_uri": "https://localhost:8080/"
    },
    "executionInfo": {
     "elapsed": 245,
     "status": "ok",
     "timestamp": 1630946528685,
     "user": {
      "displayName": "Leonardo Baptista",
      "photoUrl": "https://lh3.googleusercontent.com/a-/AOh14GjRLOphTSKAaa1hk9s-yG76WfgeyIS9u1K4s3iv8A=s64",
      "userId": "16746628627498894795"
     },
     "user_tz": 180
    },
    "id": "5OaSa_vW_AlU",
    "outputId": "1bb14014-e99f-4a2e-d897-1e5f8c083bdc"
   },
   "outputs": [
    {
     "name": "stdout",
     "output_type": "stream",
     "text": [
      "           3             2\n",
      "1.091e-08 x - 4.368e-05 x + 0.06222 x + 24.9\n"
     ]
    }
   ],
   "source": [
    "# Escrevendo T e Cp como vetores\n",
    "\n",
    "T = np.array([300,500,700,900,1100,1300,1500])\n",
    "cp = np.array([39.909,46.490,50.829,53.407,54.993,56.033,56.759])\n",
    "\n",
    "\n",
    "#Regressão de um polinômio de terceiro grau\n",
    "\n",
    "deg = 3\n",
    "z = np.polyfit(T, cp, deg)\n",
    "y = np.poly1d(z)\n",
    "\n",
    "#impressão dos resultados da regressão\n",
    "\n",
    "print( y)\n"
   ]
  },
  {
   "cell_type": "code",
   "execution_count": 11,
   "metadata": {
    "colab": {
     "base_uri": "https://localhost:8080/",
     "height": 282
    },
    "executionInfo": {
     "elapsed": 276,
     "status": "ok",
     "timestamp": 1630946558521,
     "user": {
      "displayName": "Leonardo Baptista",
      "photoUrl": "https://lh3.googleusercontent.com/a-/AOh14GjRLOphTSKAaa1hk9s-yG76WfgeyIS9u1K4s3iv8A=s64",
      "userId": "16746628627498894795"
     },
     "user_tz": 180
    },
    "id": "TZzNCwrJ_WUJ",
    "outputId": "16d00a8e-df8b-404a-8ba0-455b475c9ea4"
   },
   "outputs": [
    {
     "data": {
      "image/png": "[encoded data removed]",
      "text/plain": [
       "<Figure size 432x288 with 1 Axes>"
      ]
     },
     "metadata": {
      "needs_background": "light"
     },
     "output_type": "display_data"
    }
   ],
   "source": [
    "#Construção do gráfico para visualizar a qualidade do ajuste\n",
    "plt.plot(T, cp , \".\")\n",
    "plt.plot(T, y(T), \"-\")\n",
    "plt.ylabel('Cp (J/K mol)')\n",
    "plt.xlabel('T (K)')\n",
    "plt.show()"
   ]
  },
  {
   "cell_type": "code",
   "execution_count": 12,
   "metadata": {
    "colab": {
     "base_uri": "https://localhost:8080/"
    },
    "executionInfo": {
     "elapsed": 239,
     "status": "ok",
     "timestamp": 1630946720664,
     "user": {
      "displayName": "Leonardo Baptista",
      "photoUrl": "https://lh3.googleusercontent.com/a-/AOh14GjRLOphTSKAaa1hk9s-yG76WfgeyIS9u1K4s3iv8A=s64",
      "userId": "16746628627498894795"
     },
     "user_tz": 180
    },
    "id": "RJr0pWPD_knc",
    "outputId": "7fa613c6-e714-411d-94c9-a9b3e619c9f2"
   },
   "outputs": [
    {
     "name": "stdout",
     "output_type": "stream",
     "text": [
      "DeltaH (J)=62199.43\n"
     ]
    }
   ],
   "source": [
    "# Realizar a integração da função obtida no intervalo de temperaturas do problema.\n",
    "# O resultado analítico da integração está escrito abaixo\n",
    "\n",
    "T2 = 1500 #K\n",
    "T1 = 298.15   #K\n",
    "\n",
    "\n",
    "DeltaH = z[0]/4*(T2**4 - T1**4) + z[1]/3*(T2**3-T1**3) + z[2]/2*(T2**2-T1**2) + z[3]*(T2-T1)\n",
    "\n",
    "print(\"DeltaH (J)=\" + format(DeltaH,'6.2f'))"
   ]
  },
  {
   "cell_type": "markdown",
   "metadata": {
    "id": "734WuaoV_SY7"
   },
   "source": [
    "## Problemas) 2B.2) \n",
    "\n",
    "Os dados a seguir mostram como a capacidade calorífica molar padrão a pressão constante da amônia varia com a temperatura. Ajuste uma expressão com a forma $ C_{p,m} = a + bT + \\frac{c}{T^2}$ aos dados, e determine os valores de a, b e c. Verifique se não seria melhor expressar os dados na forma $C_{p,m} = \\alpha + \\beta T + \\gamma T^2$, e determine os valores desses coeficientes.\n",
    "\n",
    "|   |   |   |   |    |   |    |    |    |\n",
    "|---|---|---|---|---|---|---|---|---|\n",
    "|T/K | 300 | 400 | 500 | 600 | 700 | 800 | 900 | 1000\n",
    "|Cp,m (J K-¹mol-¹)    | 35,678 | \t38,674 | 41,994| 45,229|48,269 |51,112|\t53,769| 56,244"
   ]
  },
  {
   "cell_type": "code",
   "execution_count": 14,
   "metadata": {
    "colab": {
     "base_uri": "https://localhost:8080/"
    },
    "executionInfo": {
     "elapsed": 267,
     "status": "ok",
     "timestamp": 1630947271952,
     "user": {
      "displayName": "Leonardo Baptista",
      "photoUrl": "https://lh3.googleusercontent.com/a-/AOh14GjRLOphTSKAaa1hk9s-yG76WfgeyIS9u1K4s3iv8A=s64",
      "userId": "16746628627498894795"
     },
     "user_tz": 180
    },
    "id": "edNLF6evAJxa",
    "outputId": "762ce1ba-3226-4d02-e4e2-4deebf06fec6"
   },
   "outputs": [
    {
     "name": "stdout",
     "output_type": "stream",
     "text": [
      "Cºp,m =  2.880e+01 + 2.790e-02T -1.49041e+05/T²\n"
     ]
    },
    {
     "data": {
      "text/plain": [
       "array([ 2.87957598e+01,  2.78982105e-02, -1.49041155e+05])"
      ]
     },
     "execution_count": 14,
     "metadata": {},
     "output_type": "execute_result"
    }
   ],
   "source": [
    "T= np.array ([300,400,500,600,700,800,900,1000])\n",
    "cp = np.array ([35.678,38.674,41.994,45.229,48.269,51.112,53.769,56.244])\n",
    "\n",
    "\n",
    "# Definir a função que será ajustada usando o formato\n",
    "# python para descrever funções\n",
    "\n",
    "def func(T, a, b, c):\n",
    "\n",
    "    return a + b*T + c/T**2\n",
    "\n",
    "# ajuste da função usando mínimos quadrados\n",
    "# popt são os parâmetros do modelo obtidos após ajuste\n",
    "# pcov é a matriz de covariância de popt. A partir dela pode ser calculado o desvio padrão de cada parâmetro do ajuste\n",
    "popt, pcov = curve_fit(func, T, cp)\n",
    "\n",
    "\n",
    "print('Cºp,m = ' + format(popt[0] , ' 6.3e') + ' +' + format(popt[1] , ' 6.3e') + 'T ' + format(popt[2] , ' 6.5e') + '/T²')   \n",
    "\n",
    "#imprimir só os coeficientes na forma de vetor\n",
    "popt\n",
    "\n"
   ]
  },
  {
   "cell_type": "code",
   "execution_count": 15,
   "metadata": {
    "colab": {
     "base_uri": "https://localhost:8080/"
    },
    "executionInfo": {
     "elapsed": 230,
     "status": "ok",
     "timestamp": 1630947305631,
     "user": {
      "displayName": "Leonardo Baptista",
      "photoUrl": "https://lh3.googleusercontent.com/a-/AOh14GjRLOphTSKAaa1hk9s-yG76WfgeyIS9u1K4s3iv8A=s64",
      "userId": "16746628627498894795"
     },
     "user_tz": 180
    },
    "id": "OqoVsl7CCNqD",
    "outputId": "bd97b45a-546c-4113-dbe1-f85aa37b0cab"
   },
   "outputs": [
    {
     "name": "stdout",
     "output_type": "stream",
     "text": [
      "            2\n",
      "-6.495e-06 x + 0.03818 x + 24.64\n",
      "[-6.49464286e-06  3.81848214e-02  2.46359464e+01]\n"
     ]
    }
   ],
   "source": [
    "# ajustando um polinômio de segunda grau\n",
    "\n",
    "deg = 2\n",
    "\n",
    "z = np.polyfit(T,cp,deg)\n",
    "y = np.poly1d(z)\n",
    "\n",
    "\n",
    "print(y)\n",
    "print(z)\n",
    "\n",
    "# Cp = a + b*T + c*T**2\n"
   ]
  },
  {
   "cell_type": "code",
   "execution_count": 16,
   "metadata": {
    "colab": {
     "base_uri": "https://localhost:8080/",
     "height": 279
    },
    "executionInfo": {
     "elapsed": 292,
     "status": "ok",
     "timestamp": 1630947319284,
     "user": {
      "displayName": "Leonardo Baptista",
      "photoUrl": "https://lh3.googleusercontent.com/a-/AOh14GjRLOphTSKAaa1hk9s-yG76WfgeyIS9u1K4s3iv8A=s64",
      "userId": "16746628627498894795"
     },
     "user_tz": 180
    },
    "id": "9EkksAC-CRHi",
    "outputId": "430ec45b-577c-4028-cdd6-bdcbd21740cb"
   },
   "outputs": [
    {
     "data": {
      "image/png": "[encoded data removed]",
      "text/plain": [
       "<Figure size 432x288 with 1 Axes>"
      ]
     },
     "metadata": {
      "needs_background": "light"
     },
     "output_type": "display_data"
    }
   ],
   "source": [
    "# Vamos construiri os gráficos para ver a diferença nos ajustes\n",
    "\n",
    "plt.plot(T, cp , \"*\") #insere os pontos\n",
    "plt.plot(T, y(T), \"-\", color='blue', linewidth=2, label='Primeiro ajuste') #faz a curva do primeiro ajuste\n",
    "plt.plot(T,func(T,*popt), color='red', linewidth=2, label='Segundo ajuste') #faz a curva do segundo ajuste ajuste\n",
    "plt.legend(loc='best') #mostra as legendas\n",
    "\n",
    "#título dos eixos\n",
    "plt.ylabel('cp (J K-¹mol-¹)')\n",
    "plt.xlabel('T (K)')\n",
    "plt.show()"
   ]
  },
  {
   "cell_type": "markdown",
   "metadata": {
    "id": "UaMchZKnAFb2"
   },
   "source": [
    "Uma análise visual dos ajustes mostra que ambas as funções são equivalentes. Mas um teste estatístico pode indicar qual das funções se ajusta melhor aos dados experimentais."
   ]
  },
  {
   "cell_type": "markdown",
   "metadata": {
    "id": "nACwbMHFCnsB"
   },
   "source": [
    "## Problemas 2C.7\n",
    "\n",
    "Às vezes é mais adequado exprimir a dependência que a capacidade calorífica tem em relação à temperatura pela expressão empírica $C_{p,m} = \\alpha + \\beta T + \\gamma T^2$. Utilize esta expressão para determinar a entalpia padrão de combustão do metano a 350 K. Use os seguintes dados:\n",
    "\n",
    "|   |   |   |   |\n",
    "|---|---|---|---\n",
    "|Coeficientes | $\\alpha (J K^{-1} mol^{-1})$ | $ \\beta (mJ K^{-2} mol^{-1})$ | $ \\gamma (\\mu J K^{-3} mol^{-1})$ |\n",
    "|$CH_{4(g)}$   | 14,16| 75,5|–17,99| \n",
    "|$CO_{2 (g)}$  | 26,86| 6,97|-0,82|\n",
    "|$O_{2 (g)}$   | 25,72| 12,98| -3,862|\n",
    "|$H_2O_{(g)}$  | 30,36|9,61|1,184"
   ]
  },
  {
   "cell_type": "markdown",
   "metadata": {
    "id": "CYhCpJosCy3_"
   },
   "source": [
    "### Solução\n",
    "\n",
    "É possível estimar a variação de entalpia em uma determinada temperatura a partir da entalpia e capacidades caloríficas em uma temperatura de referência. Nestes casos, é aplicada a Lei de Kirchhoff:\n",
    "\n",
    "$$ \\int d\\Delta H = \\int_{T_1}^{T_2} \\Delta C_{p} dT$$\n",
    "\n",
    "$$ \\Delta H(T_2) -  \\Delta H(T_1) = \\int_{T_1}^{T_2} \\Delta C_{p} dT$$\n",
    "\n",
    "Onde $\\Delta C_{p}$ é a diferença das capacidades caloríficas entre produtos e reagentes. Neste caso, devemos calcular inicialmente a entalpia de combustão a 298K a partir de dados tabelados e depois aplicar a Lei de Kirchhoff."
   ]
  },
  {
   "cell_type": "code",
   "execution_count": 17,
   "metadata": {
    "colab": {
     "base_uri": "https://localhost:8080/"
    },
    "executionInfo": {
     "elapsed": 239,
     "status": "ok",
     "timestamp": 1630947511852,
     "user": {
      "displayName": "Leonardo Baptista",
      "photoUrl": "https://lh3.googleusercontent.com/a-/AOh14GjRLOphTSKAaa1hk9s-yG76WfgeyIS9u1K4s3iv8A=s64",
      "userId": "16746628627498894795"
     },
     "user_tz": 180
    },
    "id": "MYrMH0ukCgIR",
    "outputId": "128f98f8-ce0d-4316-f7f9-0a958334d7d2"
   },
   "outputs": [
    {
     "name": "stdout",
     "output_type": "stream",
     "text": [
      "ΔH(298)=-891.0kJ/mol\n",
      "Variação de Entalpia em 350 K = 119568.61kJ/mol\n"
     ]
    }
   ],
   "source": [
    "# Definindo variáveis\n",
    "\n",
    "T2= 350    #K\n",
    "T1= 298    #K \n",
    "\n",
    "\n",
    "# Determinando o ΔH (298):    CH4  + 2O2  ----> CO2  + 2H2O\n",
    "\n",
    "# ΔH(CH4)= -75\n",
    "# ΔH(O2)= 0\n",
    "# ΔH(CO2)= -394   \n",
    "# ΔH(H2O)= -286 \n",
    "  \n",
    "# ΔH(298) = (ΔHf(CO2) + 2ΔHf(H2O)) - ΔHf(CH4)\n",
    "\n",
    "DeltaH298 = (-394+(-2*286)) - (-75)\n",
    "\n",
    "print(\"ΔH(298)=\" + format(DeltaH298,'6.1f')+ \"kJ/mol\")\n",
    "\n",
    "\n",
    "# Faremos agora a diferença entre os coeficientes \n",
    "\n",
    "\n",
    "# Para CH4:\n",
    "\n",
    "a1 = 14.16   #J K-¹mol-¹\n",
    "b1 = 75.5e-3     # mJ K-² mol-¹    (Como mili equivale a 10^-3, inserimos no coeficiente)\n",
    "c1 = -17.99e-6   #μJ K-³ mol-¹      (Como micro equivale a 10^-6, inserimos no coeficiente)\n",
    "\n",
    "#Para CO2:\n",
    "\n",
    "a2 = 26.86        #J K-¹mol-¹\n",
    "b2 = 6.97e-3      # mJ K-² mol-¹  \n",
    "c2 = -0.82e-6     #μJ K-³ mol-¹\n",
    "\n",
    "\n",
    "#Para O2:\n",
    "\n",
    "a3 = 25.7   #J K-¹mol-¹\n",
    "b3 = 12.98e-3    # mJ K-² mol-¹  \n",
    "c3 = -3.862e-6    #μJ K-³ mol-¹\n",
    "\n",
    "#Para H2O:\n",
    "\n",
    "a4 = 30.36    #J K-¹mol-¹\n",
    "b4 = 9.61e-3  #J K-¹mol-¹\n",
    "c4 = 1.184e-6 #J K-¹mol-¹\n",
    "\n",
    "# ΔCp = Cp produtos - Cp reagentes\n",
    "\n",
    "# ΔCp = Cp (CO2) + 2Cp (H2O) - {Cp(CH4) + 2Cp (O2)} \n",
    "\n",
    "\n",
    "Da = 2*a4 + a2 - a1 - 2*a3\n",
    "\n",
    "Db = 2*b4 + b2 - b1 - 2*b3\n",
    "\n",
    "Dc = 2*c4 + c2 - c1 - 2*c3\n",
    "\n",
    "\n",
    "\n",
    "#Integração de ΔCp em função da Temperatura.\n",
    "\n",
    "# ΔH (350) = ΔHc(298) + [∫ΔCp dT] \n",
    "\n",
    "DH = DeltaH298*1000 + Da*(T2-T1) + Db/2*(T2**2-T1**2) + Da/3*(T2**3-T1**3)\n",
    "\n",
    "print(\"Variação de Entalpia em 350 K = \" + format(DH/1000,'6.2f') + \"kJ/mol\")\n"
   ]
  }
 ],
 "metadata": {
  "colab": {
   "authorship_tag": "ABX9TyOMsa1zzKnRTxOtDLjbLpJn",
   "name": "Primeira Lei Atualizado.ipynb",
   "provenance": []
  },
  "kernelspec": {
   "display_name": "Python 3",
   "language": "python",
   "name": "python3"
  },
  "language_info": {
   "codemirror_mode": {
    "name": "ipython",
    "version": 3
   },
   "file_extension": ".py",
   "mimetype": "text/x-python",
   "name": "python",
   "nbconvert_exporter": "python",
   "pygments_lexer": "ipython3",
   "version": "3.8.10"
  }
 },
 "nbformat": 4,
 "nbformat_minor": 1
}
